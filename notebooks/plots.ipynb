{
 "metadata": {
  "language_info": {
   "codemirror_mode": {
    "name": "ipython",
    "version": 3
   },
   "file_extension": ".py",
   "mimetype": "text/x-python",
   "name": "python",
   "nbconvert_exporter": "python",
   "pygments_lexer": "ipython3",
   "version": "3.8.5-final"
  },
  "orig_nbformat": 2,
  "kernelspec": {
   "name": "python3",
   "display_name": "Python 3",
   "language": "python"
  }
 },
 "nbformat": 4,
 "nbformat_minor": 2,
 "cells": [
  {
   "cell_type": "code",
   "execution_count": null,
   "metadata": {},
   "outputs": [],
   "source": [
    "import matplotlib.pyplot as plt\n",
    "\n",
    "measurements['ElapsedTimeSeconds'] = 1e-9*(measurements['GpsTimeNanos'] - measurements['GpsTimeNanos'].iloc[0])\n",
    "\n",
    "# create a color palette\n",
    "for satellite in measurements['SvName'].unique():\n",
    "    one_sat = measurements.loc[measurements['SvName'] == satellite]\n",
    "    plt.plot(one_sat['ElapsedTimeSeconds'], one_sat['Cn0DbHz'])\n",
    "\n",
    "# Add titles\n",
    "plt.title('Cn0DbHz vs. Time')\n",
    "plt.xlabel(\"Time\")\n",
    "plt.ylabel('Cn0DbHz')"
   ]
  },
  {
   "cell_type": "code",
   "execution_count": 6,
   "metadata": {},
   "outputs": [
    {
     "output_type": "stream",
     "name": "stdout",
     "text": [
      "Index(['time', 'SVclockBias', 'SVclockDrift', 'SVclockDriftRate', 'IODE',\n       'Crs', 'DeltaN', 'M0', 'Cuc', 'Eccentricity', 'Cus', 'sqrtA', 'Toe',\n       'Cic', 'Omega0', 'Cis', 'Io', 'Crc', 'omega', 'OmegaDot', 'IDOT',\n       'CodesL2', 'GPSWeek', 'L2Pflag', 'SVacc', 'health', 'TGD', 'IODC',\n       'TransTime', 'FitIntvl', 'source', 'Leap Seconds'],\n      dtype='object')\n"
     ]
    }
   ],
   "source": [
    "import gnssutils\n",
    "import datetime\n",
    "\n",
    "manager = gnssutils.EphemerisManager()\n",
    "data = manager.get_ephemeris(datetime.datetime.now(datetime.timezone.utc), ['G01'])\n",
    "print(data.columns)"
   ]
  },
  {
   "cell_type": "code",
   "execution_count": null,
   "metadata": {},
   "outputs": [],
   "source": [
    "timestamp = datetime(2020, 12, 4,3,43,30, 999999)\n",
    "leap_seconds = 18\n",
    "# this function converts a UTC timestamp into GPS time\n",
    "def weekseconds(timestamp, leap_seconds):\n",
    "    weekday = timestamp.weekday() + 1\n",
    "    if weekday == 7:\n",
    "        weekday = 0\n",
    "    return 86400 * weekday + 3600 * timestamp.hour + 60 * timestamp.minute + timestamp.second + leap_seconds + 1e-6*timestamp.microsecond"
   ]
  }
 ]
}