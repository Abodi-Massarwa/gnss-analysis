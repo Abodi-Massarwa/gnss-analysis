{
 "cells": [
  {
   "source": [
    "This notebook was written by [Mitchell Johnson](https://www.johnsonmitchelld.com/). The source code, as well as the gnssutils Python package containing the EphemerisManager module, can be found on [Github](https://github.com/johnsonmitchelld/gnss-analysis)."
   ],
   "cell_type": "markdown",
   "metadata": {}
  },
  {
   "cell_type": "code",
   "execution_count": 1,
   "metadata": {},
   "outputs": [],
   "source": [
    "import sys, os, csv\n",
    "import pandas as pd\n",
    "import numpy as np\n",
    "import navpy\n",
    "sys.path.insert(0, '..')\n",
    "from gnssutils import EphemerisManager"
   ]
  },
  {
   "source": [
    "Let's read in a GNSS log file, format the satellite IDs to match up with the RINEX 3.0 standard, and convert the columns we need to calculate receiver position to numeric values. We'll also filter the data so that we're only working with GPS measurements to simplify the rest of the analysis."
   ],
   "cell_type": "markdown",
   "metadata": {}
  },
  {
   "cell_type": "code",
   "execution_count": 2,
   "metadata": {
    "tags": []
   },
   "outputs": [
    {
     "output_type": "stream",
     "name": "stdout",
     "text": [
      "Index(['ElapsedRealtimeMillis', 'TimeNanos', 'LeapSecond',\n       'TimeUncertaintyNanos', 'FullBiasNanos', 'BiasNanos',\n       'BiasUncertaintyNanos', 'DriftNanosPerSecond',\n       'DriftUncertaintyNanosPerSecond', 'HardwareClockDiscontinuityCount',\n       'Svid', 'TimeOffsetNanos', 'State', 'ReceivedSvTimeNanos',\n       'ReceivedSvTimeUncertaintyNanos', 'Cn0DbHz',\n       'PseudorangeRateMetersPerSecond',\n       'PseudorangeRateUncertaintyMetersPerSecond',\n       'AccumulatedDeltaRangeState', 'AccumulatedDeltaRangeMeters',\n       'AccumulatedDeltaRangeUncertaintyMeters', 'CarrierFrequencyHz',\n       'CarrierCycles', 'CarrierPhase', 'CarrierPhaseUncertainty',\n       'MultipathIndicator', 'SnrInDb', 'ConstellationType', 'AgcDb',\n       'CarrierFrequencyHz', 'Constellation', 'SvName'],\n      dtype='object')\n"
     ]
    }
   ],
   "source": [
    "\n",
    "input_filepath = '/home/johnsonmitchelld/dev/gnss-analysis/data/personal/gnss_log_2020_12_02_17_19_39.txt'\n",
    "\n",
    "with open(input_filepath) as csvfile:\n",
    "    reader = csv.reader(csvfile)\n",
    "    for row in reader:\n",
    "        if row[0][0] == '#':\n",
    "            if 'Fix' in row[0]:\n",
    "                android_fixes = [row[1:]]\n",
    "            elif 'Raw' in row[0]:\n",
    "                measurements = [row[1:]]\n",
    "        else:\n",
    "            if row[0] == 'Fix':\n",
    "                android_fixes.append(row[1:])\n",
    "            elif row[0] == 'Raw':\n",
    "                measurements.append(row[1:])\n",
    "\n",
    "android_fixes = pd.DataFrame(android_fixes[1:], columns = android_fixes[0])\n",
    "measurements = pd.DataFrame(measurements[1:], columns = measurements[0])\n",
    "\n",
    "# Format satellite IDs\n",
    "measurements.loc[measurements['Svid'].str.len() == 1, 'Svid'] = '0' + measurements['Svid']\n",
    "measurements.loc[measurements['ConstellationType'] == '1', 'Constellation'] = 'G'\n",
    "measurements.loc[measurements['ConstellationType'] == '3', 'Constellation'] = 'R'\n",
    "measurements['SvName'] = measurements['Constellation'] + measurements['Svid']\n",
    "\n",
    "# Remove all non-GPS measurements\n",
    "measurements = measurements.loc[measurements['Constellation'] == 'G']\n",
    "\n",
    "# Convert columns to numeric representation\n",
    "measurements['Cn0DbHz'] = pd.to_numeric(measurements['Cn0DbHz'])\n",
    "measurements['TimeNanos'] = pd.to_numeric(measurements['TimeNanos'])\n",
    "measurements['FullBiasNanos'] = pd.to_numeric(measurements['FullBiasNanos'])\n",
    "measurements['ReceivedSvTimeNanos']  = pd.to_numeric(measurements['ReceivedSvTimeNanos'])\n",
    "measurements['PseudorangeRateMetersPerSecond'] = pd.to_numeric(measurements['PseudorangeRateMetersPerSecond'])\n",
    "measurements['ReceivedSvTimeUncertaintyNanos'] = pd.to_numeric(measurements['ReceivedSvTimeUncertaintyNanos'])\n",
    "if 'BiasNanos' in measurements.columns:\n",
    "    measurements['BiasNanos'] = pd.to_numeric(measurements['BiasNanos'])\n",
    "else:\n",
    "    measurements['BiasNanos'] = 0\n",
    "if 'TimeOffsetNanos' in measurements.columns:\n",
    "    measurements['TimeOffsetNanos'] = pd.to_numeric(measurements['TimeOffsetNanos'])\n",
    "else:\n",
    "    measurements['TimeOffsetNanos'] = 0\n",
    "\n",
    "print(measurements.columns)"
   ]
  },
  {
   "source": [
    "Those with experience in GNSS data processing will probably notice that we're missing a few important fields for calculating receiver position.\n",
    "\n",
    "First, we'll calculate the GPS time in nanoseconds using the equations from Section 2.4 of the European Global Navigation Satellite Systems Agency's [white paper](https://www.gsa.europa.eu/system/files/reports/gnss_raw_measurement_web_0.pdf). Then we'll convert it to a normal Unix timestamp using the Pandas.to_datetime() function with the GPS reference epoch.\n",
    "\n",
    "**An aside on timestamps:** note that the UTC flag is set to True in the Pandas.to_datetime() method. The timestamp column needs to be timezone-aware, because we're eventually going to plug it into the Python datetime library and use it to format the ephemeris filepath for download from NASA. The EphemerisManager module compares the timestamp with the current time to determine which files to retrieve. Since the datetime library defaults to local time on some systems, it was necessary to keep everything timezone-aware to avoid mix-ups.\n",
    "\n",
    "This nomenclature is a bit confusing since we're using the method to create a column called UnixTime. Unix time and UTC are technically in the same time zone, but UTC includes leap seconds, while Unix time does not. Since we're creating a timestamp from the number of seconds elapsed since the GPS epoch, the resulting timestamp could differ from UTC by some number of leap seconds. That's close enough to ensure we get the correct ephemeris file, and it won't affect the actual position calculations because we don't use the UnixTime column for those.\n",
    "\n",
    "Finally, let's split the data into measurement epochs. We do this by creating a new column and setting it to 1 whenever the difference between a timestamp and the previous timestamp is greater than 200 milliseconds using the DataFrame.shift() command. Then we use the cumsum method to generate unique numbers for the individual epochs."
   ],
   "cell_type": "markdown",
   "metadata": {}
  },
  {
   "cell_type": "code",
   "execution_count": 3,
   "metadata": {},
   "outputs": [],
   "source": [
    "from datetime import datetime, timezone, timedelta\n",
    "\n",
    "measurements['GpsTimeNanos'] = measurements['TimeNanos'] - (measurements['FullBiasNanos'] - measurements['BiasNanos'])\n",
    "gpsepoch = datetime(1980, 1, 6, 0, 0, 0)\n",
    "measurements['UnixTime'] = pd.to_datetime(measurements['GpsTimeNanos'], utc = True, origin=gpsepoch)\n",
    "measurements['UnixTime'] = measurements['UnixTime']\n",
    "\n",
    "# Split data into measurement epochs\n",
    "measurements['Epoch'] = 0\n",
    "measurements.loc[measurements['UnixTime'] - measurements['UnixTime'].shift() > timedelta(milliseconds=200), 'Epoch'] = 1\n",
    "measurements['Epoch'] = measurements['Epoch'].cumsum()"
   ]
  },
  {
   "source": [
    "Next let's calculate the estimated signal transmission and reception times. From those we'll calculate the pseudorange for each satellite in both seconds and meters."
   ],
   "cell_type": "markdown",
   "metadata": {}
  },
  {
   "cell_type": "code",
   "execution_count": 4,
   "metadata": {},
   "outputs": [],
   "source": [
    "WEEKSEC = 604800\n",
    "LIGHTSPEED = 2.99792458e8\n",
    "\n",
    "# This should account for rollovers since it uses a week number specific to each measurement\n",
    "\n",
    "measurements['tRxGnssNanos'] = measurements['TimeNanos'] + measurements['TimeOffsetNanos'] - (measurements['FullBiasNanos'].iloc[0] + measurements['BiasNanos'].iloc[0])\n",
    "measurements['GpsWeekNumber'] = np.floor(1e-9 * measurements['tRxGnssNanos'] / WEEKSEC)\n",
    "measurements['tRxSeconds'] = 1e-9*measurements['tRxGnssNanos'] - WEEKSEC * measurements['GpsWeekNumber']\n",
    "measurements['tTxSeconds'] = 1e-9*(measurements['ReceivedSvTimeNanos'] + measurements['TimeOffsetNanos'])\n",
    "measurements['prSeconds'] = measurements['tRxSeconds'] - measurements['tTxSeconds']\n",
    "measurements['PrM'] = LIGHTSPEED * measurements['prSeconds']\n",
    "measurements['PrSigmaM'] = LIGHTSPEED * 1e-9 * measurements['ReceivedSvTimeUncertaintyNanos']"
   ]
  },
  {
   "source": [
    "Now that we have pseudorange values, we can begin the standard process for calculating receiver position. First we need to retrieve the ephemeris data for each satellite from one of the International GNSS Service (IGS) analysis centers. These include NASA's [CDDIS](https://cddis.nasa.gov/Data_and_Derived_Products/GNSS/orbit_products.html) and the German [BKG](https://igs.bkg.bund.de/dataandproducts/index).\n",
    "\n",
    "This process is, frankly, a bit of a pain, so I wrote a Python module to handle the details. You can view the code and documentation [here](https://github.com/johnsonmitchelld/gnss-analysis/tree/main/gnssutils)."
   ],
   "cell_type": "markdown",
   "metadata": {}
  },
  {
   "cell_type": "code",
   "execution_count": 5,
   "metadata": {},
   "outputs": [],
   "source": [
    "manager = EphemerisManager()\n",
    "\n",
    "epoch = 10\n",
    "timestamp = measurements.iloc[epoch]['UnixTime'].to_pydatetime(warn=False)\n",
    "one_epoch = measurements.loc[(measurements['Epoch'] == epoch) & (measurements['prSeconds'] < 0.1)].drop_duplicates(subset='SvName')\n",
    "one_epoch.set_index('SvName', inplace=True)\n",
    "\n",
    "sats = one_epoch.index.unique().tolist()\n",
    "ephemeris = manager.get_ephemeris(timestamp, sats)"
   ]
  },
  {
   "source": [
    "Calculating satellite position from ephemeris data is a bit involved, but the details are conveniently laid out in Tables 20-III and 20-IV of the GPS [Interface Specification Document](https://www.gps.gov/technical/icwg/IS-GPS-200L.pdf). The function below performs this calculation, taking a Pandas dataframe with the ephemeris parameters for every satellite and a dataseries containing the transmit time for all received signals in seconds since the start of the current GPS week. It also calculates the satellite clock offsets for the given transmission time."
   ],
   "cell_type": "markdown",
   "metadata": {}
  },
  {
   "cell_type": "code",
   "execution_count": 6,
   "metadata": {},
   "outputs": [
    {
     "output_type": "stream",
     "name": "stdout",
     "text": [
      "             t_k   delT_sv           x_k           y_k           z_k\nsv                                                                  \nG05  4807.354386 -0.000027 -2.171029e+07  4.560819e+06  1.458763e+07\nG07  4807.362977 -0.000426 -3.694080e+06 -1.644564e+07  2.074283e+07\nG08  4807.359065 -0.000002  7.366795e+06 -1.914142e+07  1.673248e+07\nG09  4807.356809 -0.000297 -7.511545e+06 -2.536215e+07  2.217737e+06\nG13  4807.353037  0.000071 -1.325052e+07  1.034195e+07  2.040048e+07\nG14  4807.359710  0.000052 -2.109760e+07 -1.395420e+07  8.100629e+06\nG27  4807.354121 -0.000027  1.341155e+07 -7.067973e+06  2.162338e+07\nG28  4807.358301  0.000648 -2.236910e+07 -1.338034e+07  5.146993e+06\nG30  4807.363223 -0.000346 -1.303756e+07 -9.355779e+06  2.123314e+07\n"
     ]
    }
   ],
   "source": [
    "def calculate_satellite_position(ephemeris, transmit_time):\n",
    "    mu = 3.986005e14\n",
    "    OmegaDot_e = 7.2921151467e-5\n",
    "    F = -4.442807633e-10\n",
    "    sv_position = pd.DataFrame()\n",
    "    sv_position['sv']= ephemeris.index\n",
    "    sv_position.set_index('sv', inplace=True)\n",
    "    sv_position['t_k'] = transmit_time - ephemeris['t_oe']\n",
    "    A = ephemeris['sqrtA'].pow(2)\n",
    "    n_0 = np.sqrt(mu / A.pow(3))\n",
    "    n = n_0 + ephemeris['deltaN']\n",
    "    M_k = ephemeris['M_0'] + n * sv_position['t_k']\n",
    "    E_k = M_k\n",
    "    err = pd.Series(data=[1]*len(sv_position.index))\n",
    "    i = 0\n",
    "    while err.abs().min() > 1e-8 and i < 10:\n",
    "        new_vals = M_k + ephemeris['e']*np.sin(E_k)\n",
    "        err = new_vals - E_k\n",
    "        E_k = new_vals\n",
    "        i += 1\n",
    "        \n",
    "    sinE_k = np.sin(E_k)\n",
    "    cosE_k = np.cos(E_k)\n",
    "    delT_r = F * ephemeris['e'].pow(ephemeris['sqrtA']) * sinE_k\n",
    "    delT_oc = transmit_time - ephemeris['t_oc']\n",
    "    sv_position['delT_sv'] = ephemeris['SVclockBias'] + ephemeris['SVclockDrift'] * delT_oc + ephemeris['SVclockDriftRate'] * delT_oc.pow(2)\n",
    "\n",
    "    v_k = np.arctan2(np.sqrt(1-ephemeris['e'].pow(2))*sinE_k,(cosE_k - ephemeris['e']))\n",
    "\n",
    "    Phi_k = v_k + ephemeris['omega']\n",
    "\n",
    "    sin2Phi_k = np.sin(2*Phi_k)\n",
    "    cos2Phi_k = np.cos(2*Phi_k)\n",
    "\n",
    "    du_k = ephemeris['C_us']*sin2Phi_k + ephemeris['C_uc']*cos2Phi_k\n",
    "    dr_k = ephemeris['C_rs']*sin2Phi_k + ephemeris['C_rc']*cos2Phi_k\n",
    "    di_k = ephemeris['C_is']*sin2Phi_k + ephemeris['C_ic']*cos2Phi_k\n",
    "\n",
    "    u_k = Phi_k + du_k\n",
    "\n",
    "    r_k = A*(1 - ephemeris['e']*np.cos(E_k)) + dr_k\n",
    "\n",
    "    i_k = ephemeris['i_0'] + di_k + ephemeris['IDOT']*sv_position['t_k']\n",
    "\n",
    "    x_k_prime = r_k*np.cos(u_k)\n",
    "    y_k_prime = r_k*np.sin(u_k)\n",
    "\n",
    "    Omega_k = ephemeris['Omega_0'] + (ephemeris['OmegaDot'] - OmegaDot_e)*sv_position['t_k'] - OmegaDot_e*ephemeris['t_oe']\n",
    "\n",
    "    sv_position['x_k'] = x_k_prime*np.cos(Omega_k) - y_k_prime*np.cos(i_k)*np.sin(Omega_k)\n",
    "    sv_position['y_k'] = x_k_prime*np.sin(Omega_k) + y_k_prime*np.cos(i_k)*np.cos(Omega_k)\n",
    "    sv_position['z_k'] = y_k_prime*np.sin(i_k)\n",
    "    return sv_position\n",
    "\n",
    "# Run the function and check out the results:\n",
    "sv_position = calculate_satellite_position(ephemeris, one_epoch['tTxSeconds'])\n",
    "print(sv_position)"
   ]
  },
  {
   "source": [
    "We now have raw pseudorange values, satellite positions, and satellite clock offsets. Let's correct the pseudoranges for satellite clock bias and convert the values to Numpy arrays."
   ],
   "cell_type": "markdown",
   "metadata": {}
  },
  {
   "cell_type": "code",
   "execution_count": 7,
   "metadata": {},
   "outputs": [],
   "source": [
    "#initial guesses of receiver clock bias and position\n",
    "b0 = 0\n",
    "x0 = np.array([0, 0, 0])\n",
    "xs = sv_position[['x_k', 'y_k', 'z_k']].to_numpy()\n",
    "\n",
    "# Apply satellite clock bias to correct the measured pseudorange values\n",
    "pr = one_epoch['PrM'] + LIGHTSPEED * sv_position['delT_sv']\n",
    "pr = pr.to_numpy()"
   ]
  },
  {
   "source": [
    "Here's the function to calculate rough receiver position. Its inputs are Numpy arrays containing satellite positions in the ECEF frame, pseudorange measurements in meters, and initial estimates of receiver position and clock bias. The unit for clock bias is meters, so you need to divide by the speed of light to convert to seconds.\n",
    "\n",
    "This function is adapted and simplified from the MATLAB code in Ankur Mohan's [blog](https://www.telesens.co/2017/07/17/calculating-position-from-raw-gps-data/). It's a simple least squares iteration with no correction for ionospheric delay or satellite movement during signal time of flight."
   ],
   "cell_type": "markdown",
   "metadata": {}
  },
  {
   "cell_type": "code",
   "execution_count": 8,
   "metadata": {},
   "outputs": [
    {
     "output_type": "stream",
     "name": "stdout",
     "text": [
      "(47.586270293121764, -122.32852029308533, 6.88566867262125)\n-1.167561052244428e-07\n13.68843891495611\n"
     ]
    }
   ],
   "source": [
    "def least_squares(xs, pr, x0, b0):\n",
    "    dx = 100*np.ones(3)\n",
    "    b = b0\n",
    "    # set up the G matrix with the right dimensions. We will later replace the first 3 columns\n",
    "    # note that b here is the clock bias in meters equivalent, so the actual clock bias is b/LIGHTSPEED\n",
    "    G = np.ones((pr.size, 4))\n",
    "    iterations = 0\n",
    "    while np.linalg.norm(dx) > 1e-3:\n",
    "        norms = np.linalg.norm(xs - x0, axis=1)\n",
    "        dp = pr - norms + b - b0\n",
    "        G[:, 0:3] = -(xs - x0)/norms[:, None]\n",
    "        sol = np.linalg.inv(np.transpose(G)@G) @ np.transpose(G) @ dp\n",
    "        dx = sol[0:3]\n",
    "        db = sol[3]\n",
    "        norm_dp = np.linalg.norm(dp)\n",
    "        x0 = x0 + dx\n",
    "        b0 = b0 + db\n",
    "\n",
    "    return x0, b0, norm_dp\n",
    "\n",
    "x, b, dp = least_squares(xs, pr, x0, b0)\n",
    "print(navpy.ecef2lla(x))\n",
    "print(b/LIGHTSPEED)\n",
    "print(dp)"
   ]
  },
  {
   "cell_type": "code",
   "execution_count": 9,
   "metadata": {},
   "outputs": [
    {
     "output_type": "stream",
     "name": "stdout",
     "text": [
      "(47.586270293121764, -122.32852029308533, 6.88566867262125)\n-1.167561052244428e-07\n13.68843891495611\n"
     ]
    }
   ],
   "source": []
  },
  {
   "source": [
    "Looks like it worked! The pseudorange residual is in the tens of meters, which is reasonable considering we didn't correct for ionospheric delay or the rotation of the Earth during signal transmission.\n",
    "\n",
    "Now let's wrap this entire process into a loop to calculate receiver position for every measurement epoch in the dataset with more than 4 satellite measurements.\n",
    "\n"
   ],
   "cell_type": "markdown",
   "metadata": {}
  },
  {
   "cell_type": "code",
   "execution_count": 9,
   "metadata": {
    "tags": []
   },
   "outputs": [],
   "source": [
    "lla_list = []\n",
    "ned_list = []\n",
    "for epoch in measurements['Epoch'].unique():\n",
    "    one_epoch = measurements.loc[(measurements['Epoch'] == epoch) & (measurements['prSeconds'] < 0.1)] \n",
    "    one_epoch = one_epoch.drop_duplicates(subset='SvName').set_index('SvName')\n",
    "    if len(one_epoch.index) > 4:\n",
    "        timestamp = one_epoch.iloc[0]['UnixTime'].to_pydatetime(warn=False)\n",
    "        sats = one_epoch.index.unique().tolist()\n",
    "        ephemeris = manager.get_ephemeris(timestamp, sats)\n",
    "        sv_position = calculate_satellite_position(ephemeris, one_epoch['tTxSeconds'])\n",
    "\n",
    "        xs = sv_position[['x_k', 'y_k', 'z_k']].to_numpy()\n",
    "        pr = one_epoch['PrM'] + LIGHTSPEED * sv_position['delT_sv']\n",
    "        pr = pr.to_numpy()\n",
    "\n",
    "        x, b, dp = least_squares(xs, pr, x, b)\n",
    "        lla = navpy.ecef2lla(x)\n",
    "        lla_list.append(lla)\n",
    "        ned_list.append(navpy.lla2ned(lla[0], lla[1], lla[2], lla_list[0][0], lla_list[0][1], lla_list[0][2]))"
   ]
  },
  {
   "source": [
    "Finally, we'll convert the list of NED translations into a Pandas dataframe and create a plot of change in position relative to the first measurement epoch."
   ],
   "cell_type": "markdown",
   "metadata": {}
  },
  {
   "cell_type": "code",
   "execution_count": 10,
   "metadata": {},
   "outputs": [
    {
     "output_type": "display_data",
     "data": {
      "text/plain": "<Figure size 432x288 with 1 Axes>",
      "image/svg+xml": "<?xml version=\"1.0\" encoding=\"utf-8\" standalone=\"no\"?>\n<!DOCTYPE svg PUBLIC \"-//W3C//DTD SVG 1.1//EN\"\n  \"http://www.w3.org/Graphics/SVG/1.1/DTD/svg11.dtd\">\n<!-- Created with matplotlib (https://matplotlib.org/) -->\n<svg height=\"277.314375pt\" version=\"1.1\" viewBox=\"0 0 255.744375 277.314375\" width=\"255.744375pt\" xmlns=\"http://www.w3.org/2000/svg\" xmlns:xlink=\"http://www.w3.org/1999/xlink\">\n <metadata>\n  <rdf:RDF xmlns:cc=\"http://creativecommons.org/ns#\" xmlns:dc=\"http://purl.org/dc/elements/1.1/\" xmlns:rdf=\"http://www.w3.org/1999/02/22-rdf-syntax-ns#\">\n   <cc:Work>\n    <dc:type rdf:resource=\"http://purl.org/dc/dcmitype/StillImage\"/>\n    <dc:date>2021-01-14T17:23:48.285273</dc:date>\n    <dc:format>image/svg+xml</dc:format>\n    <dc:creator>\n     <cc:Agent>\n      <dc:title>Matplotlib v3.3.3, https://matplotlib.org/</dc:title>\n     </cc:Agent>\n    </dc:creator>\n   </cc:Work>\n  </rdf:RDF>\n </metadata>\n <defs>\n  <style type=\"text/css\">*{stroke-linecap:butt;stroke-linejoin:round;}</style>\n </defs>\n <g id=\"figure_1\">\n  <g id=\"patch_1\">\n   <path d=\"M 0 277.314375 \nL 255.744375 277.314375 \nL 255.744375 0 \nL 0 0 \nz\n\" style=\"fill:none;\"/>\n  </g>\n  <g id=\"axes_1\">\n   <g id=\"patch_2\">\n    <path d=\"M 102.54837 239.758125 \nL 153.196005 239.758125 \nL 153.196005 22.318125 \nL 102.54837 22.318125 \nz\n\" style=\"fill:#ffffff;\"/>\n   </g>\n   <g id=\"matplotlib.axis_1\">\n    <g id=\"xtick_1\">\n     <g id=\"line2d_1\">\n      <defs>\n       <path d=\"M 0 0 \nL 0 3.5 \n\" id=\"m0f16e30642\" style=\"stroke:#000000;stroke-width:0.8;\"/>\n      </defs>\n      <g>\n       <use style=\"stroke:#000000;stroke-width:0.8;\" x=\"106.00882\" xlink:href=\"#m0f16e30642\" y=\"239.758125\"/>\n      </g>\n     </g>\n     <g id=\"text_1\">\n      <!-- −2500 -->\n      <g transform=\"translate(89.093976 254.356562)scale(0.1 -0.1)\">\n       <defs>\n        <path d=\"M 10.59375 35.5 \nL 73.1875 35.5 \nL 73.1875 27.203125 \nL 10.59375 27.203125 \nz\n\" id=\"DejaVuSans-8722\"/>\n        <path d=\"M 19.1875 8.296875 \nL 53.609375 8.296875 \nL 53.609375 0 \nL 7.328125 0 \nL 7.328125 8.296875 \nQ 12.9375 14.109375 22.625 23.890625 \nQ 32.328125 33.6875 34.8125 36.53125 \nQ 39.546875 41.84375 41.421875 45.53125 \nQ 43.3125 49.21875 43.3125 52.78125 \nQ 43.3125 58.59375 39.234375 62.25 \nQ 35.15625 65.921875 28.609375 65.921875 \nQ 23.96875 65.921875 18.8125 64.3125 \nQ 13.671875 62.703125 7.8125 59.421875 \nL 7.8125 69.390625 \nQ 13.765625 71.78125 18.9375 73 \nQ 24.125 74.21875 28.421875 74.21875 \nQ 39.75 74.21875 46.484375 68.546875 \nQ 53.21875 62.890625 53.21875 53.421875 \nQ 53.21875 48.921875 51.53125 44.890625 \nQ 49.859375 40.875 45.40625 35.40625 \nQ 44.1875 33.984375 37.640625 27.21875 \nQ 31.109375 20.453125 19.1875 8.296875 \nz\n\" id=\"DejaVuSans-50\"/>\n        <path d=\"M 10.796875 72.90625 \nL 49.515625 72.90625 \nL 49.515625 64.59375 \nL 19.828125 64.59375 \nL 19.828125 46.734375 \nQ 21.96875 47.46875 24.109375 47.828125 \nQ 26.265625 48.1875 28.421875 48.1875 \nQ 40.625 48.1875 47.75 41.5 \nQ 54.890625 34.8125 54.890625 23.390625 \nQ 54.890625 11.625 47.5625 5.09375 \nQ 40.234375 -1.421875 26.90625 -1.421875 \nQ 22.3125 -1.421875 17.546875 -0.640625 \nQ 12.796875 0.140625 7.71875 1.703125 \nL 7.71875 11.625 \nQ 12.109375 9.234375 16.796875 8.0625 \nQ 21.484375 6.890625 26.703125 6.890625 \nQ 35.15625 6.890625 40.078125 11.328125 \nQ 45.015625 15.765625 45.015625 23.390625 \nQ 45.015625 31 40.078125 35.4375 \nQ 35.15625 39.890625 26.703125 39.890625 \nQ 22.75 39.890625 18.8125 39.015625 \nQ 14.890625 38.140625 10.796875 36.28125 \nz\n\" id=\"DejaVuSans-53\"/>\n        <path d=\"M 31.78125 66.40625 \nQ 24.171875 66.40625 20.328125 58.90625 \nQ 16.5 51.421875 16.5 36.375 \nQ 16.5 21.390625 20.328125 13.890625 \nQ 24.171875 6.390625 31.78125 6.390625 \nQ 39.453125 6.390625 43.28125 13.890625 \nQ 47.125 21.390625 47.125 36.375 \nQ 47.125 51.421875 43.28125 58.90625 \nQ 39.453125 66.40625 31.78125 66.40625 \nz\nM 31.78125 74.21875 \nQ 44.046875 74.21875 50.515625 64.515625 \nQ 56.984375 54.828125 56.984375 36.375 \nQ 56.984375 17.96875 50.515625 8.265625 \nQ 44.046875 -1.421875 31.78125 -1.421875 \nQ 19.53125 -1.421875 13.0625 8.265625 \nQ 6.59375 17.96875 6.59375 36.375 \nQ 6.59375 54.828125 13.0625 64.515625 \nQ 19.53125 74.21875 31.78125 74.21875 \nz\n\" id=\"DejaVuSans-48\"/>\n       </defs>\n       <use xlink:href=\"#DejaVuSans-8722\"/>\n       <use x=\"83.789062\" xlink:href=\"#DejaVuSans-50\"/>\n       <use x=\"147.412109\" xlink:href=\"#DejaVuSans-53\"/>\n       <use x=\"211.035156\" xlink:href=\"#DejaVuSans-48\"/>\n       <use x=\"274.658203\" xlink:href=\"#DejaVuSans-48\"/>\n      </g>\n     </g>\n    </g>\n    <g id=\"xtick_2\">\n     <g id=\"line2d_2\">\n      <g>\n       <use style=\"stroke:#000000;stroke-width:0.8;\" x=\"149.908121\" xlink:href=\"#m0f16e30642\" y=\"239.758125\"/>\n      </g>\n     </g>\n     <g id=\"text_2\">\n      <!-- 0 -->\n      <g transform=\"translate(146.726871 254.356562)scale(0.1 -0.1)\">\n       <use xlink:href=\"#DejaVuSans-48\"/>\n      </g>\n     </g>\n    </g>\n    <g id=\"text_3\">\n     <!-- East (m) -->\n     <g transform=\"translate(106.722969 268.034687)scale(0.1 -0.1)\">\n      <defs>\n       <path d=\"M 9.8125 72.90625 \nL 55.90625 72.90625 \nL 55.90625 64.59375 \nL 19.671875 64.59375 \nL 19.671875 43.015625 \nL 54.390625 43.015625 \nL 54.390625 34.71875 \nL 19.671875 34.71875 \nL 19.671875 8.296875 \nL 56.78125 8.296875 \nL 56.78125 0 \nL 9.8125 0 \nz\n\" id=\"DejaVuSans-69\"/>\n       <path d=\"M 34.28125 27.484375 \nQ 23.390625 27.484375 19.1875 25 \nQ 14.984375 22.515625 14.984375 16.5 \nQ 14.984375 11.71875 18.140625 8.90625 \nQ 21.296875 6.109375 26.703125 6.109375 \nQ 34.1875 6.109375 38.703125 11.40625 \nQ 43.21875 16.703125 43.21875 25.484375 \nL 43.21875 27.484375 \nz\nM 52.203125 31.203125 \nL 52.203125 0 \nL 43.21875 0 \nL 43.21875 8.296875 \nQ 40.140625 3.328125 35.546875 0.953125 \nQ 30.953125 -1.421875 24.3125 -1.421875 \nQ 15.921875 -1.421875 10.953125 3.296875 \nQ 6 8.015625 6 15.921875 \nQ 6 25.140625 12.171875 29.828125 \nQ 18.359375 34.515625 30.609375 34.515625 \nL 43.21875 34.515625 \nL 43.21875 35.40625 \nQ 43.21875 41.609375 39.140625 45 \nQ 35.0625 48.390625 27.6875 48.390625 \nQ 23 48.390625 18.546875 47.265625 \nQ 14.109375 46.140625 10.015625 43.890625 \nL 10.015625 52.203125 \nQ 14.9375 54.109375 19.578125 55.046875 \nQ 24.21875 56 28.609375 56 \nQ 40.484375 56 46.34375 49.84375 \nQ 52.203125 43.703125 52.203125 31.203125 \nz\n\" id=\"DejaVuSans-97\"/>\n       <path d=\"M 44.28125 53.078125 \nL 44.28125 44.578125 \nQ 40.484375 46.53125 36.375 47.5 \nQ 32.28125 48.484375 27.875 48.484375 \nQ 21.1875 48.484375 17.84375 46.4375 \nQ 14.5 44.390625 14.5 40.28125 \nQ 14.5 37.15625 16.890625 35.375 \nQ 19.28125 33.59375 26.515625 31.984375 \nL 29.59375 31.296875 \nQ 39.15625 29.25 43.1875 25.515625 \nQ 47.21875 21.78125 47.21875 15.09375 \nQ 47.21875 7.46875 41.1875 3.015625 \nQ 35.15625 -1.421875 24.609375 -1.421875 \nQ 20.21875 -1.421875 15.453125 -0.5625 \nQ 10.6875 0.296875 5.421875 2 \nL 5.421875 11.28125 \nQ 10.40625 8.6875 15.234375 7.390625 \nQ 20.0625 6.109375 24.8125 6.109375 \nQ 31.15625 6.109375 34.5625 8.28125 \nQ 37.984375 10.453125 37.984375 14.40625 \nQ 37.984375 18.0625 35.515625 20.015625 \nQ 33.0625 21.96875 24.703125 23.78125 \nL 21.578125 24.515625 \nQ 13.234375 26.265625 9.515625 29.90625 \nQ 5.8125 33.546875 5.8125 39.890625 \nQ 5.8125 47.609375 11.28125 51.796875 \nQ 16.75 56 26.8125 56 \nQ 31.78125 56 36.171875 55.265625 \nQ 40.578125 54.546875 44.28125 53.078125 \nz\n\" id=\"DejaVuSans-115\"/>\n       <path d=\"M 18.3125 70.21875 \nL 18.3125 54.6875 \nL 36.8125 54.6875 \nL 36.8125 47.703125 \nL 18.3125 47.703125 \nL 18.3125 18.015625 \nQ 18.3125 11.328125 20.140625 9.421875 \nQ 21.96875 7.515625 27.59375 7.515625 \nL 36.8125 7.515625 \nL 36.8125 0 \nL 27.59375 0 \nQ 17.1875 0 13.234375 3.875 \nQ 9.28125 7.765625 9.28125 18.015625 \nL 9.28125 47.703125 \nL 2.6875 47.703125 \nL 2.6875 54.6875 \nL 9.28125 54.6875 \nL 9.28125 70.21875 \nz\n\" id=\"DejaVuSans-116\"/>\n       <path id=\"DejaVuSans-32\"/>\n       <path d=\"M 31 75.875 \nQ 24.46875 64.65625 21.28125 53.65625 \nQ 18.109375 42.671875 18.109375 31.390625 \nQ 18.109375 20.125 21.3125 9.0625 \nQ 24.515625 -2 31 -13.1875 \nL 23.1875 -13.1875 \nQ 15.875 -1.703125 12.234375 9.375 \nQ 8.59375 20.453125 8.59375 31.390625 \nQ 8.59375 42.28125 12.203125 53.3125 \nQ 15.828125 64.359375 23.1875 75.875 \nz\n\" id=\"DejaVuSans-40\"/>\n       <path d=\"M 52 44.1875 \nQ 55.375 50.25 60.0625 53.125 \nQ 64.75 56 71.09375 56 \nQ 79.640625 56 84.28125 50.015625 \nQ 88.921875 44.046875 88.921875 33.015625 \nL 88.921875 0 \nL 79.890625 0 \nL 79.890625 32.71875 \nQ 79.890625 40.578125 77.09375 44.375 \nQ 74.3125 48.1875 68.609375 48.1875 \nQ 61.625 48.1875 57.5625 43.546875 \nQ 53.515625 38.921875 53.515625 30.90625 \nL 53.515625 0 \nL 44.484375 0 \nL 44.484375 32.71875 \nQ 44.484375 40.625 41.703125 44.40625 \nQ 38.921875 48.1875 33.109375 48.1875 \nQ 26.21875 48.1875 22.15625 43.53125 \nQ 18.109375 38.875 18.109375 30.90625 \nL 18.109375 0 \nL 9.078125 0 \nL 9.078125 54.6875 \nL 18.109375 54.6875 \nL 18.109375 46.1875 \nQ 21.1875 51.21875 25.484375 53.609375 \nQ 29.78125 56 35.6875 56 \nQ 41.65625 56 45.828125 52.96875 \nQ 50 49.953125 52 44.1875 \nz\n\" id=\"DejaVuSans-109\"/>\n       <path d=\"M 8.015625 75.875 \nL 15.828125 75.875 \nQ 23.140625 64.359375 26.78125 53.3125 \nQ 30.421875 42.28125 30.421875 31.390625 \nQ 30.421875 20.453125 26.78125 9.375 \nQ 23.140625 -1.703125 15.828125 -13.1875 \nL 8.015625 -13.1875 \nQ 14.5 -2 17.703125 9.0625 \nQ 20.90625 20.125 20.90625 31.390625 \nQ 20.90625 42.671875 17.703125 53.65625 \nQ 14.5 64.65625 8.015625 75.875 \nz\n\" id=\"DejaVuSans-41\"/>\n      </defs>\n      <use xlink:href=\"#DejaVuSans-69\"/>\n      <use x=\"63.183594\" xlink:href=\"#DejaVuSans-97\"/>\n      <use x=\"124.462891\" xlink:href=\"#DejaVuSans-115\"/>\n      <use x=\"176.5625\" xlink:href=\"#DejaVuSans-116\"/>\n      <use x=\"215.771484\" xlink:href=\"#DejaVuSans-32\"/>\n      <use x=\"247.558594\" xlink:href=\"#DejaVuSans-40\"/>\n      <use x=\"286.572266\" xlink:href=\"#DejaVuSans-109\"/>\n      <use x=\"383.984375\" xlink:href=\"#DejaVuSans-41\"/>\n     </g>\n    </g>\n   </g>\n   <g id=\"matplotlib.axis_2\">\n    <g id=\"ytick_1\">\n     <g id=\"line2d_3\">\n      <defs>\n       <path d=\"M 0 0 \nL -3.5 0 \n\" id=\"m5a5b1fec98\" style=\"stroke:#000000;stroke-width:0.8;\"/>\n      </defs>\n      <g>\n       <use style=\"stroke:#000000;stroke-width:0.8;\" x=\"102.54837\" xlink:href=\"#m5a5b1fec98\" y=\"229.757187\"/>\n      </g>\n     </g>\n     <g id=\"text_4\">\n      <!-- 0 -->\n      <g transform=\"translate(89.18587 233.556406)scale(0.1 -0.1)\">\n       <use xlink:href=\"#DejaVuSans-48\"/>\n      </g>\n     </g>\n    </g>\n    <g id=\"ytick_2\">\n     <g id=\"line2d_4\">\n      <g>\n       <use style=\"stroke:#000000;stroke-width:0.8;\" x=\"102.54837\" xlink:href=\"#m5a5b1fec98\" y=\"194.637747\"/>\n      </g>\n     </g>\n     <g id=\"text_5\">\n      <!-- 2000 -->\n      <g transform=\"translate(70.09837 198.436965)scale(0.1 -0.1)\">\n       <use xlink:href=\"#DejaVuSans-50\"/>\n       <use x=\"63.623047\" xlink:href=\"#DejaVuSans-48\"/>\n       <use x=\"127.246094\" xlink:href=\"#DejaVuSans-48\"/>\n       <use x=\"190.869141\" xlink:href=\"#DejaVuSans-48\"/>\n      </g>\n     </g>\n    </g>\n    <g id=\"ytick_3\">\n     <g id=\"line2d_5\">\n      <g>\n       <use style=\"stroke:#000000;stroke-width:0.8;\" x=\"102.54837\" xlink:href=\"#m5a5b1fec98\" y=\"159.518306\"/>\n      </g>\n     </g>\n     <g id=\"text_6\">\n      <!-- 4000 -->\n      <g transform=\"translate(70.09837 163.317525)scale(0.1 -0.1)\">\n       <defs>\n        <path d=\"M 37.796875 64.3125 \nL 12.890625 25.390625 \nL 37.796875 25.390625 \nz\nM 35.203125 72.90625 \nL 47.609375 72.90625 \nL 47.609375 25.390625 \nL 58.015625 25.390625 \nL 58.015625 17.1875 \nL 47.609375 17.1875 \nL 47.609375 0 \nL 37.796875 0 \nL 37.796875 17.1875 \nL 4.890625 17.1875 \nL 4.890625 26.703125 \nz\n\" id=\"DejaVuSans-52\"/>\n       </defs>\n       <use xlink:href=\"#DejaVuSans-52\"/>\n       <use x=\"63.623047\" xlink:href=\"#DejaVuSans-48\"/>\n       <use x=\"127.246094\" xlink:href=\"#DejaVuSans-48\"/>\n       <use x=\"190.869141\" xlink:href=\"#DejaVuSans-48\"/>\n      </g>\n     </g>\n    </g>\n    <g id=\"ytick_4\">\n     <g id=\"line2d_6\">\n      <g>\n       <use style=\"stroke:#000000;stroke-width:0.8;\" x=\"102.54837\" xlink:href=\"#m5a5b1fec98\" y=\"124.398865\"/>\n      </g>\n     </g>\n     <g id=\"text_7\">\n      <!-- 6000 -->\n      <g transform=\"translate(70.09837 128.198084)scale(0.1 -0.1)\">\n       <defs>\n        <path d=\"M 33.015625 40.375 \nQ 26.375 40.375 22.484375 35.828125 \nQ 18.609375 31.296875 18.609375 23.390625 \nQ 18.609375 15.53125 22.484375 10.953125 \nQ 26.375 6.390625 33.015625 6.390625 \nQ 39.65625 6.390625 43.53125 10.953125 \nQ 47.40625 15.53125 47.40625 23.390625 \nQ 47.40625 31.296875 43.53125 35.828125 \nQ 39.65625 40.375 33.015625 40.375 \nz\nM 52.59375 71.296875 \nL 52.59375 62.3125 \nQ 48.875 64.0625 45.09375 64.984375 \nQ 41.3125 65.921875 37.59375 65.921875 \nQ 27.828125 65.921875 22.671875 59.328125 \nQ 17.53125 52.734375 16.796875 39.40625 \nQ 19.671875 43.65625 24.015625 45.921875 \nQ 28.375 48.1875 33.59375 48.1875 \nQ 44.578125 48.1875 50.953125 41.515625 \nQ 57.328125 34.859375 57.328125 23.390625 \nQ 57.328125 12.15625 50.6875 5.359375 \nQ 44.046875 -1.421875 33.015625 -1.421875 \nQ 20.359375 -1.421875 13.671875 8.265625 \nQ 6.984375 17.96875 6.984375 36.375 \nQ 6.984375 53.65625 15.1875 63.9375 \nQ 23.390625 74.21875 37.203125 74.21875 \nQ 40.921875 74.21875 44.703125 73.484375 \nQ 48.484375 72.75 52.59375 71.296875 \nz\n\" id=\"DejaVuSans-54\"/>\n       </defs>\n       <use xlink:href=\"#DejaVuSans-54\"/>\n       <use x=\"63.623047\" xlink:href=\"#DejaVuSans-48\"/>\n       <use x=\"127.246094\" xlink:href=\"#DejaVuSans-48\"/>\n       <use x=\"190.869141\" xlink:href=\"#DejaVuSans-48\"/>\n      </g>\n     </g>\n    </g>\n    <g id=\"ytick_5\">\n     <g id=\"line2d_7\">\n      <g>\n       <use style=\"stroke:#000000;stroke-width:0.8;\" x=\"102.54837\" xlink:href=\"#m5a5b1fec98\" y=\"89.279424\"/>\n      </g>\n     </g>\n     <g id=\"text_8\">\n      <!-- 8000 -->\n      <g transform=\"translate(70.09837 93.078643)scale(0.1 -0.1)\">\n       <defs>\n        <path d=\"M 31.78125 34.625 \nQ 24.75 34.625 20.71875 30.859375 \nQ 16.703125 27.09375 16.703125 20.515625 \nQ 16.703125 13.921875 20.71875 10.15625 \nQ 24.75 6.390625 31.78125 6.390625 \nQ 38.8125 6.390625 42.859375 10.171875 \nQ 46.921875 13.96875 46.921875 20.515625 \nQ 46.921875 27.09375 42.890625 30.859375 \nQ 38.875 34.625 31.78125 34.625 \nz\nM 21.921875 38.8125 \nQ 15.578125 40.375 12.03125 44.71875 \nQ 8.5 49.078125 8.5 55.328125 \nQ 8.5 64.0625 14.71875 69.140625 \nQ 20.953125 74.21875 31.78125 74.21875 \nQ 42.671875 74.21875 48.875 69.140625 \nQ 55.078125 64.0625 55.078125 55.328125 \nQ 55.078125 49.078125 51.53125 44.71875 \nQ 48 40.375 41.703125 38.8125 \nQ 48.828125 37.15625 52.796875 32.3125 \nQ 56.78125 27.484375 56.78125 20.515625 \nQ 56.78125 9.90625 50.3125 4.234375 \nQ 43.84375 -1.421875 31.78125 -1.421875 \nQ 19.734375 -1.421875 13.25 4.234375 \nQ 6.78125 9.90625 6.78125 20.515625 \nQ 6.78125 27.484375 10.78125 32.3125 \nQ 14.796875 37.15625 21.921875 38.8125 \nz\nM 18.3125 54.390625 \nQ 18.3125 48.734375 21.84375 45.5625 \nQ 25.390625 42.390625 31.78125 42.390625 \nQ 38.140625 42.390625 41.71875 45.5625 \nQ 45.3125 48.734375 45.3125 54.390625 \nQ 45.3125 60.0625 41.71875 63.234375 \nQ 38.140625 66.40625 31.78125 66.40625 \nQ 25.390625 66.40625 21.84375 63.234375 \nQ 18.3125 60.0625 18.3125 54.390625 \nz\n\" id=\"DejaVuSans-56\"/>\n       </defs>\n       <use xlink:href=\"#DejaVuSans-56\"/>\n       <use x=\"63.623047\" xlink:href=\"#DejaVuSans-48\"/>\n       <use x=\"127.246094\" xlink:href=\"#DejaVuSans-48\"/>\n       <use x=\"190.869141\" xlink:href=\"#DejaVuSans-48\"/>\n      </g>\n     </g>\n    </g>\n    <g id=\"ytick_6\">\n     <g id=\"line2d_8\">\n      <g>\n       <use style=\"stroke:#000000;stroke-width:0.8;\" x=\"102.54837\" xlink:href=\"#m5a5b1fec98\" y=\"54.159983\"/>\n      </g>\n     </g>\n     <g id=\"text_9\">\n      <!-- 10000 -->\n      <g transform=\"translate(63.73587 57.959202)scale(0.1 -0.1)\">\n       <defs>\n        <path d=\"M 12.40625 8.296875 \nL 28.515625 8.296875 \nL 28.515625 63.921875 \nL 10.984375 60.40625 \nL 10.984375 69.390625 \nL 28.421875 72.90625 \nL 38.28125 72.90625 \nL 38.28125 8.296875 \nL 54.390625 8.296875 \nL 54.390625 0 \nL 12.40625 0 \nz\n\" id=\"DejaVuSans-49\"/>\n       </defs>\n       <use xlink:href=\"#DejaVuSans-49\"/>\n       <use x=\"63.623047\" xlink:href=\"#DejaVuSans-48\"/>\n       <use x=\"127.246094\" xlink:href=\"#DejaVuSans-48\"/>\n       <use x=\"190.869141\" xlink:href=\"#DejaVuSans-48\"/>\n       <use x=\"254.492188\" xlink:href=\"#DejaVuSans-48\"/>\n      </g>\n     </g>\n    </g>\n    <g id=\"text_10\">\n     <!-- North (m) -->\n     <g transform=\"translate(57.656182 155.383437)rotate(-90)scale(0.1 -0.1)\">\n      <defs>\n       <path d=\"M 9.8125 72.90625 \nL 23.09375 72.90625 \nL 55.421875 11.921875 \nL 55.421875 72.90625 \nL 64.984375 72.90625 \nL 64.984375 0 \nL 51.703125 0 \nL 19.390625 60.984375 \nL 19.390625 0 \nL 9.8125 0 \nz\n\" id=\"DejaVuSans-78\"/>\n       <path d=\"M 30.609375 48.390625 \nQ 23.390625 48.390625 19.1875 42.75 \nQ 14.984375 37.109375 14.984375 27.296875 \nQ 14.984375 17.484375 19.15625 11.84375 \nQ 23.34375 6.203125 30.609375 6.203125 \nQ 37.796875 6.203125 41.984375 11.859375 \nQ 46.1875 17.53125 46.1875 27.296875 \nQ 46.1875 37.015625 41.984375 42.703125 \nQ 37.796875 48.390625 30.609375 48.390625 \nz\nM 30.609375 56 \nQ 42.328125 56 49.015625 48.375 \nQ 55.71875 40.765625 55.71875 27.296875 \nQ 55.71875 13.875 49.015625 6.21875 \nQ 42.328125 -1.421875 30.609375 -1.421875 \nQ 18.84375 -1.421875 12.171875 6.21875 \nQ 5.515625 13.875 5.515625 27.296875 \nQ 5.515625 40.765625 12.171875 48.375 \nQ 18.84375 56 30.609375 56 \nz\n\" id=\"DejaVuSans-111\"/>\n       <path d=\"M 41.109375 46.296875 \nQ 39.59375 47.171875 37.8125 47.578125 \nQ 36.03125 48 33.890625 48 \nQ 26.265625 48 22.1875 43.046875 \nQ 18.109375 38.09375 18.109375 28.8125 \nL 18.109375 0 \nL 9.078125 0 \nL 9.078125 54.6875 \nL 18.109375 54.6875 \nL 18.109375 46.1875 \nQ 20.953125 51.171875 25.484375 53.578125 \nQ 30.03125 56 36.53125 56 \nQ 37.453125 56 38.578125 55.875 \nQ 39.703125 55.765625 41.0625 55.515625 \nz\n\" id=\"DejaVuSans-114\"/>\n       <path d=\"M 54.890625 33.015625 \nL 54.890625 0 \nL 45.90625 0 \nL 45.90625 32.71875 \nQ 45.90625 40.484375 42.875 44.328125 \nQ 39.84375 48.1875 33.796875 48.1875 \nQ 26.515625 48.1875 22.3125 43.546875 \nQ 18.109375 38.921875 18.109375 30.90625 \nL 18.109375 0 \nL 9.078125 0 \nL 9.078125 75.984375 \nL 18.109375 75.984375 \nL 18.109375 46.1875 \nQ 21.34375 51.125 25.703125 53.5625 \nQ 30.078125 56 35.796875 56 \nQ 45.21875 56 50.046875 50.171875 \nQ 54.890625 44.34375 54.890625 33.015625 \nz\n\" id=\"DejaVuSans-104\"/>\n      </defs>\n      <use xlink:href=\"#DejaVuSans-78\"/>\n      <use x=\"74.804688\" xlink:href=\"#DejaVuSans-111\"/>\n      <use x=\"135.986328\" xlink:href=\"#DejaVuSans-114\"/>\n      <use x=\"177.099609\" xlink:href=\"#DejaVuSans-116\"/>\n      <use x=\"216.308594\" xlink:href=\"#DejaVuSans-104\"/>\n      <use x=\"279.6875\" xlink:href=\"#DejaVuSans-32\"/>\n      <use x=\"311.474609\" xlink:href=\"#DejaVuSans-40\"/>\n      <use x=\"350.488281\" xlink:href=\"#DejaVuSans-109\"/>\n      <use x=\"447.900391\" xlink:href=\"#DejaVuSans-41\"/>\n     </g>\n    </g>\n   </g>\n   <g id=\"line2d_9\">\n    <path clip-path=\"url(#pbb8b57c1d2)\" d=\"M 149.908121 229.757187 \nL 149.868045 229.874489 \nL 149.924503 229.6252 \nL 149.840053 229.74129 \nL 149.695424 229.639938 \nL 149.740226 229.859333 \nL 149.777788 229.752268 \nL 149.478751 229.607714 \nL 149.620481 229.501332 \nL 149.625967 229.30077 \nL 149.491621 229.167185 \nL 149.569891 228.849148 \nL 149.378627 228.155663 \nL 149.5195 228.310847 \nL 149.608536 228.108587 \nL 149.512386 227.841878 \nL 149.654208 227.527925 \nL 149.522113 227.398459 \nL 149.455822 226.18879 \nL 149.635151 226.130091 \nL 149.540418 225.90125 \nL 149.613434 225.786372 \nL 149.490076 225.522058 \nL 149.670732 224.635502 \nL 149.425691 224.648194 \nL 149.522328 224.351192 \nL 149.724836 224.263163 \nL 149.786977 223.956917 \nL 149.643611 223.488139 \nL 149.691202 221.804737 \nL 149.890988 222.07476 \nL 149.700668 220.629523 \nL 149.348402 220.367805 \nL 149.493029 220.09553 \nL 149.310426 219.885673 \nL 149.597245 219.859042 \nL 149.675139 219.55774 \nL 149.553235 218.464021 \nL 149.559746 218.26309 \nL 149.343199 217.713851 \nL 149.823482 217.302873 \nL 149.542883 216.706973 \nL 149.60395 216.248191 \nL 149.331388 216.219552 \nL 149.543709 214.989579 \nL 149.419951 214.784445 \nL 149.517228 214.460036 \nL 149.415008 214.242049 \nL 149.807794 214.367223 \nL 149.621116 213.508159 \nL 149.95737 214.391985 \nL 149.068073 213.350511 \nL 149.023195 212.787848 \nL 148.800877 212.784828 \nL 148.648534 212.629707 \nL 148.563135 212.222981 \nL 149.772349 211.366092 \nL 148.274447 211.687251 \nL 148.100695 211.5357 \nL 148.048588 211.305552 \nL 149.285062 210.430975 \nL 150.054333 209.548572 \nL 149.550167 209.560668 \nL 149.108179 209.722045 \nL 149.379841 209.29886 \nL 149.260983 209.330769 \nL 149.192988 209.164213 \nL 149.845762 208.397717 \nL 149.689041 207.902918 \nL 150.041087 207.668258 \nL 149.219865 207.362861 \nL 148.955351 207.396809 \nL 149.618473 206.821301 \nL 149.942025 206.237911 \nL 149.533466 206.095603 \nL 149.675632 206.013749 \nL 149.517394 206.042246 \nL 149.688296 205.876918 \nL 149.44969 205.798798 \nL 148.772212 205.742529 \nL 148.53124 205.976493 \nL 148.527578 205.693666 \nL 149.304974 205.684655 \nL 149.267459 205.839193 \nL 149.453862 205.506575 \nL 149.706615 205.383433 \nL 149.505179 205.015752 \nL 149.551645 204.728993 \nL 149.20857 204.701628 \nL 149.271955 204.489994 \nL 148.986243 204.083341 \nL 148.586951 204.035462 \nL 147.724552 203.034119 \nL 148.898771 203.840699 \nL 148.663827 203.456096 \nL 147.818127 203.159077 \nL 147.105785 202.254458 \nL 148.424736 203.362829 \nL 149.519933 201.99675 \nL 149.363372 201.095127 \nL 149.291355 201.029185 \nL 149.583867 201.863352 \nL 149.167379 201.360883 \nL 149.663588 201.424305 \nL 149.0709 201.167278 \nL 149.323018 201.605134 \nL 150.449536 201.974118 \nL 150.787188 201.519837 \nL 150.89384 200.2943 \nL 149.601838 200.122032 \nL 149.788016 199.686495 \nL 149.324005 198.634575 \nL 149.250184 198.859843 \nL 149.300717 199.807355 \nL 150.013331 197.062678 \nL 147.784816 198.905024 \nL 149.5019 202.254092 \nL 149.437718 198.50816 \nL 149.339086 198.624793 \nL 149.114451 197.99316 \nL 148.546653 197.638043 \nL 148.331645 197.466681 \nL 148.296925 197.156461 \nL 147.859622 197.023754 \nL 148.2545 196.954713 \nL 148.134845 197.132345 \nL 148.366889 196.6062 \nL 148.445422 196.403069 \nL 148.250166 196.303656 \nL 148.318048 196.841735 \nL 148.515193 196.988876 \nL 148.489243 197.457441 \nL 148.304272 197.408109 \nL 148.232366 196.441147 \nL 148.192082 196.751867 \nL 148.142794 197.312417 \nL 148.405921 197.542296 \nL 148.389514 196.697341 \nL 148.895698 197.012388 \nL 148.530621 197.35839 \nL 148.314245 197.355098 \nL 148.307468 197.568542 \nL 147.845787 197.180946 \nL 147.962107 197.088574 \nL 147.922832 196.953986 \nL 148.157248 196.941715 \nL 148.119495 196.525365 \nL 148.005582 196.385759 \nL 148.729014 196.816909 \nL 147.765202 196.944677 \nL 148.003412 196.900496 \nL 147.98222 196.029862 \nL 147.601607 195.698364 \nL 147.487233 196.423313 \nL 147.320209 195.543474 \nL 147.565848 195.865896 \nL 147.534705 195.840534 \nL 147.272984 195.700594 \nL 147.241162 195.406288 \nL 148.236123 196.749156 \nL 148.147303 197.081048 \nL 147.888965 196.99694 \nL 146.84977 195.324498 \nL 145.707457 195.26634 \nL 147.022261 195.206251 \nL 146.668982 195.181269 \nL 146.681378 195.107486 \nL 148.226569 195.524313 \nL 146.503297 193.928487 \nL 146.854876 194.162965 \nL 147.472778 194.128417 \nL 146.703235 193.779027 \nL 146.349548 194.809204 \nL 146.722167 194.192108 \nL 146.432189 194.405909 \nL 146.219327 194.775787 \nL 146.832984 192.989518 \nL 146.239742 194.772798 \nL 144.35306 192.430408 \nL 145.032861 192.970229 \nL 146.38255 193.360924 \nL 146.338098 193.318388 \nL 145.451308 192.001661 \nL 145.844673 191.69212 \nL 146.275203 191.591944 \nL 145.747737 191.061988 \nL 144.944851 190.629552 \nL 145.835673 190.849481 \nL 144.970052 191.062505 \nL 145.35452 192.164814 \nL 144.507286 191.71201 \nL 143.841473 191.060165 \nL 144.846981 190.918726 \nL 145.937586 191.555357 \nL 143.629207 189.895838 \nL 143.774337 189.274214 \nL 143.511854 189.623592 \nL 143.832066 190.230214 \nL 144.251261 190.00221 \nL 143.128602 189.680281 \nL 143.250993 188.404233 \nL 142.499948 188.470265 \nL 142.535578 188.654097 \nL 142.238062 188.307817 \nL 141.419322 189.515018 \nL 142.146081 188.235834 \nL 142.643676 187.855827 \nL 142.368893 187.420175 \nL 142.700376 188.613342 \nL 142.295887 188.213208 \nL 142.009185 188.416971 \nL 142.437886 187.635426 \nL 142.21946 187.699201 \nL 142.053683 187.533472 \nL 143.189706 186.036614 \nL 142.309502 185.924973 \nL 142.164767 185.521075 \nL 141.635149 186.402049 \nL 141.688278 186.642978 \nL 140.50189 187.919764 \nL 140.96933 188.176955 \nL 140.348099 187.390877 \nL 142.55657 186.416949 \nL 142.235451 186.604292 \nL 141.861431 186.459824 \nL 142.640629 185.967501 \nL 142.905318 186.814204 \nL 141.260819 184.666148 \nL 140.314163 184.317078 \nL 141.975276 185.242962 \nL 142.237032 184.734775 \nL 141.479445 184.401392 \nL 142.15133 185.79265 \nL 141.589525 186.5057 \nL 142.259453 185.633754 \nL 139.507503 187.309364 \nL 140.405869 185.97878 \nL 139.925612 186.292345 \nL 139.554421 186.108259 \nL 138.955993 186.274513 \nL 140.485267 184.942176 \nL 138.20475 185.376376 \nL 140.173707 183.33745 \nL 140.040241 183.41121 \nL 140.241525 182.920723 \nL 140.086363 182.332027 \nL 140.407034 182.462858 \nL 140.09047 181.957805 \nL 139.683821 182.409222 \nL 140.066055 181.781101 \nL 139.292265 182.519302 \nL 140.722131 181.780607 \nL 139.452611 181.986741 \nL 140.031018 182.230768 \nL 139.125137 182.06064 \nL 139.44644 181.937027 \nL 139.462025 181.541495 \nL 139.024933 182.153586 \nL 139.156361 182.296328 \nL 139.187259 181.970476 \nL 138.987479 182.448368 \nL 139.241035 182.158342 \nL 139.0391 182.253654 \nL 138.810295 182.217121 \nL 140.048729 182.414861 \nL 140.179668 184.557825 \nL 139.055133 181.931688 \nL 139.889577 181.152153 \nL 140.95875 181.984542 \nL 138.188623 179.898633 \nL 139.917143 180.243103 \nL 137.671273 179.605334 \nL 139.868433 182.935946 \nL 138.12244 179.299485 \nL 137.387983 179.297118 \nL 140.744635 181.53451 \nL 139.12815 181.38727 \nL 137.852535 178.933622 \nL 137.72333 179.067147 \nL 138.101336 179.12189 \nL 138.002564 178.833193 \nL 137.54081 179.349977 \nL 137.870452 178.847694 \nL 137.223493 179.276318 \nL 137.244556 179.103182 \nL 136.563109 179.186689 \nL 137.145067 178.84248 \nL 136.586872 178.537446 \nL 136.72672 177.873677 \nL 136.447432 177.409823 \nL 136.621153 177.650238 \nL 136.112583 177.787528 \nL 136.282354 178.198085 \nL 136.098687 178.038706 \nL 135.879632 177.862815 \nL 135.910399 178.371784 \nL 135.778542 177.625535 \nL 135.545422 176.801974 \nL 134.794386 176.025046 \nL 136.067758 178.650635 \nL 134.584505 175.30454 \nL 136.149957 178.237859 \nL 136.454476 178.198324 \nL 136.605933 178.47304 \nL 136.577612 178.788004 \nL 135.761948 177.892198 \nL 133.78875 179.365842 \nL 135.797454 177.780199 \nL 135.781626 177.608547 \nL 136.250365 178.175847 \nL 135.713677 177.544726 \nL 136.101492 177.787198 \nL 136.422851 178.403314 \nL 135.787406 178.197837 \nL 135.599461 177.751173 \nL 135.645971 177.743603 \nL 135.860417 177.53344 \nL 135.678011 177.579583 \nL 135.807356 177.647111 \nL 135.178275 177.577015 \nL 135.324477 177.416557 \nL 135.916405 177.279398 \nL 135.144801 177.574727 \nL 135.018234 177.257731 \nL 134.057578 177.294981 \nL 135.004526 177.061956 \nL 133.967482 177.72735 \nL 133.711396 177.375993 \nL 134.650498 176.976624 \nL 134.261305 176.650193 \nL 132.355646 178.189908 \nL 132.230516 177.877295 \nL 132.321128 178.025402 \nL 133.81291 176.64105 \nL 133.608885 176.829012 \nL 133.289466 176.643069 \nL 132.822894 177.036626 \nL 131.934453 177.277562 \nL 132.462094 176.92958 \nL 132.387359 176.707053 \nL 133.133109 175.940386 \nL 132.734668 175.445195 \nL 131.991779 175.590196 \nL 132.582527 174.991109 \nL 132.337165 174.988851 \nL 132.004736 175.314125 \nL 132.319141 174.703352 \nL 131.915771 174.837406 \nL 131.825903 174.631518 \nL 131.611517 174.610222 \nL 131.631806 174.349579 \nL 131.606268 174.246034 \nL 130.916905 175.505914 \nL 131.351738 174.883908 \nL 131.457796 174.125085 \nL 131.830239 174.313205 \nL 130.834134 174.465918 \nL 131.390006 173.983449 \nL 131.469404 173.711011 \nL 131.212655 174.007083 \nL 131.068562 174.390131 \nL 131.118739 174.945454 \nL 130.804018 174.844709 \nL 130.960216 174.745624 \nL 130.842099 174.677609 \nL 130.964314 175.054543 \nL 131.860111 174.109966 \nL 130.862637 174.91346 \nL 130.39857 176.035071 \nL 131.418432 174.753534 \nL 131.070502 175.241342 \nL 130.637319 175.478451 \nL 132.418024 174.045636 \nL 131.681292 174.783138 \nL 131.219851 174.81188 \nL 131.845609 174.169028 \nL 131.322074 173.900872 \nL 131.453459 173.815054 \nL 131.170099 173.905891 \nL 130.979502 173.277104 \nL 131.058293 173.672934 \nL 130.670299 173.487479 \nL 130.102005 173.555263 \nL 129.873491 173.335361 \nL 129.769791 172.70189 \nL 129.329809 172.38347 \nL 129.36715 171.786723 \nL 129.206712 172.115754 \nL 128.719898 172.66694 \nL 128.618743 171.823547 \nL 128.37849 172.096188 \nL 128.751238 171.577593 \nL 128.005781 171.770163 \nL 128.004526 171.66451 \nL 127.84292 171.533198 \nL 127.822438 171.410484 \nL 128.027814 171.68025 \nL 127.813039 171.569588 \nL 127.730472 171.587774 \nL 128.268716 171.172919 \nL 129.084089 171.51746 \nL 129.010448 171.379569 \nL 129.190009 171.41591 \nL 129.103951 170.993211 \nL 129.472318 170.966511 \nL 128.974101 170.599701 \nL 129.239433 170.363516 \nL 129.040479 169.861827 \nL 129.444184 169.788563 \nL 129.675288 169.621961 \nL 129.648159 169.718978 \nL 129.53281 169.467189 \nL 130.022255 169.191665 \nL 129.683367 168.041054 \nL 130.450003 169.37573 \nL 130.210058 168.710663 \nL 130.449178 168.53897 \nL 129.926469 167.751266 \nL 130.549683 167.839394 \nL 132.982139 170.20661 \nL 133.087394 170.478096 \nL 134.396938 172.973215 \nL 130.038814 167.070701 \nL 130.933725 167.005798 \nL 131.261707 167.191958 \nL 130.333046 166.834737 \nL 130.156492 166.635522 \nL 130.184885 166.698443 \nL 130.38291 166.496223 \nL 130.237461 166.659741 \nL 130.601466 166.001963 \nL 132.004419 166.131083 \nL 132.179395 165.618061 \nL 130.977264 165.978534 \nL 131.777777 165.540644 \nL 131.529736 165.150589 \nL 129.399684 164.924288 \nL 131.182129 165.017511 \nL 131.945431 164.878518 \nL 130.11319 164.750206 \nL 131.715238 164.975044 \nL 131.32122 164.986603 \nL 130.199601 165.154717 \nL 130.205629 165.134649 \nL 128.885364 164.914869 \nL 130.316374 164.959322 \nL 131.451505 165.160616 \nL 131.174409 165.193187 \nL 131.300544 164.997857 \nL 130.183199 164.938027 \nL 131.494686 165.116991 \nL 130.213304 164.868268 \nL 129.988622 165.097542 \nL 130.170774 164.892089 \nL 130.006233 164.717253 \nL 129.911985 164.82808 \nL 129.824872 164.382381 \nL 130.35968 163.930509 \nL 129.703585 164.224005 \nL 129.70967 163.981828 \nL 130.479444 163.215222 \nL 130.183983 163.021117 \nL 130.32433 162.753994 \nL 130.230306 162.437487 \nL 130.335569 162.048666 \nL 129.590787 162.475187 \nL 130.494841 161.485198 \nL 130.373007 161.36891 \nL 129.41414 160.83389 \nL 129.609759 160.837685 \nL 129.610887 160.373831 \nL 129.641133 160.502338 \nL 129.757314 160.733928 \nL 129.522249 160.133525 \nL 129.346851 160.73729 \nL 129.526805 160.673588 \nL 130.23698 160.326473 \nL 129.278434 160.234254 \nL 129.300911 160.23246 \nL 130.301914 159.985033 \nL 130.183229 160.005962 \nL 130.042536 159.8091 \nL 130.118408 159.659789 \nL 129.801247 159.365725 \nL 129.2744 159.032568 \nL 129.559239 158.914024 \nL 129.617583 159.070092 \nL 129.322808 158.706233 \nL 129.981111 158.50247 \nL 129.852874 158.281692 \nL 129.89902 158.084729 \nL 129.790401 157.66219 \nL 129.816677 157.461332 \nL 130.042866 157.10299 \nL 129.789778 157.067388 \nL 129.896807 156.722044 \nL 130.22934 155.995381 \nL 130.209884 155.074337 \nL 130.11256 154.689821 \nL 130.389681 154.024638 \nL 130.152526 153.74536 \nL 130.422046 153.485614 \nL 130.23862 152.274957 \nL 130.542203 152.642349 \nL 130.153783 151.773024 \nL 130.343116 151.673937 \nL 130.7184 151.056002 \nL 130.447805 150.915854 \nL 130.369551 150.344389 \nL 130.370026 150.399543 \nL 130.518173 149.433789 \nL 130.54729 148.841284 \nL 130.361183 148.383159 \nL 130.539324 148.483171 \nL 130.632687 146.871258 \nL 130.544035 147.032954 \nL 130.076496 146.12981 \nL 130.144643 145.846524 \nL 130.403901 145.412777 \nL 130.457428 144.79064 \nL 130.381388 143.959607 \nL 130.575242 143.817335 \nL 130.407558 141.982352 \nL 130.623139 141.624406 \nL 130.395822 141.376359 \nL 130.595713 141.130049 \nL 130.575153 139.832027 \nL 130.50105 138.984381 \nL 130.532188 137.463594 \nL 130.800696 137.461841 \nL 130.628322 136.639781 \nL 130.486577 136.745603 \nL 130.596282 135.824823 \nL 130.406864 135.022774 \nL 130.755259 134.961235 \nL 130.387076 133.480958 \nL 130.508253 133.222788 \nL 130.061516 133.054999 \nL 130.393997 132.385887 \nL 130.263188 131.770727 \nL 129.771641 131.12672 \nL 129.911036 130.850382 \nL 129.4471 130.481065 \nL 129.337883 129.831105 \nL 129.083918 129.303328 \nL 128.803418 129.088837 \nL 128.412123 128.119328 \nL 128.281335 128.116523 \nL 127.849207 126.903098 \nL 127.881093 126.580948 \nL 127.58166 125.899758 \nL 127.445614 125.506844 \nL 126.951877 124.869673 \nL 126.585753 123.243282 \nL 126.456267 122.917695 \nL 126.622976 122.439673 \nL 126.481774 122.068367 \nL 126.861836 120.929544 \nL 126.254781 120.677309 \nL 125.857601 120.094387 \nL 125.647349 119.315796 \nL 125.610501 118.673091 \nL 125.328891 118.547713 \nL 125.726462 118.117681 \nL 125.337182 117.743911 \nL 125.495876 117.419989 \nL 125.451947 116.997883 \nL 125.531337 116.469845 \nL 125.287288 115.50171 \nL 125.55865 114.896736 \nL 125.355109 114.162094 \nL 125.460518 112.337932 \nL 125.600577 111.839179 \nL 125.405658 110.636615 \nL 125.562256 110.240302 \nL 125.365493 109.814639 \nL 125.532766 109.346606 \nL 125.323435 108.962172 \nL 125.421971 108.549317 \nL 125.480045 106.369923 \nL 125.55157 105.510968 \nL 125.425475 105.217914 \nL 125.373085 104.493781 \nL 125.61351 103.759924 \nL 125.427267 103.521723 \nL 125.199452 102.841422 \nL 125.527827 102.313838 \nL 125.414942 101.714991 \nL 125.594772 101.472814 \nL 125.289817 100.563581 \nL 125.566628 99.724321 \nL 125.371764 99.425703 \nL 125.224308 97.014254 \nL 125.574745 97.082812 \nL 125.437255 95.812805 \nL 125.687334 95.415815 \nL 125.219266 95.094484 \nL 125.313805 94.751036 \nL 125.313504 94.254714 \nL 125.440785 93.89241 \nL 125.589499 93.895687 \nL 125.321347 92.918228 \nL 125.389055 92.44097 \nL 125.262953 92.022305 \nL 125.465611 91.109808 \nL 125.330646 90.810881 \nL 125.517993 89.808487 \nL 125.35112 88.254158 \nL 125.405734 88.213449 \nL 125.319295 87.893022 \nL 125.266912 86.997208 \nL 125.443888 86.875356 \nL 125.489623 86.481451 \nL 125.29127 86.389381 \nL 125.5219 84.596628 \nL 125.355082 83.451345 \nL 125.326179 81.90922 \nL 125.46292 81.629449 \nL 125.367854 80.912714 \nL 125.547984 79.290507 \nL 125.437638 79.031351 \nL 125.337208 78.40317 \nL 125.478332 77.75878 \nL 125.312826 77.559474 \nL 125.310783 77.205334 \nL 125.58485 76.637078 \nL 125.45001 75.945875 \nL 125.447992 74.558665 \nL 125.423067 74.093051 \nL 125.216576 73.698765 \nL 125.365326 73.464708 \nL 125.349876 73.074781 \nL 125.573135 72.633819 \nL 125.337414 72.198624 \nL 125.431558 71.791887 \nL 125.291492 71.433859 \nL 125.459644 71.258394 \nL 125.5578 70.597213 \nL 125.507989 70.068102 \nL 125.15662 69.718226 \nL 125.535564 69.570195 \nL 125.480649 68.980248 \nL 125.600034 68.601416 \nL 125.524904 68.143131 \nL 125.298643 67.650976 \nL 125.362121 66.693876 \nL 125.764029 66.614199 \nL 125.702317 66.18249 \nL 125.457021 65.567469 \nL 125.761169 65.541173 \nL 125.17017 64.671763 \nL 125.503178 64.343772 \nL 125.437698 63.889768 \nL 125.680577 63.503659 \nL 125.314756 62.013941 \nL 125.533578 60.634379 \nL 125.374352 60.248638 \nL 125.507586 58.924834 \nL 125.456799 58.095343 \nL 125.569128 57.72738 \nL 125.520415 56.840892 \nL 125.83237 56.096482 \nL 125.80822 55.65641 \nL 126.044578 54.836737 \nL 126.359453 53.677673 \nL 127.017847 52.221378 \nL 127.136075 51.65795 \nL 127.413213 51.613243 \nL 127.569666 51.269039 \nL 127.619732 49.964555 \nL 127.79134 49.479515 \nL 128.000431 49.271559 \nL 127.928011 48.452147 \nL 128.287793 45.90806 \nL 128.583099 45.067555 \nL 129.03587 44.521134 \nL 129.312744 44.466684 \nL 129.173822 43.995238 \nL 129.272408 43.666752 \nL 129.100345 43.276528 \nL 129.064115 42.918142 \nL 129.25971 42.686321 \nL 129.086757 42.439539 \nL 129.243313 42.169844 \nL 129.326146 41.794889 \nL 129.420838 42.006811 \nL 129.224392 41.654299 \nL 129.194802 41.803397 \nL 129.06856 41.573894 \nL 129.438755 41.595924 \nL 129.324389 41.517187 \nL 129.288264 41.865012 \nL 129.282206 41.625834 \nL 129.103001 41.707836 \nL 129.348833 41.67781 \nL 129.302496 41.672394 \nL 129.352949 41.717233 \nL 129.191855 41.65704 \nL 129.255699 41.768754 \nL 129.120043 41.77325 \nL 129.349194 41.728776 \nL 129.1673 41.707837 \nL 129.17522 41.53419 \nL 129.127267 41.966905 \nL 129.137793 41.896016 \nL 129.34307 41.457655 \nL 129.174609 41.465781 \nL 129.223293 41.729805 \nL 129.28408 38.028055 \nL 129.083146 37.882641 \nL 129.282822 36.906195 \nL 129.159369 36.622826 \nL 129.255253 36.046559 \nL 129.077946 34.34752 \nL 129.254795 33.725964 \nL 129.029532 33.492259 \nL 129.176392 33.442285 \nL 129.084752 33.22644 \nL 129.139834 33.225734 \nL 129.00528 33.387658 \nL 128.856534 33.313124 \nL 128.955784 33.365993 \nL 129.451493 33.065254 \nL 129.239194 33.246549 \nL 129.445676 32.843732 \nL 129.146776 33.204544 \nL 129.274845 33.143605 \nL 129.072921 33.312157 \nL 129.125364 33.281662 \nL 129.185918 33.417571 \nL 129.06834 33.521042 \nL 129.339545 33.277184 \nL 129.274492 33.240151 \nL 129.341207 33.096078 \nL 129.256598 33.239536 \nL 129.077417 33.338356 \nL 129.246604 33.109857 \nL 128.816025 33.823911 \nL 128.72702 33.727653 \nL 128.793165 33.912062 \nL 129.264263 33.155012 \nL 128.992136 33.382428 \nL 129.012261 33.416168 \nL 128.764559 32.953624 \nL 128.592726 33.041428 \nL 128.405237 32.864261 \nL 127.956632 33.098774 \nL 127.728215 33.006578 \nL 127.421072 33.095875 \nL 127.364883 33.243695 \nL 126.697627 32.966927 \nL 126.326366 33.186521 \nL 126.175382 33.045069 \nL 125.857773 33.014734 \nL 125.807313 33.137148 \nL 125.975012 32.997806 \nL 126.016191 33.297769 \nL 125.854637 32.891176 \nL 126.186875 33.284222 \nL 126.079158 33.164752 \nL 126.016084 33.341007 \nL 125.762603 33.11236 \nL 125.417915 33.044061 \nL 125.291873 33.020513 \nL 125.251163 33.243651 \nL 125.043074 32.919769 \nL 124.710916 33.031951 \nL 124.445725 33.119416 \nL 124.203954 33.003431 \nL 123.964689 33.125075 \nL 123.811546 33.019196 \nL 123.747397 33.344936 \nL 123.020407 32.993938 \nL 122.329896 33.082655 \nL 122.047808 33.005382 \nL 121.901509 33.117901 \nL 121.650319 32.987431 \nL 121.620576 33.427963 \nL 121.333702 32.927767 \nL 121.157143 33.170223 \nL 120.913682 33.195222 \nL 120.664834 33.046906 \nL 120.368942 33.258195 \nL 119.983279 33.16429 \nL 119.826473 32.840508 \nL 119.725265 33.198478 \nL 119.497831 33.279503 \nL 119.135588 33.107066 \nL 118.895883 32.790515 \nL 118.786842 33.1515 \nL 118.528197 33.090492 \nL 118.383583 33.177734 \nL 118.103047 32.943775 \nL 118.019536 33.153882 \nL 117.477269 33.006943 \nL 117.025512 32.9911 \nL 117.03264 33.175382 \nL 116.868978 33.141184 \nL 116.838693 32.986853 \nL 116.865317 33.07793 \nL 116.980433 33.098207 \nL 116.716492 33.161506 \nL 116.731878 33.076622 \nL 116.958396 33.528657 \nL 116.606491 33.016144 \nL 116.541018 33.015051 \nL 116.400142 33.239709 \nL 116.309192 33.13363 \nL 114.956938 32.956983 \nL 114.839098 32.901089 \nL 114.614332 33.086104 \nL 114.323044 33.161473 \nL 113.984782 32.877251 \nL 113.298008 33.073186 \nL 113.394814 33.073803 \nL 113.077118 32.898093 \nL 112.690436 33.136202 \nL 112.456097 33.057797 \nL 112.255019 33.057976 \nL 111.990635 33.194452 \nL 111.595497 32.992726 \nL 111.601037 32.760606 \nL 111.438845 32.805508 \nL 111.36352 33.082998 \nL 110.422168 33.09929 \nL 109.959134 33.094824 \nL 109.929764 33.35132 \nL 109.878423 33.154047 \nL 109.890333 33.220288 \nL 109.672246 33.019797 \nL 109.424121 33.232453 \nL 109.3724 33.093653 \nL 109.025299 32.81273 \nL 108.77651 32.94394 \nL 108.438578 33.14063 \nL 108.14182 32.815408 \nL 107.960001 32.811469 \nL 107.838596 32.630927 \nL 107.964566 32.752485 \nL 107.901939 32.362228 \nL 107.569841 32.702611 \nL 107.676592 32.456788 \nL 107.49106 32.201761 \nL 107.882981 32.767976 \nL 107.69985 32.512795 \nL 107.569079 32.50698 \nL 107.890624 32.627148 \nL 107.750145 32.702714 \nL 107.565672 32.491829 \nL 107.53723 33.077142 \nL 107.808445 32.952799 \nL 107.647555 32.697513 \nL 107.495048 32.896166 \nL 107.834561 32.833178 \nL 107.802244 32.658057 \nL 107.836362 32.88623 \nL 107.653307 32.936993 \nL 108.029641 32.962543 \nL 107.912717 32.894665 \nL 107.774363 33.185844 \nL 107.290393 33.410207 \nL 107.242388 32.976178 \nL 106.766759 33.116165 \nL 106.652234 33.218962 \nL 106.241183 33.198807 \nL 106.053814 32.970731 \nL 105.771058 33.300144 \nL 105.595727 33.063587 \nL 105.311973 33.162545 \nL 105.225087 33.111141 \nL 105.129562 33.275836 \nL 105.185198 33.286083 \nL 105.372171 33.784791 \nL 105.737667 33.894188 \nL 105.201714 33.822822 \nL 105.374416 34.190877 \nL 105.102724 33.630692 \nL 105.023086 33.864009 \nL 105.159033 33.8106 \nL 104.973517 33.827076 \nL 105.197263 33.985947 \nL 105.136728 34.063576 \nL 104.974509 33.611118 \nL 105.287851 33.907819 \nL 105.1538 33.415857 \nL 105.128098 33.45731 \nL 104.850535 33.260289 \nL 105.158313 33.428335 \nL 105.261758 33.746991 \nL 105.719062 34.494104 \nL 105.133882 33.514873 \nL 105.29247 33.933563 \nL 105.282605 33.984289 \nL 105.258614 33.778631 \nL 105.355242 33.906315 \nL 105.49436 34.031296 \nL 105.27232 33.634192 \nL 105.23686 33.773214 \nL 105.755092 34.612405 \nL 105.426327 33.99532 \nL 105.41195 33.680533 \nL 105.757557 34.688208 \nL 105.581671 34.21971 \nL 105.287558 33.703245 \nL 105.426159 34.207522 \nL 105.655425 34.459078 \nL 105.568627 34.413861 \nL 105.782428 34.795003 \nL 105.070945 33.433273 \nL 105.360995 33.824954 \nL 105.388383 33.846539 \nL 105.729821 34.504396 \nL 105.294862 33.735179 \nL 105.262666 33.785548 \n\" style=\"fill:none;stroke:#1f77b4;stroke-linecap:square;stroke-width:1.5;\"/>\n   </g>\n   <g id=\"patch_3\">\n    <path d=\"M 102.54837 239.758125 \nL 102.54837 22.318125 \n\" style=\"fill:none;stroke:#000000;stroke-linecap:square;stroke-linejoin:miter;stroke-width:0.8;\"/>\n   </g>\n   <g id=\"patch_4\">\n    <path d=\"M 153.196005 239.758125 \nL 153.196005 22.318125 \n\" style=\"fill:none;stroke:#000000;stroke-linecap:square;stroke-linejoin:miter;stroke-width:0.8;\"/>\n   </g>\n   <g id=\"patch_5\">\n    <path d=\"M 102.54837 239.758125 \nL 153.196005 239.758125 \n\" style=\"fill:none;stroke:#000000;stroke-linecap:square;stroke-linejoin:miter;stroke-width:0.8;\"/>\n   </g>\n   <g id=\"patch_6\">\n    <path d=\"M 102.54837 22.318125 \nL 153.196005 22.318125 \n\" style=\"fill:none;stroke:#000000;stroke-linecap:square;stroke-linejoin:miter;stroke-width:0.8;\"/>\n   </g>\n   <g id=\"text_11\">\n    <!-- Basic Least Squares Position Calculation -->\n    <g transform=\"translate(7.2 16.318125)scale(0.12 -0.12)\">\n     <defs>\n      <path d=\"M 19.671875 34.8125 \nL 19.671875 8.109375 \nL 35.5 8.109375 \nQ 43.453125 8.109375 47.28125 11.40625 \nQ 51.125 14.703125 51.125 21.484375 \nQ 51.125 28.328125 47.28125 31.5625 \nQ 43.453125 34.8125 35.5 34.8125 \nz\nM 19.671875 64.796875 \nL 19.671875 42.828125 \nL 34.28125 42.828125 \nQ 41.5 42.828125 45.03125 45.53125 \nQ 48.578125 48.25 48.578125 53.8125 \nQ 48.578125 59.328125 45.03125 62.0625 \nQ 41.5 64.796875 34.28125 64.796875 \nz\nM 9.8125 72.90625 \nL 35.015625 72.90625 \nQ 46.296875 72.90625 52.390625 68.21875 \nQ 58.5 63.53125 58.5 54.890625 \nQ 58.5 48.1875 55.375 44.234375 \nQ 52.25 40.28125 46.1875 39.3125 \nQ 53.46875 37.75 57.5 32.78125 \nQ 61.53125 27.828125 61.53125 20.40625 \nQ 61.53125 10.640625 54.890625 5.3125 \nQ 48.25 0 35.984375 0 \nL 9.8125 0 \nz\n\" id=\"DejaVuSans-66\"/>\n      <path d=\"M 9.421875 54.6875 \nL 18.40625 54.6875 \nL 18.40625 0 \nL 9.421875 0 \nz\nM 9.421875 75.984375 \nL 18.40625 75.984375 \nL 18.40625 64.59375 \nL 9.421875 64.59375 \nz\n\" id=\"DejaVuSans-105\"/>\n      <path d=\"M 48.78125 52.59375 \nL 48.78125 44.1875 \nQ 44.96875 46.296875 41.140625 47.34375 \nQ 37.3125 48.390625 33.40625 48.390625 \nQ 24.65625 48.390625 19.8125 42.84375 \nQ 14.984375 37.3125 14.984375 27.296875 \nQ 14.984375 17.28125 19.8125 11.734375 \nQ 24.65625 6.203125 33.40625 6.203125 \nQ 37.3125 6.203125 41.140625 7.25 \nQ 44.96875 8.296875 48.78125 10.40625 \nL 48.78125 2.09375 \nQ 45.015625 0.34375 40.984375 -0.53125 \nQ 36.96875 -1.421875 32.421875 -1.421875 \nQ 20.0625 -1.421875 12.78125 6.34375 \nQ 5.515625 14.109375 5.515625 27.296875 \nQ 5.515625 40.671875 12.859375 48.328125 \nQ 20.21875 56 33.015625 56 \nQ 37.15625 56 41.109375 55.140625 \nQ 45.0625 54.296875 48.78125 52.59375 \nz\n\" id=\"DejaVuSans-99\"/>\n      <path d=\"M 9.8125 72.90625 \nL 19.671875 72.90625 \nL 19.671875 8.296875 \nL 55.171875 8.296875 \nL 55.171875 0 \nL 9.8125 0 \nz\n\" id=\"DejaVuSans-76\"/>\n      <path d=\"M 56.203125 29.59375 \nL 56.203125 25.203125 \nL 14.890625 25.203125 \nQ 15.484375 15.921875 20.484375 11.0625 \nQ 25.484375 6.203125 34.421875 6.203125 \nQ 39.59375 6.203125 44.453125 7.46875 \nQ 49.3125 8.734375 54.109375 11.28125 \nL 54.109375 2.78125 \nQ 49.265625 0.734375 44.1875 -0.34375 \nQ 39.109375 -1.421875 33.890625 -1.421875 \nQ 20.796875 -1.421875 13.15625 6.1875 \nQ 5.515625 13.8125 5.515625 26.8125 \nQ 5.515625 40.234375 12.765625 48.109375 \nQ 20.015625 56 32.328125 56 \nQ 43.359375 56 49.78125 48.890625 \nQ 56.203125 41.796875 56.203125 29.59375 \nz\nM 47.21875 32.234375 \nQ 47.125 39.59375 43.09375 43.984375 \nQ 39.0625 48.390625 32.421875 48.390625 \nQ 24.90625 48.390625 20.390625 44.140625 \nQ 15.875 39.890625 15.1875 32.171875 \nz\n\" id=\"DejaVuSans-101\"/>\n      <path d=\"M 53.515625 70.515625 \nL 53.515625 60.890625 \nQ 47.90625 63.578125 42.921875 64.890625 \nQ 37.9375 66.21875 33.296875 66.21875 \nQ 25.25 66.21875 20.875 63.09375 \nQ 16.5 59.96875 16.5 54.203125 \nQ 16.5 49.359375 19.40625 46.890625 \nQ 22.3125 44.4375 30.421875 42.921875 \nL 36.375 41.703125 \nQ 47.40625 39.59375 52.65625 34.296875 \nQ 57.90625 29 57.90625 20.125 \nQ 57.90625 9.515625 50.796875 4.046875 \nQ 43.703125 -1.421875 29.984375 -1.421875 \nQ 24.8125 -1.421875 18.96875 -0.25 \nQ 13.140625 0.921875 6.890625 3.21875 \nL 6.890625 13.375 \nQ 12.890625 10.015625 18.65625 8.296875 \nQ 24.421875 6.59375 29.984375 6.59375 \nQ 38.421875 6.59375 43.015625 9.90625 \nQ 47.609375 13.234375 47.609375 19.390625 \nQ 47.609375 24.75 44.3125 27.78125 \nQ 41.015625 30.8125 33.5 32.328125 \nL 27.484375 33.5 \nQ 16.453125 35.6875 11.515625 40.375 \nQ 6.59375 45.0625 6.59375 53.421875 \nQ 6.59375 63.09375 13.40625 68.65625 \nQ 20.21875 74.21875 32.171875 74.21875 \nQ 37.3125 74.21875 42.625 73.28125 \nQ 47.953125 72.359375 53.515625 70.515625 \nz\n\" id=\"DejaVuSans-83\"/>\n      <path d=\"M 14.796875 27.296875 \nQ 14.796875 17.390625 18.875 11.75 \nQ 22.953125 6.109375 30.078125 6.109375 \nQ 37.203125 6.109375 41.296875 11.75 \nQ 45.40625 17.390625 45.40625 27.296875 \nQ 45.40625 37.203125 41.296875 42.84375 \nQ 37.203125 48.484375 30.078125 48.484375 \nQ 22.953125 48.484375 18.875 42.84375 \nQ 14.796875 37.203125 14.796875 27.296875 \nz\nM 45.40625 8.203125 \nQ 42.578125 3.328125 38.25 0.953125 \nQ 33.9375 -1.421875 27.875 -1.421875 \nQ 17.96875 -1.421875 11.734375 6.484375 \nQ 5.515625 14.40625 5.515625 27.296875 \nQ 5.515625 40.1875 11.734375 48.09375 \nQ 17.96875 56 27.875 56 \nQ 33.9375 56 38.25 53.625 \nQ 42.578125 51.265625 45.40625 46.390625 \nL 45.40625 54.6875 \nL 54.390625 54.6875 \nL 54.390625 -20.796875 \nL 45.40625 -20.796875 \nz\n\" id=\"DejaVuSans-113\"/>\n      <path d=\"M 8.5 21.578125 \nL 8.5 54.6875 \nL 17.484375 54.6875 \nL 17.484375 21.921875 \nQ 17.484375 14.15625 20.5 10.265625 \nQ 23.53125 6.390625 29.59375 6.390625 \nQ 36.859375 6.390625 41.078125 11.03125 \nQ 45.3125 15.671875 45.3125 23.6875 \nL 45.3125 54.6875 \nL 54.296875 54.6875 \nL 54.296875 0 \nL 45.3125 0 \nL 45.3125 8.40625 \nQ 42.046875 3.421875 37.71875 1 \nQ 33.40625 -1.421875 27.6875 -1.421875 \nQ 18.265625 -1.421875 13.375 4.4375 \nQ 8.5 10.296875 8.5 21.578125 \nz\nM 31.109375 56 \nz\n\" id=\"DejaVuSans-117\"/>\n      <path d=\"M 19.671875 64.796875 \nL 19.671875 37.40625 \nL 32.078125 37.40625 \nQ 38.96875 37.40625 42.71875 40.96875 \nQ 46.484375 44.53125 46.484375 51.125 \nQ 46.484375 57.671875 42.71875 61.234375 \nQ 38.96875 64.796875 32.078125 64.796875 \nz\nM 9.8125 72.90625 \nL 32.078125 72.90625 \nQ 44.34375 72.90625 50.609375 67.359375 \nQ 56.890625 61.8125 56.890625 51.125 \nQ 56.890625 40.328125 50.609375 34.8125 \nQ 44.34375 29.296875 32.078125 29.296875 \nL 19.671875 29.296875 \nL 19.671875 0 \nL 9.8125 0 \nz\n\" id=\"DejaVuSans-80\"/>\n      <path d=\"M 54.890625 33.015625 \nL 54.890625 0 \nL 45.90625 0 \nL 45.90625 32.71875 \nQ 45.90625 40.484375 42.875 44.328125 \nQ 39.84375 48.1875 33.796875 48.1875 \nQ 26.515625 48.1875 22.3125 43.546875 \nQ 18.109375 38.921875 18.109375 30.90625 \nL 18.109375 0 \nL 9.078125 0 \nL 9.078125 54.6875 \nL 18.109375 54.6875 \nL 18.109375 46.1875 \nQ 21.34375 51.125 25.703125 53.5625 \nQ 30.078125 56 35.796875 56 \nQ 45.21875 56 50.046875 50.171875 \nQ 54.890625 44.34375 54.890625 33.015625 \nz\n\" id=\"DejaVuSans-110\"/>\n      <path d=\"M 64.40625 67.28125 \nL 64.40625 56.890625 \nQ 59.421875 61.53125 53.78125 63.8125 \nQ 48.140625 66.109375 41.796875 66.109375 \nQ 29.296875 66.109375 22.65625 58.46875 \nQ 16.015625 50.828125 16.015625 36.375 \nQ 16.015625 21.96875 22.65625 14.328125 \nQ 29.296875 6.6875 41.796875 6.6875 \nQ 48.140625 6.6875 53.78125 8.984375 \nQ 59.421875 11.28125 64.40625 15.921875 \nL 64.40625 5.609375 \nQ 59.234375 2.09375 53.4375 0.328125 \nQ 47.65625 -1.421875 41.21875 -1.421875 \nQ 24.65625 -1.421875 15.125 8.703125 \nQ 5.609375 18.84375 5.609375 36.375 \nQ 5.609375 53.953125 15.125 64.078125 \nQ 24.65625 74.21875 41.21875 74.21875 \nQ 47.75 74.21875 53.53125 72.484375 \nQ 59.328125 70.75 64.40625 67.28125 \nz\n\" id=\"DejaVuSans-67\"/>\n      <path d=\"M 9.421875 75.984375 \nL 18.40625 75.984375 \nL 18.40625 0 \nL 9.421875 0 \nz\n\" id=\"DejaVuSans-108\"/>\n     </defs>\n     <use xlink:href=\"#DejaVuSans-66\"/>\n     <use x=\"68.603516\" xlink:href=\"#DejaVuSans-97\"/>\n     <use x=\"129.882812\" xlink:href=\"#DejaVuSans-115\"/>\n     <use x=\"181.982422\" xlink:href=\"#DejaVuSans-105\"/>\n     <use x=\"209.765625\" xlink:href=\"#DejaVuSans-99\"/>\n     <use x=\"264.746094\" xlink:href=\"#DejaVuSans-32\"/>\n     <use x=\"296.533203\" xlink:href=\"#DejaVuSans-76\"/>\n     <use x=\"350.496094\" xlink:href=\"#DejaVuSans-101\"/>\n     <use x=\"412.019531\" xlink:href=\"#DejaVuSans-97\"/>\n     <use x=\"473.298828\" xlink:href=\"#DejaVuSans-115\"/>\n     <use x=\"525.398438\" xlink:href=\"#DejaVuSans-116\"/>\n     <use x=\"564.607422\" xlink:href=\"#DejaVuSans-32\"/>\n     <use x=\"596.394531\" xlink:href=\"#DejaVuSans-83\"/>\n     <use x=\"659.871094\" xlink:href=\"#DejaVuSans-113\"/>\n     <use x=\"723.347656\" xlink:href=\"#DejaVuSans-117\"/>\n     <use x=\"786.726562\" xlink:href=\"#DejaVuSans-97\"/>\n     <use x=\"848.005859\" xlink:href=\"#DejaVuSans-114\"/>\n     <use x=\"886.869141\" xlink:href=\"#DejaVuSans-101\"/>\n     <use x=\"948.392578\" xlink:href=\"#DejaVuSans-115\"/>\n     <use x=\"1000.492188\" xlink:href=\"#DejaVuSans-32\"/>\n     <use x=\"1032.279297\" xlink:href=\"#DejaVuSans-80\"/>\n     <use x=\"1088.957031\" xlink:href=\"#DejaVuSans-111\"/>\n     <use x=\"1150.138672\" xlink:href=\"#DejaVuSans-115\"/>\n     <use x=\"1202.238281\" xlink:href=\"#DejaVuSans-105\"/>\n     <use x=\"1230.021484\" xlink:href=\"#DejaVuSans-116\"/>\n     <use x=\"1269.230469\" xlink:href=\"#DejaVuSans-105\"/>\n     <use x=\"1297.013672\" xlink:href=\"#DejaVuSans-111\"/>\n     <use x=\"1358.195312\" xlink:href=\"#DejaVuSans-110\"/>\n     <use x=\"1421.574219\" xlink:href=\"#DejaVuSans-32\"/>\n     <use x=\"1453.361328\" xlink:href=\"#DejaVuSans-67\"/>\n     <use x=\"1523.185547\" xlink:href=\"#DejaVuSans-97\"/>\n     <use x=\"1584.464844\" xlink:href=\"#DejaVuSans-108\"/>\n     <use x=\"1612.248047\" xlink:href=\"#DejaVuSans-99\"/>\n     <use x=\"1667.228516\" xlink:href=\"#DejaVuSans-117\"/>\n     <use x=\"1730.607422\" xlink:href=\"#DejaVuSans-108\"/>\n     <use x=\"1758.390625\" xlink:href=\"#DejaVuSans-97\"/>\n     <use x=\"1819.669922\" xlink:href=\"#DejaVuSans-116\"/>\n     <use x=\"1858.878906\" xlink:href=\"#DejaVuSans-105\"/>\n     <use x=\"1886.662109\" xlink:href=\"#DejaVuSans-111\"/>\n     <use x=\"1947.84375\" xlink:href=\"#DejaVuSans-110\"/>\n    </g>\n   </g>\n  </g>\n </g>\n <defs>\n  <clipPath id=\"pbb8b57c1d2\">\n   <rect height=\"217.44\" width=\"50.647636\" x=\"102.54837\" y=\"22.318125\"/>\n  </clipPath>\n </defs>\n</svg>\n",
      "image/png": "[encoded data removed]"
     },
     "metadata": {
      "needs_background": "light"
     }
    }
   ],
   "source": [
    "import matplotlib.pyplot as plt\n",
    "ned_df = pd.DataFrame(ned_list, columns=['N', 'E', 'D'])\n",
    "plt.plot(ned_df['E'], ned_df['N'])\n",
    "\n",
    "# Add titles\n",
    "plt.title('Basic Least Squares Position Calculation')\n",
    "plt.xlabel(\"East (m)\")\n",
    "plt.ylabel(\"North (m)\")\n",
    "plt.gca().set_aspect('equal', adjustable='box')"
   ]
  }
 ],
 "metadata": {
  "kernelspec": {
   "display_name": "Python 3",
   "language": "python",
   "name": "python3"
  },
  "language_info": {
   "codemirror_mode": {
    "name": "ipython",
    "version": 3
   },
   "file_extension": ".py",
   "mimetype": "text/x-python",
   "name": "python",
   "nbconvert_exporter": "python",
   "pygments_lexer": "ipython3",
   "version": "3.8.5-final"
  },
  "orig_nbformat": 2
 },
 "nbformat": 4,
 "nbformat_minor": 2
}