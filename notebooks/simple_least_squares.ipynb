{
 "cells": [
  {
   "cell_type": "markdown",
   "metadata": {},
   "source": [
    "# Calculating Receiver Position from Android Raw GNSS Measurements\n",
    "\n",
    "This notebook was written by [Mitchell Johnson](https://www.johnsonmitchelld.com/). The source code, as well as the gnssutils Python package containing the EphemerisManager module, can be found on [Github](https://github.com/johnsonmitchelld/gnss-analysis).\n",
    "\n",
    "The import process and data directory determination below assume that the Python interpreter's working directory is the same as this notebook, and that the gnssutils package and data repository are located in the parent directory. If that is not the case, you'll have to modify accordingly."
   ]
  },
  {
   "cell_type": "code",
   "execution_count": 12,
   "metadata": {},
   "outputs": [],
   "source": [
    "import sys, os, csv\n",
    "parent_directory = os.path.split(os.getcwd())[0]\n",
    "data_directory = os.path.join(parent_directory, 'data')\n",
    "sys.path.insert(0, parent_directory)\n",
    "from datetime import datetime, timezone, timedelta\n",
    "import pandas as pd\n",
    "import numpy as np\n",
    "import navpy\n",
    "from gnssutils import EphemerisManager"
   ]
  },
  {
   "cell_type": "markdown",
   "metadata": {},
   "source": [
    "Let's read in a GNSS log file, format the satellite IDs to match up with the RINEX 3.0 standard, and convert the columns we need to calculate receiver position to numeric values. We'll also filter the data so that we're only working with GPS measurements to simplify the rest of the analysis."
   ]
  },
  {
   "cell_type": "code",
   "execution_count": 13,
   "metadata": {
    "tags": []
   },
   "outputs": [
    {
     "name": "stdout",
     "output_type": "stream",
     "text": [
      "Index(['ElapsedRealtimeMillis', 'TimeNanos', 'LeapSecond',\n",
      "       'TimeUncertaintyNanos', 'FullBiasNanos', 'BiasNanos',\n",
      "       'BiasUncertaintyNanos', 'DriftNanosPerSecond',\n",
      "       'DriftUncertaintyNanosPerSecond', 'HardwareClockDiscontinuityCount',\n",
      "       'Svid', 'TimeOffsetNanos', 'State', 'ReceivedSvTimeNanos',\n",
      "       'ReceivedSvTimeUncertaintyNanos', 'Cn0DbHz',\n",
      "       'PseudorangeRateMetersPerSecond',\n",
      "       'PseudorangeRateUncertaintyMetersPerSecond',\n",
      "       'AccumulatedDeltaRangeState', 'AccumulatedDeltaRangeMeters',\n",
      "       'AccumulatedDeltaRangeUncertaintyMeters', 'CarrierFrequencyHz',\n",
      "       'CarrierCycles', 'CarrierPhase', 'CarrierPhaseUncertainty',\n",
      "       'MultipathIndicator', 'SnrInDb', 'ConstellationType', 'AgcDb',\n",
      "       'CarrierFrequencyHz', 'Constellation', 'SvName'],\n",
      "      dtype='object')\n"
     ]
    }
   ],
   "source": [
    "# Get path to sample file in data directory, which is located in the parent directory of this notebook\n",
    "input_filepath = os.path.join(parent_directory, 'data', 'sample', 'gnss_log_2020_12_02_17_19_39.txt')\n",
    "\n",
    "with open(input_filepath) as csvfile:\n",
    "    reader = csv.reader(csvfile)\n",
    "    for row in reader:\n",
    "        if row[0][0] == '#':\n",
    "            if 'Fix' in row[0]:\n",
    "                android_fixes = [row[1:]]\n",
    "            elif 'Raw' in row[0]:\n",
    "                measurements = [row[1:]]\n",
    "        else:\n",
    "            if row[0] == 'Fix':\n",
    "                android_fixes.append(row[1:])\n",
    "            elif row[0] == 'Raw':\n",
    "                measurements.append(row[1:])\n",
    "\n",
    "android_fixes = pd.DataFrame(android_fixes[1:], columns = android_fixes[0])\n",
    "measurements = pd.DataFrame(measurements[1:], columns = measurements[0])\n",
    "\n",
    "# Format satellite IDs\n",
    "measurements.loc[measurements['Svid'].str.len() == 1, 'Svid'] = '0' + measurements['Svid']\n",
    "measurements.loc[measurements['ConstellationType'] == '1', 'Constellation'] = 'G'\n",
    "measurements.loc[measurements['ConstellationType'] == '3', 'Constellation'] = 'R'\n",
    "measurements['SvName'] = measurements['Constellation'] + measurements['Svid']\n",
    "\n",
    "# Remove all non-GPS measurements\n",
    "measurements = measurements.loc[measurements['Constellation'] == 'G']\n",
    "\n",
    "# Convert columns to numeric representation\n",
    "measurements['Cn0DbHz'] = pd.to_numeric(measurements['Cn0DbHz'])\n",
    "measurements['TimeNanos'] = pd.to_numeric(measurements['TimeNanos'])\n",
    "measurements['FullBiasNanos'] = pd.to_numeric(measurements['FullBiasNanos'])\n",
    "measurements['ReceivedSvTimeNanos']  = pd.to_numeric(measurements['ReceivedSvTimeNanos'])\n",
    "measurements['PseudorangeRateMetersPerSecond'] = pd.to_numeric(measurements['PseudorangeRateMetersPerSecond'])\n",
    "measurements['ReceivedSvTimeUncertaintyNanos'] = pd.to_numeric(measurements['ReceivedSvTimeUncertaintyNanos'])\n",
    "if 'BiasNanos' in measurements.columns:\n",
    "    measurements['BiasNanos'] = pd.to_numeric(measurements['BiasNanos'])\n",
    "else:\n",
    "    measurements['BiasNanos'] = 0\n",
    "if 'TimeOffsetNanos' in measurements.columns:\n",
    "    measurements['TimeOffsetNanos'] = pd.to_numeric(measurements['TimeOffsetNanos'])\n",
    "else:\n",
    "    measurements['TimeOffsetNanos'] = 0\n",
    "\n",
    "print(measurements.columns)"
   ]
  },
  {
   "cell_type": "markdown",
   "metadata": {},
   "source": [
    "Those with experience in GNSS data processing will probably notice that we're missing a few important fields for calculating receiver position.\n",
    "\n",
    "First, we'll calculate the GPS time in nanoseconds using the equations from Section 2.4 of the European Global Navigation Satellite Systems Agency's [white paper](https://www.gsa.europa.eu/system/files/reports/gnss_raw_measurement_web_0.pdf). Then we'll convert it to a normal Unix timestamp using the Pandas.to_datetime() function with the GPS reference epoch.\n",
    "\n",
    "**An aside on timestamps:** note that the UTC flag is set to True in the Pandas.to_datetime() method. The timestamp column needs to be timezone-aware, because we're eventually going to plug it into the Python datetime library and use it to format the ephemeris filepath for download from NASA. The EphemerisManager module compares the timestamp with the current time to determine which files to retrieve. Since the datetime library defaults to local time on some systems, it was necessary to keep everything timezone-aware to avoid mix-ups.\n",
    "\n",
    "This nomenclature is a bit confusing since we're using the method to create a column called UnixTime. Unix time and UTC are technically in the same time zone, but UTC includes leap seconds, while Unix time does not. Since we're creating a timestamp from the number of seconds elapsed since the GPS epoch, the resulting timestamp could differ from UTC by some number of leap seconds. That's close enough to ensure we get the correct ephemeris file, and it won't affect the actual position calculations because we don't use the UnixTime column for those.\n",
    "\n",
    "Finally, let's split the data into measurement epochs. We do this by creating a new column and setting it to 1 whenever the difference between a timestamp and the previous timestamp is greater than 200 milliseconds using the DataFrame.shift() command. Then we use the cumsum method to generate unique numbers for the individual epochs."
   ]
  },
  {
   "cell_type": "code",
   "execution_count": 14,
   "metadata": {},
   "outputs": [],
   "source": [
    "\n",
    "measurements['GpsTimeNanos'] = measurements['TimeNanos'] - (measurements['FullBiasNanos'] - measurements['BiasNanos'])\n",
    "gpsepoch = datetime(1980, 1, 6, 0, 0, 0)\n",
    "measurements['UnixTime'] = pd.to_datetime(measurements['GpsTimeNanos'], utc = True, origin=gpsepoch)\n",
    "measurements['UnixTime'] = measurements['UnixTime']\n",
    "\n",
    "# Split data into measurement epochs\n",
    "measurements['Epoch'] = 0\n",
    "measurements.loc[measurements['UnixTime'] - measurements['UnixTime'].shift() > timedelta(milliseconds=200), 'Epoch'] = 1\n",
    "measurements['Epoch'] = measurements['Epoch'].cumsum()"
   ]
  },
  {
   "cell_type": "markdown",
   "metadata": {},
   "source": [
    "Next let's calculate the estimated signal transmission and reception times. From those we'll calculate the pseudorange for each satellite in both seconds and meters."
   ]
  },
  {
   "cell_type": "code",
   "execution_count": 15,
   "metadata": {},
   "outputs": [],
   "source": [
    "WEEKSEC = 604800\n",
    "LIGHTSPEED = 2.99792458e8\n",
    "\n",
    "# This should account for rollovers since it uses a week number specific to each measurement\n",
    "\n",
    "measurements['tRxGnssNanos'] = measurements['TimeNanos'] + measurements['TimeOffsetNanos'] - (measurements['FullBiasNanos'].iloc[0] + measurements['BiasNanos'].iloc[0])\n",
    "measurements['GpsWeekNumber'] = np.floor(1e-9 * measurements['tRxGnssNanos'] / WEEKSEC)\n",
    "measurements['tRxSeconds'] = 1e-9*measurements['tRxGnssNanos'] - WEEKSEC * measurements['GpsWeekNumber']\n",
    "measurements['tTxSeconds'] = 1e-9*(measurements['ReceivedSvTimeNanos'] + measurements['TimeOffsetNanos'])\n",
    "measurements['prSeconds'] = measurements['tRxSeconds'] - measurements['tTxSeconds']\n",
    "measurements['PrM'] = LIGHTSPEED * measurements['prSeconds']\n",
    "measurements['PrSigmaM'] = LIGHTSPEED * 1e-9 * measurements['ReceivedSvTimeUncertaintyNanos']"
   ]
  },
  {
   "cell_type": "markdown",
   "metadata": {},
   "source": [
    "Now that we have pseudorange values, we can begin the standard process for calculating receiver position. First we need to retrieve the ephemeris data for each satellite from one of the International GNSS Service (IGS) analysis centers. These include NASA's [CDDIS](https://cddis.nasa.gov/Data_and_Derived_Products/GNSS/orbit_products.html) and the German [BKG](https://igs.bkg.bund.de/dataandproducts/index).\n",
    "\n",
    "This process is a bit of a pain, so I wrote a Python module to handle the details. You can view the code and documentation [here](https://github.com/johnsonmitchelld/gnss-analysis/tree/main/gnssutils)."
   ]
  },
  {
   "cell_type": "code",
   "execution_count": 16,
   "metadata": {},
   "outputs": [],
   "source": [
    "manager = EphemerisManager(data_directory)\n",
    "\n",
    "epoch = 1\n",
    "one_epoch = measurements.loc[(measurements['Epoch'] == epoch) & (measurements['prSeconds'] < 0.1)].drop_duplicates(subset='SvName')\n",
    "timestamp = one_epoch.iloc[0]['UnixTime'].to_pydatetime(warn=False)\n",
    "one_epoch.set_index('SvName', inplace=True)\n",
    "\n",
    "sats = one_epoch.index.unique().tolist()\n",
    "ephemeris = manager.get_ephemeris(timestamp, sats)"
   ]
  },
  {
   "cell_type": "markdown",
   "metadata": {},
   "source": [
    "Calculating satellite position from ephemeris data is a bit involved, but the details are conveniently laid out in Tables 20-III and 20-IV of the GPS [Interface Specification Document](https://www.gps.gov/technical/icwg/IS-GPS-200L.pdf). The function below performs this calculation, taking a Pandas dataframe with the ephemeris parameters for every satellite and a dataseries containing the transmit time for all received signals in seconds since the start of the current GPS week. It also calculates the satellite clock offsets for the given transmission time."
   ]
  },
  {
   "cell_type": "code",
   "execution_count": 17,
   "metadata": {},
   "outputs": [
    {
     "name": "stdout",
     "output_type": "stream",
     "text": [
      "t_k   delT_sv           x_k           y_k           z_k\n",
      "sv                                                                  \n",
      "G05  4798.354392 -0.000027 -2.169459e+07  4.567309e+06  1.460855e+07\n",
      "G07  4798.362980 -0.000426 -3.712097e+06 -1.643102e+07  2.075176e+07\n",
      "G08  4798.359065 -0.000002  7.360862e+06 -1.915973e+07  1.671387e+07\n",
      "G09  4798.356828 -0.000297 -7.513663e+06 -2.535897e+07  2.246009e+06\n",
      "G13  4798.353017  0.000071 -1.324770e+07  1.036539e+07  2.039038e+07\n",
      "G14  4798.359694  0.000052 -2.110710e+07 -1.395521e+07  8.074122e+06\n",
      "G27  4798.354133 -0.000027  1.340582e+07 -7.092335e+06  2.161869e+07\n",
      "G28  4798.358286  0.000648 -2.237475e+07 -1.338043e+07  5.118816e+06\n",
      "G30  4798.363216 -0.000346 -1.305576e+07 -9.339792e+06  2.122918e+07\n"
     ]
    }
   ],
   "source": [
    "def calculate_satellite_position(ephemeris, transmit_time):\n",
    "    mu = 3.986005e14\n",
    "    OmegaDot_e = 7.2921151467e-5\n",
    "    F = -4.442807633e-10\n",
    "    sv_position = pd.DataFrame()\n",
    "    sv_position['sv']= ephemeris.index\n",
    "    sv_position.set_index('sv', inplace=True)\n",
    "    sv_position['t_k'] = transmit_time - ephemeris['t_oe']\n",
    "    A = ephemeris['sqrtA'].pow(2)\n",
    "    n_0 = np.sqrt(mu / A.pow(3))\n",
    "    n = n_0 + ephemeris['deltaN']\n",
    "    M_k = ephemeris['M_0'] + n * sv_position['t_k']\n",
    "    E_k = M_k\n",
    "    err = pd.Series(data=[1]*len(sv_position.index))\n",
    "    i = 0\n",
    "    while err.abs().min() > 1e-8 and i < 10:\n",
    "        new_vals = M_k + ephemeris['e']*np.sin(E_k)\n",
    "        err = new_vals - E_k\n",
    "        E_k = new_vals\n",
    "        i += 1\n",
    "        \n",
    "    sinE_k = np.sin(E_k)\n",
    "    cosE_k = np.cos(E_k)\n",
    "    delT_r = F * ephemeris['e'].pow(ephemeris['sqrtA']) * sinE_k\n",
    "    delT_oc = transmit_time - ephemeris['t_oc']\n",
    "    sv_position['delT_sv'] = ephemeris['SVclockBias'] + ephemeris['SVclockDrift'] * delT_oc + ephemeris['SVclockDriftRate'] * delT_oc.pow(2)\n",
    "\n",
    "    v_k = np.arctan2(np.sqrt(1-ephemeris['e'].pow(2))*sinE_k,(cosE_k - ephemeris['e']))\n",
    "\n",
    "    Phi_k = v_k + ephemeris['omega']\n",
    "\n",
    "    sin2Phi_k = np.sin(2*Phi_k)\n",
    "    cos2Phi_k = np.cos(2*Phi_k)\n",
    "\n",
    "    du_k = ephemeris['C_us']*sin2Phi_k + ephemeris['C_uc']*cos2Phi_k\n",
    "    dr_k = ephemeris['C_rs']*sin2Phi_k + ephemeris['C_rc']*cos2Phi_k\n",
    "    di_k = ephemeris['C_is']*sin2Phi_k + ephemeris['C_ic']*cos2Phi_k\n",
    "\n",
    "    u_k = Phi_k + du_k\n",
    "\n",
    "    r_k = A*(1 - ephemeris['e']*np.cos(E_k)) + dr_k\n",
    "\n",
    "    i_k = ephemeris['i_0'] + di_k + ephemeris['IDOT']*sv_position['t_k']\n",
    "\n",
    "    x_k_prime = r_k*np.cos(u_k)\n",
    "    y_k_prime = r_k*np.sin(u_k)\n",
    "\n",
    "    Omega_k = ephemeris['Omega_0'] + (ephemeris['OmegaDot'] - OmegaDot_e)*sv_position['t_k'] - OmegaDot_e*ephemeris['t_oe']\n",
    "\n",
    "    sv_position['x_k'] = x_k_prime*np.cos(Omega_k) - y_k_prime*np.cos(i_k)*np.sin(Omega_k)\n",
    "    sv_position['y_k'] = x_k_prime*np.sin(Omega_k) + y_k_prime*np.cos(i_k)*np.cos(Omega_k)\n",
    "    sv_position['z_k'] = y_k_prime*np.sin(i_k)\n",
    "    return sv_position\n",
    "\n",
    "# Run the function and check out the results:\n",
    "sv_position = calculate_satellite_position(ephemeris, one_epoch['tTxSeconds'])\n",
    "print(sv_position)"
   ]
  },
  {
   "cell_type": "markdown",
   "metadata": {},
   "source": [
    "We now have raw pseudorange values, satellite positions, and satellite clock offsets. Let's correct the pseudoranges for satellite clock bias and convert the values to Numpy arrays."
   ]
  },
  {
   "cell_type": "code",
   "execution_count": 18,
   "metadata": {},
   "outputs": [],
   "source": [
    "#initial guesses of receiver clock bias and position\n",
    "b0 = 0\n",
    "x0 = np.array([0, 0, 0])\n",
    "xs = sv_position[['x_k', 'y_k', 'z_k']].to_numpy()\n",
    "\n",
    "# Apply satellite clock bias to correct the measured pseudorange values\n",
    "pr = one_epoch['PrM'] + LIGHTSPEED * sv_position['delT_sv']\n",
    "pr = pr.to_numpy()"
   ]
  },
  {
   "cell_type": "markdown",
   "metadata": {},
   "source": [
    "Here's the function to calculate rough receiver position. Its inputs are Numpy arrays containing satellite positions in the ECEF frame, pseudorange measurements in meters, and initial estimates of receiver position and clock bias. The unit for clock bias is meters, so you need to divide by the speed of light to convert to seconds.\n",
    "\n",
    "This function is adapted and simplified from the MATLAB code in Ankur Mohan's [blog](https://www.telesens.co/2017/07/17/calculating-position-from-raw-gps-data/). It's a simple least squares iteration with no correction for ionospheric delay or satellite movement during signal time of flight."
   ]
  },
  {
   "cell_type": "code",
   "execution_count": 19,
   "metadata": {},
   "outputs": [
    {
     "name": "stdout",
     "output_type": "stream",
     "text": [
      "(47.586226683713626, -122.32841257048368, -8.600107594393194)\n",
      "1.4905288128847168e-07\n",
      "29.587176126343603\n"
     ]
    }
   ],
   "source": [
    "def least_squares(xs, pr, x0, b0):\n",
    "    dx = 100*np.ones(3)\n",
    "    b = b0\n",
    "    # set up the G matrix with the right dimensions. We will later replace the first 3 columns\n",
    "    # note that b here is the clock bias in meters equivalent, so the actual clock bias is b/LIGHTSPEED\n",
    "    G = np.ones((pr.size, 4))\n",
    "    iterations = 0\n",
    "    while np.linalg.norm(dx) > 1e-3:\n",
    "        norms = np.linalg.norm(xs - x0, axis=1)\n",
    "        dp = pr - norms + b - b0\n",
    "        G[:, 0:3] = -(xs - x0)/norms[:, None]\n",
    "        sol = np.linalg.inv(np.transpose(G)@G) @ np.transpose(G) @ dp\n",
    "        dx = sol[0:3]\n",
    "        db = sol[3]\n",
    "        norm_dp = np.linalg.norm(dp)\n",
    "        x0 = x0 + dx\n",
    "        b0 = b0 + db\n",
    "\n",
    "    return x0, b0, norm_dp\n",
    "\n",
    "x, b, dp = least_squares(xs, pr, x0, b0)\n",
    "print(navpy.ecef2lla(x))\n",
    "print(b/LIGHTSPEED)\n",
    "print(dp)"
   ]
  },
  {
   "cell_type": "markdown",
   "metadata": {},
   "source": [
    "Looks like it worked! The pseudorange residual is in the tens of meters, which is reasonable considering we didn't correct for ionospheric delay or the rotation of the Earth during signal transmission.\n",
    "\n",
    "Now let's wrap this entire process into a loop to calculate receiver position for every measurement epoch in the dataset with more than 4 satellite measurements.\n",
    "\n"
   ]
  },
  {
   "cell_type": "code",
   "execution_count": 20,
   "metadata": {
    "tags": []
   },
   "outputs": [],
   "source": [
    "lla_list = []\n",
    "ned_list = []\n",
    "for epoch in measurements['Epoch'].unique():\n",
    "    one_epoch = measurements.loc[(measurements['Epoch'] == epoch) & (measurements['prSeconds'] < 0.1)] \n",
    "    one_epoch = one_epoch.drop_duplicates(subset='SvName').set_index('SvName')\n",
    "    if len(one_epoch.index) > 4:\n",
    "        timestamp = one_epoch.iloc[0]['UnixTime'].to_pydatetime(warn=False)\n",
    "        sats = one_epoch.index.unique().tolist()\n",
    "        ephemeris = manager.get_ephemeris(timestamp, sats)\n",
    "        sv_position = calculate_satellite_position(ephemeris, one_epoch['tTxSeconds'])\n",
    "\n",
    "        xs = sv_position[['x_k', 'y_k', 'z_k']].to_numpy()\n",
    "        pr = one_epoch['PrM'] + LIGHTSPEED * sv_position['delT_sv']\n",
    "        pr = pr.to_numpy()\n",
    "\n",
    "        x, b, dp = least_squares(xs, pr, x, b)\n",
    "        lla = navpy.ecef2lla(x)\n",
    "        lla_list.append(lla)\n",
    "        ned_list.append(navpy.lla2ned(lla[0], lla[1], lla[2], lla_list[0][0], lla_list[0][1], lla_list[0][2]))"
   ]
  },
  {
   "cell_type": "markdown",
   "metadata": {},
   "source": [
    "Finally, we'll convert the list of NED translations into a Pandas dataframe and create a plot of change in position relative to the first measurement epoch."
   ]
  },
  {
   "cell_type": "code",
   "execution_count": 21,
   "metadata": {},
   "outputs": [
    {
     "data": {
      "image/png": "[encoded data removed]",
      "image/svg+xml": "<?xml version=\"1.0\" encoding=\"utf-8\" standalone=\"no\"?>\n<!DOCTYPE svg PUBLIC \"-//W3C//DTD SVG 1.1//EN\"\n  \"http://www.w3.org/Graphics/SVG/1.1/DTD/svg11.dtd\">\n<!-- Created with matplotlib (https://matplotlib.org/) -->\n<svg height=\"277.314375pt\" version=\"1.1\" viewBox=\"0 0 204.33 277.314375\" width=\"204.33pt\" xmlns=\"http://www.w3.org/2000/svg\" xmlns:xlink=\"http://www.w3.org/1999/xlink\">\n <metadata>\n  <rdf:RDF xmlns:cc=\"http://creativecommons.org/ns#\" xmlns:dc=\"http://purl.org/dc/elements/1.1/\" xmlns:rdf=\"http://www.w3.org/1999/02/22-rdf-syntax-ns#\">\n   <cc:Work>\n    <dc:type rdf:resource=\"http://purl.org/dc/dcmitype/StillImage\"/>\n    <dc:date>2021-01-15T16:15:34.749556</dc:date>\n    <dc:format>image/svg+xml</dc:format>\n    <dc:creator>\n     <cc:Agent>\n      <dc:title>Matplotlib v3.3.3, https://matplotlib.org/</dc:title>\n     </cc:Agent>\n    </dc:creator>\n   </cc:Work>\n  </rdf:RDF>\n </metadata>\n <defs>\n  <style type=\"text/css\">*{stroke-linecap:butt;stroke-linejoin:round;}</style>\n </defs>\n <g id=\"figure_1\">\n  <g id=\"patch_1\">\n   <path d=\"M 0 277.314375 \nL 204.33 277.314375 \nL 204.33 0 \nL 0 0 \nz\n\" style=\"fill:none;\"/>\n  </g>\n  <g id=\"axes_1\">\n   <g id=\"patch_2\">\n    <path d=\"M 83.250623 239.758125 \nL 121.079377 239.758125 \nL 121.079377 22.318125 \nL 83.250623 22.318125 \nz\n\" style=\"fill:#ffffff;\"/>\n   </g>\n   <g id=\"matplotlib.axis_1\">\n    <g id=\"xtick_1\">\n     <g id=\"line2d_1\">\n      <defs>\n       <path d=\"M 0 0 \nL 0 3.5 \n\" id=\"m01d718afcb\" style=\"stroke:#000000;stroke-width:0.8;\"/>\n      </defs>\n      <g>\n       <use style=\"stroke:#000000;stroke-width:0.8;\" x=\"100.759048\" xlink:href=\"#m01d718afcb\" y=\"239.758125\"/>\n      </g>\n     </g>\n     <g id=\"text_1\">\n      <!-- −1000 -->\n      <g transform=\"translate(83.844204 254.356562)scale(0.1 -0.1)\">\n       <defs>\n        <path d=\"M 10.59375 35.5 \nL 73.1875 35.5 \nL 73.1875 27.203125 \nL 10.59375 27.203125 \nz\n\" id=\"DejaVuSans-8722\"/>\n        <path d=\"M 12.40625 8.296875 \nL 28.515625 8.296875 \nL 28.515625 63.921875 \nL 10.984375 60.40625 \nL 10.984375 69.390625 \nL 28.421875 72.90625 \nL 38.28125 72.90625 \nL 38.28125 8.296875 \nL 54.390625 8.296875 \nL 54.390625 0 \nL 12.40625 0 \nz\n\" id=\"DejaVuSans-49\"/>\n        <path d=\"M 31.78125 66.40625 \nQ 24.171875 66.40625 20.328125 58.90625 \nQ 16.5 51.421875 16.5 36.375 \nQ 16.5 21.390625 20.328125 13.890625 \nQ 24.171875 6.390625 31.78125 6.390625 \nQ 39.453125 6.390625 43.28125 13.890625 \nQ 47.125 21.390625 47.125 36.375 \nQ 47.125 51.421875 43.28125 58.90625 \nQ 39.453125 66.40625 31.78125 66.40625 \nz\nM 31.78125 74.21875 \nQ 44.046875 74.21875 50.515625 64.515625 \nQ 56.984375 54.828125 56.984375 36.375 \nQ 56.984375 17.96875 50.515625 8.265625 \nQ 44.046875 -1.421875 31.78125 -1.421875 \nQ 19.53125 -1.421875 13.0625 8.265625 \nQ 6.59375 17.96875 6.59375 36.375 \nQ 6.59375 54.828125 13.0625 64.515625 \nQ 19.53125 74.21875 31.78125 74.21875 \nz\n\" id=\"DejaVuSans-48\"/>\n       </defs>\n       <use xlink:href=\"#DejaVuSans-8722\"/>\n       <use x=\"83.789062\" xlink:href=\"#DejaVuSans-49\"/>\n       <use x=\"147.412109\" xlink:href=\"#DejaVuSans-48\"/>\n       <use x=\"211.035156\" xlink:href=\"#DejaVuSans-48\"/>\n       <use x=\"274.658203\" xlink:href=\"#DejaVuSans-48\"/>\n      </g>\n     </g>\n    </g>\n    <g id=\"xtick_2\">\n     <g id=\"line2d_2\">\n      <g>\n       <use style=\"stroke:#000000;stroke-width:0.8;\" x=\"118.371225\" xlink:href=\"#m01d718afcb\" y=\"239.758125\"/>\n      </g>\n     </g>\n     <g id=\"text_2\">\n      <!-- 0 -->\n      <g transform=\"translate(115.189975 254.356562)scale(0.1 -0.1)\">\n       <use xlink:href=\"#DejaVuSans-48\"/>\n      </g>\n     </g>\n    </g>\n    <g id=\"text_3\">\n     <!-- East (m) -->\n     <g transform=\"translate(81.015781 268.034687)scale(0.1 -0.1)\">\n      <defs>\n       <path d=\"M 9.8125 72.90625 \nL 55.90625 72.90625 \nL 55.90625 64.59375 \nL 19.671875 64.59375 \nL 19.671875 43.015625 \nL 54.390625 43.015625 \nL 54.390625 34.71875 \nL 19.671875 34.71875 \nL 19.671875 8.296875 \nL 56.78125 8.296875 \nL 56.78125 0 \nL 9.8125 0 \nz\n\" id=\"DejaVuSans-69\"/>\n       <path d=\"M 34.28125 27.484375 \nQ 23.390625 27.484375 19.1875 25 \nQ 14.984375 22.515625 14.984375 16.5 \nQ 14.984375 11.71875 18.140625 8.90625 \nQ 21.296875 6.109375 26.703125 6.109375 \nQ 34.1875 6.109375 38.703125 11.40625 \nQ 43.21875 16.703125 43.21875 25.484375 \nL 43.21875 27.484375 \nz\nM 52.203125 31.203125 \nL 52.203125 0 \nL 43.21875 0 \nL 43.21875 8.296875 \nQ 40.140625 3.328125 35.546875 0.953125 \nQ 30.953125 -1.421875 24.3125 -1.421875 \nQ 15.921875 -1.421875 10.953125 3.296875 \nQ 6 8.015625 6 15.921875 \nQ 6 25.140625 12.171875 29.828125 \nQ 18.359375 34.515625 30.609375 34.515625 \nL 43.21875 34.515625 \nL 43.21875 35.40625 \nQ 43.21875 41.609375 39.140625 45 \nQ 35.0625 48.390625 27.6875 48.390625 \nQ 23 48.390625 18.546875 47.265625 \nQ 14.109375 46.140625 10.015625 43.890625 \nL 10.015625 52.203125 \nQ 14.9375 54.109375 19.578125 55.046875 \nQ 24.21875 56 28.609375 56 \nQ 40.484375 56 46.34375 49.84375 \nQ 52.203125 43.703125 52.203125 31.203125 \nz\n\" id=\"DejaVuSans-97\"/>\n       <path d=\"M 44.28125 53.078125 \nL 44.28125 44.578125 \nQ 40.484375 46.53125 36.375 47.5 \nQ 32.28125 48.484375 27.875 48.484375 \nQ 21.1875 48.484375 17.84375 46.4375 \nQ 14.5 44.390625 14.5 40.28125 \nQ 14.5 37.15625 16.890625 35.375 \nQ 19.28125 33.59375 26.515625 31.984375 \nL 29.59375 31.296875 \nQ 39.15625 29.25 43.1875 25.515625 \nQ 47.21875 21.78125 47.21875 15.09375 \nQ 47.21875 7.46875 41.1875 3.015625 \nQ 35.15625 -1.421875 24.609375 -1.421875 \nQ 20.21875 -1.421875 15.453125 -0.5625 \nQ 10.6875 0.296875 5.421875 2 \nL 5.421875 11.28125 \nQ 10.40625 8.6875 15.234375 7.390625 \nQ 20.0625 6.109375 24.8125 6.109375 \nQ 31.15625 6.109375 34.5625 8.28125 \nQ 37.984375 10.453125 37.984375 14.40625 \nQ 37.984375 18.0625 35.515625 20.015625 \nQ 33.0625 21.96875 24.703125 23.78125 \nL 21.578125 24.515625 \nQ 13.234375 26.265625 9.515625 29.90625 \nQ 5.8125 33.546875 5.8125 39.890625 \nQ 5.8125 47.609375 11.28125 51.796875 \nQ 16.75 56 26.8125 56 \nQ 31.78125 56 36.171875 55.265625 \nQ 40.578125 54.546875 44.28125 53.078125 \nz\n\" id=\"DejaVuSans-115\"/>\n       <path d=\"M 18.3125 70.21875 \nL 18.3125 54.6875 \nL 36.8125 54.6875 \nL 36.8125 47.703125 \nL 18.3125 47.703125 \nL 18.3125 18.015625 \nQ 18.3125 11.328125 20.140625 9.421875 \nQ 21.96875 7.515625 27.59375 7.515625 \nL 36.8125 7.515625 \nL 36.8125 0 \nL 27.59375 0 \nQ 17.1875 0 13.234375 3.875 \nQ 9.28125 7.765625 9.28125 18.015625 \nL 9.28125 47.703125 \nL 2.6875 47.703125 \nL 2.6875 54.6875 \nL 9.28125 54.6875 \nL 9.28125 70.21875 \nz\n\" id=\"DejaVuSans-116\"/>\n       <path id=\"DejaVuSans-32\"/>\n       <path d=\"M 31 75.875 \nQ 24.46875 64.65625 21.28125 53.65625 \nQ 18.109375 42.671875 18.109375 31.390625 \nQ 18.109375 20.125 21.3125 9.0625 \nQ 24.515625 -2 31 -13.1875 \nL 23.1875 -13.1875 \nQ 15.875 -1.703125 12.234375 9.375 \nQ 8.59375 20.453125 8.59375 31.390625 \nQ 8.59375 42.28125 12.203125 53.3125 \nQ 15.828125 64.359375 23.1875 75.875 \nz\n\" id=\"DejaVuSans-40\"/>\n       <path d=\"M 52 44.1875 \nQ 55.375 50.25 60.0625 53.125 \nQ 64.75 56 71.09375 56 \nQ 79.640625 56 84.28125 50.015625 \nQ 88.921875 44.046875 88.921875 33.015625 \nL 88.921875 0 \nL 79.890625 0 \nL 79.890625 32.71875 \nQ 79.890625 40.578125 77.09375 44.375 \nQ 74.3125 48.1875 68.609375 48.1875 \nQ 61.625 48.1875 57.5625 43.546875 \nQ 53.515625 38.921875 53.515625 30.90625 \nL 53.515625 0 \nL 44.484375 0 \nL 44.484375 32.71875 \nQ 44.484375 40.625 41.703125 44.40625 \nQ 38.921875 48.1875 33.109375 48.1875 \nQ 26.21875 48.1875 22.15625 43.53125 \nQ 18.109375 38.875 18.109375 30.90625 \nL 18.109375 0 \nL 9.078125 0 \nL 9.078125 54.6875 \nL 18.109375 54.6875 \nL 18.109375 46.1875 \nQ 21.1875 51.21875 25.484375 53.609375 \nQ 29.78125 56 35.6875 56 \nQ 41.65625 56 45.828125 52.96875 \nQ 50 49.953125 52 44.1875 \nz\n\" id=\"DejaVuSans-109\"/>\n       <path d=\"M 8.015625 75.875 \nL 15.828125 75.875 \nQ 23.140625 64.359375 26.78125 53.3125 \nQ 30.421875 42.28125 30.421875 31.390625 \nQ 30.421875 20.453125 26.78125 9.375 \nQ 23.140625 -1.703125 15.828125 -13.1875 \nL 8.015625 -13.1875 \nQ 14.5 -2 17.703125 9.0625 \nQ 20.90625 20.125 20.90625 31.390625 \nQ 20.90625 42.671875 17.703125 53.65625 \nQ 14.5 64.65625 8.015625 75.875 \nz\n\" id=\"DejaVuSans-41\"/>\n      </defs>\n      <use xlink:href=\"#DejaVuSans-69\"/>\n      <use x=\"63.183594\" xlink:href=\"#DejaVuSans-97\"/>\n      <use x=\"124.462891\" xlink:href=\"#DejaVuSans-115\"/>\n      <use x=\"176.5625\" xlink:href=\"#DejaVuSans-116\"/>\n      <use x=\"215.771484\" xlink:href=\"#DejaVuSans-32\"/>\n      <use x=\"247.558594\" xlink:href=\"#DejaVuSans-40\"/>\n      <use x=\"286.572266\" xlink:href=\"#DejaVuSans-109\"/>\n      <use x=\"383.984375\" xlink:href=\"#DejaVuSans-41\"/>\n     </g>\n    </g>\n   </g>\n   <g id=\"matplotlib.axis_2\">\n    <g id=\"ytick_1\">\n     <g id=\"line2d_3\">\n      <defs>\n       <path d=\"M 0 0 \nL -3.5 0 \n\" id=\"m2c9f6bf445\" style=\"stroke:#000000;stroke-width:0.8;\"/>\n      </defs>\n      <g>\n       <use style=\"stroke:#000000;stroke-width:0.8;\" x=\"83.250623\" xlink:href=\"#m2c9f6bf445\" y=\"229.756837\"/>\n      </g>\n     </g>\n     <g id=\"text_4\">\n      <!-- 0 -->\n      <g transform=\"translate(69.888123 233.556056)scale(0.1 -0.1)\">\n       <use xlink:href=\"#DejaVuSans-48\"/>\n      </g>\n     </g>\n    </g>\n    <g id=\"ytick_2\">\n     <g id=\"line2d_4\">\n      <g>\n       <use style=\"stroke:#000000;stroke-width:0.8;\" x=\"83.250623\" xlink:href=\"#m2c9f6bf445\" y=\"194.532483\"/>\n      </g>\n     </g>\n     <g id=\"text_5\">\n      <!-- 2000 -->\n      <g transform=\"translate(50.800623 198.331702)scale(0.1 -0.1)\">\n       <defs>\n        <path d=\"M 19.1875 8.296875 \nL 53.609375 8.296875 \nL 53.609375 0 \nL 7.328125 0 \nL 7.328125 8.296875 \nQ 12.9375 14.109375 22.625 23.890625 \nQ 32.328125 33.6875 34.8125 36.53125 \nQ 39.546875 41.84375 41.421875 45.53125 \nQ 43.3125 49.21875 43.3125 52.78125 \nQ 43.3125 58.59375 39.234375 62.25 \nQ 35.15625 65.921875 28.609375 65.921875 \nQ 23.96875 65.921875 18.8125 64.3125 \nQ 13.671875 62.703125 7.8125 59.421875 \nL 7.8125 69.390625 \nQ 13.765625 71.78125 18.9375 73 \nQ 24.125 74.21875 28.421875 74.21875 \nQ 39.75 74.21875 46.484375 68.546875 \nQ 53.21875 62.890625 53.21875 53.421875 \nQ 53.21875 48.921875 51.53125 44.890625 \nQ 49.859375 40.875 45.40625 35.40625 \nQ 44.1875 33.984375 37.640625 27.21875 \nQ 31.109375 20.453125 19.1875 8.296875 \nz\n\" id=\"DejaVuSans-50\"/>\n       </defs>\n       <use xlink:href=\"#DejaVuSans-50\"/>\n       <use x=\"63.623047\" xlink:href=\"#DejaVuSans-48\"/>\n       <use x=\"127.246094\" xlink:href=\"#DejaVuSans-48\"/>\n       <use x=\"190.869141\" xlink:href=\"#DejaVuSans-48\"/>\n      </g>\n     </g>\n    </g>\n    <g id=\"ytick_3\">\n     <g id=\"line2d_5\">\n      <g>\n       <use style=\"stroke:#000000;stroke-width:0.8;\" x=\"83.250623\" xlink:href=\"#m2c9f6bf445\" y=\"159.308129\"/>\n      </g>\n     </g>\n     <g id=\"text_6\">\n      <!-- 4000 -->\n      <g transform=\"translate(50.800623 163.107348)scale(0.1 -0.1)\">\n       <defs>\n        <path d=\"M 37.796875 64.3125 \nL 12.890625 25.390625 \nL 37.796875 25.390625 \nz\nM 35.203125 72.90625 \nL 47.609375 72.90625 \nL 47.609375 25.390625 \nL 58.015625 25.390625 \nL 58.015625 17.1875 \nL 47.609375 17.1875 \nL 47.609375 0 \nL 37.796875 0 \nL 37.796875 17.1875 \nL 4.890625 17.1875 \nL 4.890625 26.703125 \nz\n\" id=\"DejaVuSans-52\"/>\n       </defs>\n       <use xlink:href=\"#DejaVuSans-52\"/>\n       <use x=\"63.623047\" xlink:href=\"#DejaVuSans-48\"/>\n       <use x=\"127.246094\" xlink:href=\"#DejaVuSans-48\"/>\n       <use x=\"190.869141\" xlink:href=\"#DejaVuSans-48\"/>\n      </g>\n     </g>\n    </g>\n    <g id=\"ytick_4\">\n     <g id=\"line2d_6\">\n      <g>\n       <use style=\"stroke:#000000;stroke-width:0.8;\" x=\"83.250623\" xlink:href=\"#m2c9f6bf445\" y=\"124.083775\"/>\n      </g>\n     </g>\n     <g id=\"text_7\">\n      <!-- 6000 -->\n      <g transform=\"translate(50.800623 127.882994)scale(0.1 -0.1)\">\n       <defs>\n        <path d=\"M 33.015625 40.375 \nQ 26.375 40.375 22.484375 35.828125 \nQ 18.609375 31.296875 18.609375 23.390625 \nQ 18.609375 15.53125 22.484375 10.953125 \nQ 26.375 6.390625 33.015625 6.390625 \nQ 39.65625 6.390625 43.53125 10.953125 \nQ 47.40625 15.53125 47.40625 23.390625 \nQ 47.40625 31.296875 43.53125 35.828125 \nQ 39.65625 40.375 33.015625 40.375 \nz\nM 52.59375 71.296875 \nL 52.59375 62.3125 \nQ 48.875 64.0625 45.09375 64.984375 \nQ 41.3125 65.921875 37.59375 65.921875 \nQ 27.828125 65.921875 22.671875 59.328125 \nQ 17.53125 52.734375 16.796875 39.40625 \nQ 19.671875 43.65625 24.015625 45.921875 \nQ 28.375 48.1875 33.59375 48.1875 \nQ 44.578125 48.1875 50.953125 41.515625 \nQ 57.328125 34.859375 57.328125 23.390625 \nQ 57.328125 12.15625 50.6875 5.359375 \nQ 44.046875 -1.421875 33.015625 -1.421875 \nQ 20.359375 -1.421875 13.671875 8.265625 \nQ 6.984375 17.96875 6.984375 36.375 \nQ 6.984375 53.65625 15.1875 63.9375 \nQ 23.390625 74.21875 37.203125 74.21875 \nQ 40.921875 74.21875 44.703125 73.484375 \nQ 48.484375 72.75 52.59375 71.296875 \nz\n\" id=\"DejaVuSans-54\"/>\n       </defs>\n       <use xlink:href=\"#DejaVuSans-54\"/>\n       <use x=\"63.623047\" xlink:href=\"#DejaVuSans-48\"/>\n       <use x=\"127.246094\" xlink:href=\"#DejaVuSans-48\"/>\n       <use x=\"190.869141\" xlink:href=\"#DejaVuSans-48\"/>\n      </g>\n     </g>\n    </g>\n    <g id=\"ytick_5\">\n     <g id=\"line2d_7\">\n      <g>\n       <use style=\"stroke:#000000;stroke-width:0.8;\" x=\"83.250623\" xlink:href=\"#m2c9f6bf445\" y=\"88.859421\"/>\n      </g>\n     </g>\n     <g id=\"text_8\">\n      <!-- 8000 -->\n      <g transform=\"translate(50.800623 92.65864)scale(0.1 -0.1)\">\n       <defs>\n        <path d=\"M 31.78125 34.625 \nQ 24.75 34.625 20.71875 30.859375 \nQ 16.703125 27.09375 16.703125 20.515625 \nQ 16.703125 13.921875 20.71875 10.15625 \nQ 24.75 6.390625 31.78125 6.390625 \nQ 38.8125 6.390625 42.859375 10.171875 \nQ 46.921875 13.96875 46.921875 20.515625 \nQ 46.921875 27.09375 42.890625 30.859375 \nQ 38.875 34.625 31.78125 34.625 \nz\nM 21.921875 38.8125 \nQ 15.578125 40.375 12.03125 44.71875 \nQ 8.5 49.078125 8.5 55.328125 \nQ 8.5 64.0625 14.71875 69.140625 \nQ 20.953125 74.21875 31.78125 74.21875 \nQ 42.671875 74.21875 48.875 69.140625 \nQ 55.078125 64.0625 55.078125 55.328125 \nQ 55.078125 49.078125 51.53125 44.71875 \nQ 48 40.375 41.703125 38.8125 \nQ 48.828125 37.15625 52.796875 32.3125 \nQ 56.78125 27.484375 56.78125 20.515625 \nQ 56.78125 9.90625 50.3125 4.234375 \nQ 43.84375 -1.421875 31.78125 -1.421875 \nQ 19.734375 -1.421875 13.25 4.234375 \nQ 6.78125 9.90625 6.78125 20.515625 \nQ 6.78125 27.484375 10.78125 32.3125 \nQ 14.796875 37.15625 21.921875 38.8125 \nz\nM 18.3125 54.390625 \nQ 18.3125 48.734375 21.84375 45.5625 \nQ 25.390625 42.390625 31.78125 42.390625 \nQ 38.140625 42.390625 41.71875 45.5625 \nQ 45.3125 48.734375 45.3125 54.390625 \nQ 45.3125 60.0625 41.71875 63.234375 \nQ 38.140625 66.40625 31.78125 66.40625 \nQ 25.390625 66.40625 21.84375 63.234375 \nQ 18.3125 60.0625 18.3125 54.390625 \nz\n\" id=\"DejaVuSans-56\"/>\n       </defs>\n       <use xlink:href=\"#DejaVuSans-56\"/>\n       <use x=\"63.623047\" xlink:href=\"#DejaVuSans-48\"/>\n       <use x=\"127.246094\" xlink:href=\"#DejaVuSans-48\"/>\n       <use x=\"190.869141\" xlink:href=\"#DejaVuSans-48\"/>\n      </g>\n     </g>\n    </g>\n    <g id=\"ytick_6\">\n     <g id=\"line2d_8\">\n      <g>\n       <use style=\"stroke:#000000;stroke-width:0.8;\" x=\"83.250623\" xlink:href=\"#m2c9f6bf445\" y=\"53.635067\"/>\n      </g>\n     </g>\n     <g id=\"text_9\">\n      <!-- 10000 -->\n      <g transform=\"translate(44.438123 57.434286)scale(0.1 -0.1)\">\n       <use xlink:href=\"#DejaVuSans-49\"/>\n       <use x=\"63.623047\" xlink:href=\"#DejaVuSans-48\"/>\n       <use x=\"127.246094\" xlink:href=\"#DejaVuSans-48\"/>\n       <use x=\"190.869141\" xlink:href=\"#DejaVuSans-48\"/>\n       <use x=\"254.492188\" xlink:href=\"#DejaVuSans-48\"/>\n      </g>\n     </g>\n    </g>\n    <g id=\"text_10\">\n     <!-- North (m) -->\n     <g transform=\"translate(38.358436 155.383437)rotate(-90)scale(0.1 -0.1)\">\n      <defs>\n       <path d=\"M 9.8125 72.90625 \nL 23.09375 72.90625 \nL 55.421875 11.921875 \nL 55.421875 72.90625 \nL 64.984375 72.90625 \nL 64.984375 0 \nL 51.703125 0 \nL 19.390625 60.984375 \nL 19.390625 0 \nL 9.8125 0 \nz\n\" id=\"DejaVuSans-78\"/>\n       <path d=\"M 30.609375 48.390625 \nQ 23.390625 48.390625 19.1875 42.75 \nQ 14.984375 37.109375 14.984375 27.296875 \nQ 14.984375 17.484375 19.15625 11.84375 \nQ 23.34375 6.203125 30.609375 6.203125 \nQ 37.796875 6.203125 41.984375 11.859375 \nQ 46.1875 17.53125 46.1875 27.296875 \nQ 46.1875 37.015625 41.984375 42.703125 \nQ 37.796875 48.390625 30.609375 48.390625 \nz\nM 30.609375 56 \nQ 42.328125 56 49.015625 48.375 \nQ 55.71875 40.765625 55.71875 27.296875 \nQ 55.71875 13.875 49.015625 6.21875 \nQ 42.328125 -1.421875 30.609375 -1.421875 \nQ 18.84375 -1.421875 12.171875 6.21875 \nQ 5.515625 13.875 5.515625 27.296875 \nQ 5.515625 40.765625 12.171875 48.375 \nQ 18.84375 56 30.609375 56 \nz\n\" id=\"DejaVuSans-111\"/>\n       <path d=\"M 41.109375 46.296875 \nQ 39.59375 47.171875 37.8125 47.578125 \nQ 36.03125 48 33.890625 48 \nQ 26.265625 48 22.1875 43.046875 \nQ 18.109375 38.09375 18.109375 28.8125 \nL 18.109375 0 \nL 9.078125 0 \nL 9.078125 54.6875 \nL 18.109375 54.6875 \nL 18.109375 46.1875 \nQ 20.953125 51.171875 25.484375 53.578125 \nQ 30.03125 56 36.53125 56 \nQ 37.453125 56 38.578125 55.875 \nQ 39.703125 55.765625 41.0625 55.515625 \nz\n\" id=\"DejaVuSans-114\"/>\n       <path d=\"M 54.890625 33.015625 \nL 54.890625 0 \nL 45.90625 0 \nL 45.90625 32.71875 \nQ 45.90625 40.484375 42.875 44.328125 \nQ 39.84375 48.1875 33.796875 48.1875 \nQ 26.515625 48.1875 22.3125 43.546875 \nQ 18.109375 38.921875 18.109375 30.90625 \nL 18.109375 0 \nL 9.078125 0 \nL 9.078125 75.984375 \nL 18.109375 75.984375 \nL 18.109375 46.1875 \nQ 21.34375 51.125 25.703125 53.5625 \nQ 30.078125 56 35.796875 56 \nQ 45.21875 56 50.046875 50.171875 \nQ 54.890625 44.34375 54.890625 33.015625 \nz\n\" id=\"DejaVuSans-104\"/>\n      </defs>\n      <use xlink:href=\"#DejaVuSans-78\"/>\n      <use x=\"74.804688\" xlink:href=\"#DejaVuSans-111\"/>\n      <use x=\"135.986328\" xlink:href=\"#DejaVuSans-114\"/>\n      <use x=\"177.099609\" xlink:href=\"#DejaVuSans-116\"/>\n      <use x=\"216.308594\" xlink:href=\"#DejaVuSans-104\"/>\n      <use x=\"279.6875\" xlink:href=\"#DejaVuSans-32\"/>\n      <use x=\"311.474609\" xlink:href=\"#DejaVuSans-40\"/>\n      <use x=\"350.488281\" xlink:href=\"#DejaVuSans-109\"/>\n      <use x=\"447.900391\" xlink:href=\"#DejaVuSans-41\"/>\n     </g>\n    </g>\n   </g>\n   <g id=\"line2d_9\">\n    <path clip-path=\"url(#p87cf3e31ef)\" d=\"M 118.371225 229.756837 \nL 118.331029 229.874489 \nL 118.387656 229.624456 \nL 118.302953 229.740892 \nL 118.157892 229.639238 \nL 118.202828 229.859288 \nL 118.240502 229.751903 \nL 117.940571 229.606917 \nL 118.082725 229.500217 \nL 118.088228 229.299057 \nL 117.95348 229.165072 \nL 118.031984 228.846085 \nL 117.840148 228.150529 \nL 117.981442 228.306176 \nL 118.070744 228.103312 \nL 117.974307 227.835806 \nL 118.116552 227.520915 \nL 117.984064 227.391062 \nL 117.917574 226.17778 \nL 118.097439 226.118905 \nL 118.002422 225.889381 \nL 118.075657 225.774159 \nL 117.95193 225.509056 \nL 118.133126 224.619851 \nL 117.887353 224.632582 \nL 117.984278 224.334692 \nL 118.187392 224.2464 \nL 118.249719 223.939239 \nL 118.105924 223.469061 \nL 118.153658 221.78063 \nL 118.35404 222.05146 \nL 118.163152 220.601906 \nL 117.809833 220.339405 \nL 117.954893 220.066317 \nL 117.771744 219.855834 \nL 118.05942 219.829123 \nL 118.137546 219.526921 \nL 118.015278 218.429934 \nL 118.021809 218.228403 \nL 117.804614 217.677523 \nL 118.286332 217.265318 \nL 118.004896 216.667637 \nL 118.066145 216.207485 \nL 117.792768 216.17876 \nL 118.005724 214.945113 \nL 117.881596 214.739366 \nL 117.979164 214.413988 \nL 117.876639 214.19535 \nL 118.270597 214.320897 \nL 118.083362 213.459268 \nL 118.42062 214.345734 \nL 117.528667 213.301149 \nL 117.483655 212.736805 \nL 117.260672 212.733775 \nL 117.107874 212.578191 \nL 117.022221 212.17025 \nL 118.235047 211.310802 \nL 116.73267 211.632919 \nL 116.558399 211.480916 \nL 116.506136 211.250081 \nL 117.746304 210.372891 \nL 118.517873 209.487852 \nL 118.012201 209.499984 \nL 117.568893 209.661844 \nL 117.841366 209.237394 \nL 117.722154 209.269398 \nL 117.653955 209.102345 \nL 118.308679 208.333559 \nL 118.15149 207.837282 \nL 118.504587 207.60192 \nL 117.680912 207.295611 \nL 117.415608 207.329661 \nL 118.080712 206.752433 \nL 118.40523 206.167301 \nL 117.99545 206.024568 \nL 118.138041 205.942469 \nL 117.97933 205.971052 \nL 118.150743 205.80523 \nL 117.911423 205.726877 \nL 117.231922 205.670439 \nL 116.99023 205.905102 \nL 116.986557 205.62143 \nL 117.766276 205.612392 \nL 117.728648 205.767391 \nL 117.915608 205.433781 \nL 118.169117 205.31027 \nL 117.967079 204.941491 \nL 118.013684 204.653875 \nL 117.669584 204.626429 \nL 117.733157 204.414162 \nL 117.446592 204.006294 \nL 117.046108 203.958273 \nL 116.181133 202.953938 \nL 117.358859 203.762927 \nL 117.123213 203.377176 \nL 116.274987 203.07927 \nL 115.560517 202.171948 \nL 116.883408 203.28363 \nL 117.981877 201.913471 \nL 117.824848 201.009153 \nL 117.752616 200.943014 \nL 118.046002 201.779673 \nL 117.62827 201.275704 \nL 118.125961 201.339315 \nL 117.531503 201.08152 \nL 117.784373 201.520684 \nL 118.914257 201.890771 \nL 119.252917 201.435132 \nL 119.359888 200.205934 \nL 118.064027 200.033152 \nL 118.25076 199.596313 \nL 117.785363 198.541251 \nL 117.711322 198.767192 \nL 117.762006 199.717534 \nL 118.476749 196.964658 \nL 116.241576 198.812509 \nL 117.96379 202.17158 \nL 117.899417 198.414459 \nL 117.800489 198.53144 \nL 117.575184 197.89792 \nL 117.005689 197.541742 \nL 116.790039 197.369868 \nL 116.755215 197.058722 \nL 116.316606 196.925618 \nL 116.712664 196.856371 \nL 116.592651 197.034534 \nL 116.825388 196.506817 \nL 116.904156 196.303079 \nL 116.708317 196.203369 \nL 116.776401 196.743056 \nL 116.974135 196.890636 \nL 116.948107 197.360601 \nL 116.762584 197.311121 \nL 116.690464 196.341271 \nL 116.650059 196.652919 \nL 116.600624 197.215143 \nL 116.864536 197.44571 \nL 116.848081 196.59823 \nL 117.355776 196.914218 \nL 116.989609 197.261254 \nL 116.772587 197.257952 \nL 116.765789 197.472034 \nL 116.302729 197.083279 \nL 116.419397 196.990632 \nL 116.380004 196.855642 \nL 116.615121 196.843334 \nL 116.577256 196.42574 \nL 116.463001 196.285717 \nL 117.188595 196.718155 \nL 116.221904 196.846305 \nL 116.460826 196.801992 \nL 116.43957 195.928757 \nL 116.05782 195.596269 \nL 115.943105 196.323384 \nL 115.775581 195.440916 \nL 116.021954 195.764301 \nL 115.990718 195.738864 \nL 115.728216 195.598506 \nL 115.696298 195.30332 \nL 116.694232 196.6502 \nL 116.605147 196.983084 \nL 116.346036 196.898724 \nL 115.303737 195.221286 \nL 114.158012 195.162954 \nL 115.476744 195.102686 \nL 115.122409 195.077629 \nL 115.134842 195.003625 \nL 116.684649 195.421698 \nL 114.956229 193.821104 \nL 115.308858 194.056283 \nL 115.928606 194.021632 \nL 115.156764 193.671198 \nL 114.80202 194.704452 \nL 115.175752 194.085513 \nL 114.884908 194.299953 \nL 114.67141 194.670935 \nL 115.286901 192.879331 \nL 114.691887 194.667937 \nL 112.799569 192.31855 \nL 113.481401 192.859984 \nL 114.835121 193.251846 \nL 114.790536 193.209183 \nL 113.901097 191.888522 \nL 114.295638 191.578057 \nL 114.727454 191.477581 \nL 114.198412 190.946042 \nL 113.393128 190.512315 \nL 114.286611 190.732901 \nL 113.418404 190.946561 \nL 113.80402 192.052163 \nL 112.954256 191.598006 \nL 112.286453 190.944214 \nL 113.294965 190.802352 \nL 114.388828 191.440886 \nL 112.073553 189.776409 \nL 112.219116 189.152928 \nL 111.95585 189.503349 \nL 112.277018 190.111784 \nL 112.697465 189.883098 \nL 111.571452 189.560208 \nL 111.694209 188.280348 \nL 110.940921 188.346578 \nL 110.976657 188.530959 \nL 110.678252 188.183644 \nL 109.857066 189.394451 \nL 110.585997 188.111446 \nL 111.085078 187.730303 \nL 110.809474 187.29335 \nL 111.141948 188.490082 \nL 110.736251 188.088752 \nL 110.448692 188.293124 \nL 110.878673 187.509245 \nL 110.659595 187.57321 \nL 110.493323 187.406986 \nL 111.632739 185.905656 \nL 110.749906 185.793682 \nL 110.604738 185.388577 \nL 110.073539 186.272182 \nL 110.126826 186.513832 \nL 108.936894 187.794432 \nL 109.40573 188.052391 \nL 108.782643 187.263965 \nL 110.997712 186.287127 \nL 110.675634 186.47503 \nL 110.300496 186.33013 \nL 111.082022 185.836336 \nL 111.347502 186.685569 \nL 109.69809 184.531096 \nL 108.748606 184.180983 \nL 110.414681 185.109633 \nL 110.67722 184.599928 \nL 109.91737 184.265549 \nL 110.591261 185.660963 \nL 110.027778 186.376144 \nL 110.699708 185.501592 \nL 107.939536 187.182208 \nL 108.840586 185.847649 \nL 108.358894 186.162151 \nL 107.986595 185.977515 \nL 107.386379 186.144266 \nL 108.920221 184.807949 \nL 106.632892 185.243445 \nL 108.607731 183.198428 \nL 108.473866 183.272409 \nL 108.675751 182.780457 \nL 108.520125 182.190002 \nL 108.841755 182.321224 \nL 108.524245 181.814662 \nL 108.116381 182.267428 \nL 108.499757 181.63743 \nL 107.723655 182.377836 \nL 109.157792 181.636935 \nL 107.88448 181.843685 \nL 108.464615 182.08844 \nL 107.556028 181.917804 \nL 107.878291 181.793822 \nL 107.893922 181.397109 \nL 107.455525 182.011028 \nL 107.587345 182.154196 \nL 107.618335 181.827371 \nL 107.417959 182.306691 \nL 107.672273 182.015799 \nL 107.469734 182.111395 \nL 107.240245 182.074753 \nL 108.482379 182.273083 \nL 108.613709 184.422449 \nL 107.485815 181.788467 \nL 108.322751 181.006604 \nL 109.395119 181.841479 \nL 106.616716 179.749339 \nL 108.3504 180.094838 \nL 106.097821 179.455163 \nL 108.301545 182.795725 \nL 106.550335 179.148402 \nL 105.813685 179.146027 \nL 109.180364 181.390103 \nL 107.55905 181.242423 \nL 106.279625 178.781445 \nL 106.150034 178.915369 \nL 106.529168 178.970276 \nL 106.430102 178.680716 \nL 105.966968 179.199044 \nL 106.297595 178.69526 \nL 105.648703 179.125165 \nL 105.669829 178.951512 \nL 104.986346 179.035268 \nL 105.570043 178.690031 \nL 105.01018 178.384085 \nL 105.150446 177.718333 \nL 104.870324 177.253094 \nL 105.044564 177.494227 \nL 104.534475 177.631928 \nL 104.704753 178.043711 \nL 104.520537 177.883856 \nL 104.300828 177.70744 \nL 104.331687 178.217929 \nL 104.199436 177.46945 \nL 103.965619 176.643429 \nL 103.21234 175.86418 \nL 104.489516 178.497613 \nL 103.001832 175.141521 \nL 104.571961 178.083603 \nL 104.877389 178.04395 \nL 105.029298 178.319487 \nL 105.000893 178.635392 \nL 104.182792 177.73691 \nL 102.2037 179.214956 \nL 104.218405 177.624577 \nL 104.202529 177.452412 \nL 104.672668 178.021406 \nL 104.134377 177.3884 \nL 104.523351 177.631597 \nL 104.84567 178.249553 \nL 104.208326 178.043462 \nL 104.01982 177.595463 \nL 104.066468 177.587871 \nL 104.281555 177.37708 \nL 104.098605 177.423361 \nL 104.228336 177.491091 \nL 103.597376 177.420786 \nL 103.744014 177.259848 \nL 104.337711 177.122279 \nL 103.563801 177.418491 \nL 103.436856 177.100548 \nL 102.473331 177.137909 \nL 103.423108 176.904188 \nL 102.382966 177.57157 \nL 102.126115 177.219163 \nL 103.068022 176.818601 \nL 102.677667 176.491194 \nL 100.766314 178.035509 \nL 100.640811 177.721962 \nL 100.731694 177.870512 \nL 102.227932 176.482024 \nL 102.023297 176.670548 \nL 101.702924 176.48405 \nL 101.234958 176.878782 \nL 100.343863 177.120438 \nL 100.87308 176.771416 \nL 100.798122 176.548225 \nL 101.5461 175.779267 \nL 101.146469 175.282597 \nL 100.40136 175.428031 \nL 100.993873 174.827154 \nL 100.747778 174.824889 \nL 100.414356 175.151136 \nL 100.7297 174.538538 \nL 100.325125 174.672992 \nL 100.234988 174.466489 \nL 100.019962 174.44513 \nL 100.040312 174.183708 \nL 100.014697 174.079854 \nL 99.323276 175.343498 \nL 99.759408 174.719633 \nL 99.865783 173.958544 \nL 100.239338 174.147225 \nL 99.240257 174.300394 \nL 99.79779 173.816485 \nL 99.877425 173.543232 \nL 99.619909 173.840189 \nL 99.475385 174.224381 \nL 99.525712 174.781363 \nL 99.210051 174.680317 \nL 99.366716 174.580936 \nL 99.248246 174.512718 \nL 99.370826 174.890778 \nL 100.269299 173.943379 \nL 99.268846 174.749274 \nL 98.803392 175.874235 \nL 99.826301 174.588869 \nL 99.477332 175.078135 \nL 99.042854 175.315953 \nL 100.828879 173.878857 \nL 100.089946 174.618563 \nL 99.627126 174.64739 \nL 100.254753 174.002618 \nL 99.729655 173.733661 \nL 99.861433 173.647586 \nL 99.577226 173.738695 \nL 99.38606 173.10803 \nL 99.465086 173.505042 \nL 99.075933 173.319033 \nL 98.505941 173.387019 \nL 98.276744 173.166461 \nL 98.172735 172.531097 \nL 97.731438 172.211726 \nL 97.76889 171.613196 \nL 97.607974 171.94321 \nL 97.119706 172.496042 \nL 97.018248 171.65013 \nL 96.777277 171.923586 \nL 97.151139 171.403441 \nL 96.403455 171.596587 \nL 96.402197 171.490618 \nL 96.240107 171.358914 \nL 96.219564 171.235833 \nL 96.425554 171.506405 \nL 96.210137 171.395412 \nL 96.127324 171.413653 \nL 96.667175 170.997559 \nL 97.484984 171.343129 \nL 97.411124 171.204826 \nL 97.591221 171.241275 \nL 97.504906 170.817314 \nL 97.874373 170.790534 \nL 97.374668 170.422628 \nL 97.640793 170.185737 \nL 97.441244 169.682549 \nL 97.846155 169.609067 \nL 98.077949 169.441967 \nL 98.050739 169.539274 \nL 97.935046 169.286733 \nL 98.425953 169.010386 \nL 98.086053 167.856337 \nL 98.854979 169.195001 \nL 98.614317 168.527946 \nL 98.854151 168.355741 \nL 98.329881 167.565684 \nL 98.954957 167.654075 \nL 101.394679 170.028363 \nL 101.500248 170.30066 \nL 102.813704 172.803232 \nL 98.442561 166.883086 \nL 99.340145 166.817989 \nL 99.669107 167.004705 \nL 98.737672 166.646417 \nL 98.560591 166.446606 \nL 98.589069 166.509716 \nL 98.787685 166.306891 \nL 98.641802 166.470898 \nL 99.006894 165.811155 \nL 100.414038 165.940661 \nL 100.589537 165.426106 \nL 99.383814 165.787656 \nL 100.186719 165.348458 \nL 99.937937 164.957238 \nL 97.801522 164.730261 \nL 99.589292 164.823762 \nL 100.354874 164.684354 \nL 98.51716 164.555659 \nL 100.123993 164.781169 \nL 99.728799 164.792762 \nL 98.603829 164.961378 \nL 98.609874 164.94125 \nL 97.285665 164.720814 \nL 98.720951 164.765399 \nL 99.859472 164.967295 \nL 99.581548 164.999963 \nL 99.70806 164.80405 \nL 98.587378 164.74404 \nL 99.902783 164.92354 \nL 98.617573 164.674073 \nL 98.392219 164.904032 \nL 98.574916 164.697966 \nL 98.409883 164.522607 \nL 98.315354 164.633765 \nL 98.22798 164.186734 \nL 98.764385 163.733513 \nL 98.106331 164.027885 \nL 98.112434 163.784985 \nL 98.884508 163.016089 \nL 98.588164 162.821404 \nL 98.72893 162.553484 \nL 98.634626 162.23603 \nL 98.740203 161.846048 \nL 97.993196 162.273843 \nL 98.899951 161.280897 \nL 98.777752 161.164262 \nL 97.816021 160.627643 \nL 98.012225 160.63145 \nL 98.013356 160.16621 \nL 98.043692 160.295101 \nL 98.160221 160.527383 \nL 97.924453 159.925186 \nL 97.748531 160.530755 \nL 97.929023 160.466862 \nL 98.641319 160.11871 \nL 97.67991 160.026216 \nL 97.702454 160.024417 \nL 98.706447 159.776251 \nL 98.587407 159.797242 \nL 98.446295 159.599792 \nL 98.522393 159.450035 \nL 98.204285 159.155092 \nL 97.675864 158.82094 \nL 97.961553 158.702042 \nL 98.020072 158.858576 \nL 97.724416 158.49363 \nL 98.384686 158.289258 \nL 98.256066 158.067821 \nL 98.30235 157.87027 \nL 98.193406 157.446468 \nL 98.219761 157.245011 \nL 98.446625 156.885598 \nL 98.192782 156.84989 \nL 98.30013 156.503514 \nL 98.633656 155.77468 \nL 98.614142 154.850885 \nL 98.516527 154.46522 \nL 98.794477 153.79805 \nL 98.556613 153.517938 \nL 98.826939 153.257415 \nL 98.642964 152.043142 \nL 98.947455 152.411632 \nL 98.557874 151.53971 \nL 98.747772 151.440327 \nL 99.124178 150.820546 \nL 98.852774 150.679979 \nL 98.774287 150.106807 \nL 98.774763 150.162125 \nL 98.923352 149.193486 \nL 98.952557 148.599212 \nL 98.765893 148.139718 \nL 98.944567 148.240029 \nL 99.038208 146.6233 \nL 98.949292 146.78548 \nL 98.480356 145.879637 \nL 98.548707 145.595505 \nL 98.808739 145.160463 \nL 98.862426 144.536467 \nL 98.786158 143.702952 \nL 98.980592 143.560254 \nL 98.812407 141.719789 \nL 99.028632 141.360774 \nL 98.800636 141.111986 \nL 99.001124 140.86494 \nL 98.980503 139.563041 \nL 98.906178 138.712863 \nL 98.937409 137.187533 \nL 99.206719 137.185774 \nL 99.03383 136.361259 \nL 98.891661 136.467397 \nL 99.001695 135.543866 \nL 98.811711 134.739421 \nL 99.161146 134.677698 \nL 98.791864 133.192999 \nL 98.913403 132.934058 \nL 98.465331 132.765768 \nL 98.798806 132.094657 \nL 98.667605 131.477659 \nL 98.17459 130.831728 \nL 98.314401 130.554565 \nL 97.84908 130.184145 \nL 97.739537 129.532243 \nL 97.484812 129.002889 \nL 97.203475 128.787758 \nL 96.811011 127.815353 \nL 96.679832 127.812539 \nL 96.246414 126.595489 \nL 96.278394 126.272377 \nL 95.978067 125.589151 \nL 95.841615 125.195064 \nL 95.346403 124.555989 \nL 94.979185 122.92474 \nL 94.849312 122.59818 \nL 95.016519 122.11873 \nL 94.874895 121.746316 \nL 95.256092 120.604091 \nL 94.647224 120.351101 \nL 94.248858 119.766438 \nL 94.037977 118.985521 \nL 94.001019 118.340896 \nL 93.718568 118.215144 \nL 94.117327 117.783828 \nL 93.726884 117.40894 \nL 93.886052 117.084051 \nL 93.841991 116.660684 \nL 93.921619 116.131068 \nL 93.676841 115.160041 \nL 93.949014 114.55326 \nL 93.744865 113.816424 \nL 93.850589 111.986813 \nL 93.991065 111.486569 \nL 93.795564 110.280413 \nL 93.95263 109.882916 \nL 93.75528 109.455981 \nL 93.923052 108.98655 \nL 93.713096 108.600968 \nL 93.811926 108.186879 \nL 93.870174 106.000975 \nL 93.941913 105.139454 \nL 93.815441 104.845524 \nL 93.762895 104.119229 \nL 94.004037 103.383179 \nL 93.817238 103.144267 \nL 93.588743 102.461933 \nL 93.918098 101.932772 \nL 93.804876 101.332137 \nL 93.985244 101.089236 \nL 93.679378 100.177287 \nL 93.957016 99.335521 \nL 93.761569 99.036011 \nL 93.613673 96.617358 \nL 93.965157 96.68612 \nL 93.827255 95.412319 \nL 94.078082 95.014143 \nL 93.608615 94.691852 \nL 93.703437 94.347378 \nL 93.703135 93.849574 \nL 93.830796 93.486187 \nL 93.979955 93.489475 \nL 93.711001 92.509096 \nL 93.778912 92.030412 \nL 93.652433 91.610496 \nL 93.855697 90.695272 \nL 93.720328 90.395453 \nL 93.908235 89.390064 \nL 93.740863 87.831092 \nL 93.795641 87.790261 \nL 93.708944 87.468877 \nL 93.656404 86.570387 \nL 93.833909 86.448172 \nL 93.879781 86.053089 \nL 93.680835 85.960744 \nL 93.912154 84.162636 \nL 93.744837 83.013932 \nL 93.715848 81.467199 \nL 93.852998 81.186593 \nL 93.757647 80.467716 \nL 93.938316 78.840664 \nL 93.82764 78.580734 \nL 93.72691 77.950676 \nL 93.868456 77.304361 \nL 93.702455 77.10446 \nL 93.700406 76.749262 \nL 93.975292 76.179308 \nL 93.840049 75.486041 \nL 93.838025 74.094686 \nL 93.813025 73.627681 \nL 93.605918 73.232217 \nL 93.755112 72.997461 \nL 93.739616 72.606369 \nL 93.963542 72.16409 \nL 93.727117 71.727595 \nL 93.821542 71.319643 \nL 93.681058 70.960546 \nL 93.849712 70.784556 \nL 93.948161 70.1214 \nL 93.898201 69.590709 \nL 93.545782 69.239787 \nL 93.925858 69.091314 \nL 93.87078 68.499604 \nL 93.990521 68.119641 \nL 93.915167 67.659987 \nL 93.68823 67.166361 \nL 93.751898 66.206403 \nL 94.155006 66.126488 \nL 94.09311 65.693489 \nL 93.847081 65.076631 \nL 94.152138 65.050256 \nL 93.559373 64.178248 \nL 93.893376 63.849278 \nL 93.8277 63.393918 \nL 94.071305 63.006655 \nL 93.704391 61.512488 \nL 93.923866 60.128804 \nL 93.764165 59.741911 \nL 93.897797 58.414152 \nL 93.846858 57.582183 \nL 93.959523 57.21312 \nL 93.910665 56.323985 \nL 94.223551 55.577351 \nL 94.199329 55.135964 \nL 94.436393 54.313842 \nL 94.752209 53.151315 \nL 95.41257 51.69067 \nL 95.53115 51.125559 \nL 95.809116 51.080719 \nL 95.966037 50.735487 \nL 96.016253 49.427106 \nL 96.188374 48.940617 \nL 96.398089 48.732039 \nL 96.325453 47.910179 \nL 96.68631 45.358493 \nL 96.982498 44.515477 \nL 97.436621 43.967423 \nL 97.714322 43.912811 \nL 97.574985 43.439956 \nL 97.673866 43.110489 \nL 97.501288 42.719099 \nL 97.46495 42.359643 \nL 97.661129 42.127129 \nL 97.48766 41.87961 \nL 97.644684 41.609109 \nL 97.727764 41.233034 \nL 97.822739 41.445589 \nL 97.625706 41.092024 \nL 97.596028 41.241567 \nL 97.469409 41.011379 \nL 97.84071 41.033474 \nL 97.726002 40.954503 \nL 97.689769 41.303366 \nL 97.683693 41.063474 \nL 97.503953 41.145721 \nL 97.750519 41.115605 \nL 97.704043 41.110173 \nL 97.754647 41.155146 \nL 97.593072 41.094773 \nL 97.657107 41.206822 \nL 97.521046 41.211331 \nL 97.750882 41.166724 \nL 97.568444 41.145723 \nL 97.576387 40.971556 \nL 97.528291 41.405564 \nL 97.538849 41.334463 \nL 97.744739 40.894792 \nL 97.575775 40.902943 \nL 97.624604 41.167756 \nL 97.650004 41.037712 \nL 97.687524 40.849888 \nL 97.568946 40.720512 \nL 97.665728 40.200977 \nL 97.58631 39.797782 \nL 97.67236 39.689894 \nL 97.512975 39.042906 \nL 97.666474 38.469066 \nL 97.588126 37.929188 \nL 97.685573 37.454947 \nL 97.484038 37.309099 \nL 97.684311 36.329736 \nL 97.560489 36.04552 \nL 97.656659 35.467532 \nL 97.478823 33.763418 \nL 97.6562 33.140005 \nL 97.430264 32.905602 \nL 97.577563 32.855479 \nL 97.485649 32.638988 \nL 97.540896 32.63828 \nL 97.40594 32.800688 \nL 97.25675 32.725931 \nL 97.356295 32.778958 \nL 97.853485 32.477321 \nL 97.640553 32.659157 \nL 97.847651 32.255138 \nL 97.547858 32.617027 \nL 97.67631 32.555906 \nL 97.473783 32.724962 \nL 97.526383 32.694375 \nL 97.587118 32.83069 \nL 97.469188 32.934471 \nL 97.741203 32.689885 \nL 97.675956 32.65274 \nL 97.742871 32.508237 \nL 97.658009 32.652124 \nL 97.478293 32.751239 \nL 97.647985 32.522057 \nL 97.21612 33.238244 \nL 97.126848 33.141699 \nL 97.193191 33.326659 \nL 97.665696 32.567347 \nL 97.392756 32.795443 \nL 97.412941 32.829284 \nL 97.164499 32.365358 \nL 96.992153 32.453424 \nL 96.804104 32.275728 \nL 96.354159 32.510941 \nL 96.12506 32.41847 \nL 95.816999 32.508033 \nL 95.760643 32.656295 \nL 95.091393 32.3787 \nL 94.719023 32.59895 \nL 94.567588 32.457076 \nL 94.249031 32.42665 \nL 94.198419 32.54943 \nL 94.366619 32.409671 \nL 94.407922 32.710531 \nL 94.245885 32.302723 \nL 94.579116 32.696943 \nL 94.471077 32.577116 \nL 94.407814 32.753898 \nL 94.153576 32.524567 \nL 93.807859 32.456065 \nL 93.68144 32.432446 \nL 93.640608 32.65625 \nL 93.431898 32.331401 \nL 93.098747 32.443919 \nL 92.832764 32.531644 \nL 92.590271 32.415314 \nL 92.350291 32.537321 \nL 92.196691 32.431125 \nL 92.13235 32.757838 \nL 91.403188 32.405792 \nL 90.710614 32.494774 \nL 90.427684 32.41727 \nL 90.280948 32.530125 \nL 90.029007 32.399265 \nL 89.999175 32.841113 \nL 89.711444 32.339423 \nL 89.534358 32.582603 \nL 89.29017 32.607677 \nL 89.040578 32.458918 \nL 88.743803 32.670838 \nL 88.356987 32.576653 \nL 88.199713 32.251904 \nL 88.098203 32.610943 \nL 87.870089 32.69221 \nL 87.506764 32.519258 \nL 87.266343 32.201761 \nL 87.156976 32.563825 \nL 86.897558 32.502634 \nL 86.752513 32.590137 \nL 86.471139 32.35548 \nL 86.387377 32.566214 \nL 85.843491 32.418836 \nL 85.390385 32.402946 \nL 85.397534 32.587778 \nL 85.233383 32.553478 \nL 85.203008 32.398686 \nL 85.229711 32.490035 \nL 85.34517 32.510373 \nL 85.080442 32.57386 \nL 85.095873 32.488722 \nL 85.323067 32.942108 \nL 84.970112 32.428064 \nL 84.970112 32.428064 \n\" style=\"fill:none;stroke:#1f77b4;stroke-linecap:square;stroke-width:1.5;\"/>\n   </g>\n   <g id=\"patch_3\">\n    <path d=\"M 83.250623 239.758125 \nL 83.250623 22.318125 \n\" style=\"fill:none;stroke:#000000;stroke-linecap:square;stroke-linejoin:miter;stroke-width:0.8;\"/>\n   </g>\n   <g id=\"patch_4\">\n    <path d=\"M 121.079377 239.758125 \nL 121.079377 22.318125 \n\" style=\"fill:none;stroke:#000000;stroke-linecap:square;stroke-linejoin:miter;stroke-width:0.8;\"/>\n   </g>\n   <g id=\"patch_5\">\n    <path d=\"M 83.250623 239.758125 \nL 121.079377 239.758125 \n\" style=\"fill:none;stroke:#000000;stroke-linecap:square;stroke-linejoin:miter;stroke-width:0.8;\"/>\n   </g>\n   <g id=\"patch_6\">\n    <path d=\"M 83.250623 22.318125 \nL 121.079377 22.318125 \n\" style=\"fill:none;stroke:#000000;stroke-linecap:square;stroke-linejoin:miter;stroke-width:0.8;\"/>\n   </g>\n   <g id=\"text_11\">\n    <!-- Position Offset From First Epoch -->\n    <g transform=\"translate(7.2 16.318125)scale(0.12 -0.12)\">\n     <defs>\n      <path d=\"M 19.671875 64.796875 \nL 19.671875 37.40625 \nL 32.078125 37.40625 \nQ 38.96875 37.40625 42.71875 40.96875 \nQ 46.484375 44.53125 46.484375 51.125 \nQ 46.484375 57.671875 42.71875 61.234375 \nQ 38.96875 64.796875 32.078125 64.796875 \nz\nM 9.8125 72.90625 \nL 32.078125 72.90625 \nQ 44.34375 72.90625 50.609375 67.359375 \nQ 56.890625 61.8125 56.890625 51.125 \nQ 56.890625 40.328125 50.609375 34.8125 \nQ 44.34375 29.296875 32.078125 29.296875 \nL 19.671875 29.296875 \nL 19.671875 0 \nL 9.8125 0 \nz\n\" id=\"DejaVuSans-80\"/>\n      <path d=\"M 9.421875 54.6875 \nL 18.40625 54.6875 \nL 18.40625 0 \nL 9.421875 0 \nz\nM 9.421875 75.984375 \nL 18.40625 75.984375 \nL 18.40625 64.59375 \nL 9.421875 64.59375 \nz\n\" id=\"DejaVuSans-105\"/>\n      <path d=\"M 54.890625 33.015625 \nL 54.890625 0 \nL 45.90625 0 \nL 45.90625 32.71875 \nQ 45.90625 40.484375 42.875 44.328125 \nQ 39.84375 48.1875 33.796875 48.1875 \nQ 26.515625 48.1875 22.3125 43.546875 \nQ 18.109375 38.921875 18.109375 30.90625 \nL 18.109375 0 \nL 9.078125 0 \nL 9.078125 54.6875 \nL 18.109375 54.6875 \nL 18.109375 46.1875 \nQ 21.34375 51.125 25.703125 53.5625 \nQ 30.078125 56 35.796875 56 \nQ 45.21875 56 50.046875 50.171875 \nQ 54.890625 44.34375 54.890625 33.015625 \nz\n\" id=\"DejaVuSans-110\"/>\n      <path d=\"M 39.40625 66.21875 \nQ 28.65625 66.21875 22.328125 58.203125 \nQ 16.015625 50.203125 16.015625 36.375 \nQ 16.015625 22.609375 22.328125 14.59375 \nQ 28.65625 6.59375 39.40625 6.59375 \nQ 50.140625 6.59375 56.421875 14.59375 \nQ 62.703125 22.609375 62.703125 36.375 \nQ 62.703125 50.203125 56.421875 58.203125 \nQ 50.140625 66.21875 39.40625 66.21875 \nz\nM 39.40625 74.21875 \nQ 54.734375 74.21875 63.90625 63.9375 \nQ 73.09375 53.65625 73.09375 36.375 \nQ 73.09375 19.140625 63.90625 8.859375 \nQ 54.734375 -1.421875 39.40625 -1.421875 \nQ 24.03125 -1.421875 14.8125 8.828125 \nQ 5.609375 19.09375 5.609375 36.375 \nQ 5.609375 53.65625 14.8125 63.9375 \nQ 24.03125 74.21875 39.40625 74.21875 \nz\n\" id=\"DejaVuSans-79\"/>\n      <path d=\"M 37.109375 75.984375 \nL 37.109375 68.5 \nL 28.515625 68.5 \nQ 23.6875 68.5 21.796875 66.546875 \nQ 19.921875 64.59375 19.921875 59.515625 \nL 19.921875 54.6875 \nL 34.71875 54.6875 \nL 34.71875 47.703125 \nL 19.921875 47.703125 \nL 19.921875 0 \nL 10.890625 0 \nL 10.890625 47.703125 \nL 2.296875 47.703125 \nL 2.296875 54.6875 \nL 10.890625 54.6875 \nL 10.890625 58.5 \nQ 10.890625 67.625 15.140625 71.796875 \nQ 19.390625 75.984375 28.609375 75.984375 \nz\n\" id=\"DejaVuSans-102\"/>\n      <path d=\"M 56.203125 29.59375 \nL 56.203125 25.203125 \nL 14.890625 25.203125 \nQ 15.484375 15.921875 20.484375 11.0625 \nQ 25.484375 6.203125 34.421875 6.203125 \nQ 39.59375 6.203125 44.453125 7.46875 \nQ 49.3125 8.734375 54.109375 11.28125 \nL 54.109375 2.78125 \nQ 49.265625 0.734375 44.1875 -0.34375 \nQ 39.109375 -1.421875 33.890625 -1.421875 \nQ 20.796875 -1.421875 13.15625 6.1875 \nQ 5.515625 13.8125 5.515625 26.8125 \nQ 5.515625 40.234375 12.765625 48.109375 \nQ 20.015625 56 32.328125 56 \nQ 43.359375 56 49.78125 48.890625 \nQ 56.203125 41.796875 56.203125 29.59375 \nz\nM 47.21875 32.234375 \nQ 47.125 39.59375 43.09375 43.984375 \nQ 39.0625 48.390625 32.421875 48.390625 \nQ 24.90625 48.390625 20.390625 44.140625 \nQ 15.875 39.890625 15.1875 32.171875 \nz\n\" id=\"DejaVuSans-101\"/>\n      <path d=\"M 9.8125 72.90625 \nL 51.703125 72.90625 \nL 51.703125 64.59375 \nL 19.671875 64.59375 \nL 19.671875 43.109375 \nL 48.578125 43.109375 \nL 48.578125 34.8125 \nL 19.671875 34.8125 \nL 19.671875 0 \nL 9.8125 0 \nz\n\" id=\"DejaVuSans-70\"/>\n      <path d=\"M 18.109375 8.203125 \nL 18.109375 -20.796875 \nL 9.078125 -20.796875 \nL 9.078125 54.6875 \nL 18.109375 54.6875 \nL 18.109375 46.390625 \nQ 20.953125 51.265625 25.265625 53.625 \nQ 29.59375 56 35.59375 56 \nQ 45.5625 56 51.78125 48.09375 \nQ 58.015625 40.1875 58.015625 27.296875 \nQ 58.015625 14.40625 51.78125 6.484375 \nQ 45.5625 -1.421875 35.59375 -1.421875 \nQ 29.59375 -1.421875 25.265625 0.953125 \nQ 20.953125 3.328125 18.109375 8.203125 \nz\nM 48.6875 27.296875 \nQ 48.6875 37.203125 44.609375 42.84375 \nQ 40.53125 48.484375 33.40625 48.484375 \nQ 26.265625 48.484375 22.1875 42.84375 \nQ 18.109375 37.203125 18.109375 27.296875 \nQ 18.109375 17.390625 22.1875 11.75 \nQ 26.265625 6.109375 33.40625 6.109375 \nQ 40.53125 6.109375 44.609375 11.75 \nQ 48.6875 17.390625 48.6875 27.296875 \nz\n\" id=\"DejaVuSans-112\"/>\n      <path d=\"M 48.78125 52.59375 \nL 48.78125 44.1875 \nQ 44.96875 46.296875 41.140625 47.34375 \nQ 37.3125 48.390625 33.40625 48.390625 \nQ 24.65625 48.390625 19.8125 42.84375 \nQ 14.984375 37.3125 14.984375 27.296875 \nQ 14.984375 17.28125 19.8125 11.734375 \nQ 24.65625 6.203125 33.40625 6.203125 \nQ 37.3125 6.203125 41.140625 7.25 \nQ 44.96875 8.296875 48.78125 10.40625 \nL 48.78125 2.09375 \nQ 45.015625 0.34375 40.984375 -0.53125 \nQ 36.96875 -1.421875 32.421875 -1.421875 \nQ 20.0625 -1.421875 12.78125 6.34375 \nQ 5.515625 14.109375 5.515625 27.296875 \nQ 5.515625 40.671875 12.859375 48.328125 \nQ 20.21875 56 33.015625 56 \nQ 37.15625 56 41.109375 55.140625 \nQ 45.0625 54.296875 48.78125 52.59375 \nz\n\" id=\"DejaVuSans-99\"/>\n     </defs>\n     <use xlink:href=\"#DejaVuSans-80\"/>\n     <use x=\"56.677734\" xlink:href=\"#DejaVuSans-111\"/>\n     <use x=\"117.859375\" xlink:href=\"#DejaVuSans-115\"/>\n     <use x=\"169.958984\" xlink:href=\"#DejaVuSans-105\"/>\n     <use x=\"197.742188\" xlink:href=\"#DejaVuSans-116\"/>\n     <use x=\"236.951172\" xlink:href=\"#DejaVuSans-105\"/>\n     <use x=\"264.734375\" xlink:href=\"#DejaVuSans-111\"/>\n     <use x=\"325.916016\" xlink:href=\"#DejaVuSans-110\"/>\n     <use x=\"389.294922\" xlink:href=\"#DejaVuSans-32\"/>\n     <use x=\"421.082031\" xlink:href=\"#DejaVuSans-79\"/>\n     <use x=\"499.792969\" xlink:href=\"#DejaVuSans-102\"/>\n     <use x=\"534.998047\" xlink:href=\"#DejaVuSans-102\"/>\n     <use x=\"570.203125\" xlink:href=\"#DejaVuSans-115\"/>\n     <use x=\"622.302734\" xlink:href=\"#DejaVuSans-101\"/>\n     <use x=\"683.826172\" xlink:href=\"#DejaVuSans-116\"/>\n     <use x=\"723.035156\" xlink:href=\"#DejaVuSans-32\"/>\n     <use x=\"754.822266\" xlink:href=\"#DejaVuSans-70\"/>\n     <use x=\"805.091797\" xlink:href=\"#DejaVuSans-114\"/>\n     <use x=\"843.955078\" xlink:href=\"#DejaVuSans-111\"/>\n     <use x=\"905.136719\" xlink:href=\"#DejaVuSans-109\"/>\n     <use x=\"1002.548828\" xlink:href=\"#DejaVuSans-32\"/>\n     <use x=\"1034.335938\" xlink:href=\"#DejaVuSans-70\"/>\n     <use x=\"1084.605469\" xlink:href=\"#DejaVuSans-105\"/>\n     <use x=\"1112.388672\" xlink:href=\"#DejaVuSans-114\"/>\n     <use x=\"1153.501953\" xlink:href=\"#DejaVuSans-115\"/>\n     <use x=\"1205.601562\" xlink:href=\"#DejaVuSans-116\"/>\n     <use x=\"1244.810547\" xlink:href=\"#DejaVuSans-32\"/>\n     <use x=\"1276.597656\" xlink:href=\"#DejaVuSans-69\"/>\n     <use x=\"1339.78125\" xlink:href=\"#DejaVuSans-112\"/>\n     <use x=\"1403.257812\" xlink:href=\"#DejaVuSans-111\"/>\n     <use x=\"1464.439453\" xlink:href=\"#DejaVuSans-99\"/>\n     <use x=\"1519.419922\" xlink:href=\"#DejaVuSans-104\"/>\n    </g>\n   </g>\n  </g>\n </g>\n <defs>\n  <clipPath id=\"p87cf3e31ef\">\n   <rect height=\"217.44\" width=\"37.828754\" x=\"83.250623\" y=\"22.318125\"/>\n  </clipPath>\n </defs>\n</svg>\n",
      "text/plain": "<Figure size 432x288 with 1 Axes>"
     },
     "metadata": {
      "needs_background": "light",
      "transient": {}
     },
     "output_type": "display_data"
    }
   ],
   "source": [
    "import matplotlib.pyplot as plt\n",
    "ned_df = pd.DataFrame(ned_list, columns=['N', 'E', 'D'])\n",
    "plt.plot(ned_df['E'], ned_df['N'])\n",
    "\n",
    "# Add titles\n",
    "plt.title('Position Offset From First Epoch')\n",
    "plt.xlabel(\"East (m)\")\n",
    "plt.ylabel(\"North (m)\")\n",
    "plt.gca().set_aspect('equal', adjustable='box')"
   ]
  }
 ],
 "metadata": {
  "kernelspec": {
   "display_name": "Python 3",
   "language": "python",
   "name": "python3"
  },
  "language_info": {
   "codemirror_mode": {
    "name": "ipython",
    "version": 3
   },
   "file_extension": ".py",
   "mimetype": "text/x-python",
   "name": "python",
   "nbconvert_exporter": "python",
   "pygments_lexer": "ipython3",
   "version": "3.8.5"
  },
  "orig_nbformat": 2
 },
 "nbformat": 4,
 "nbformat_minor": 2
}