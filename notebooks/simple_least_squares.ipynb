{
 "cells": [
  {
   "source": [
    "This notebook was written by [Mitchell Johnson](https://www.johnsonmitchelld.com/). The source code, as well as the gnssutils Python package containing the EphemerisManager module, can be found on [Github](https://github.com/johnsonmitchelld/gnss-analysis)."
   ],
   "cell_type": "markdown",
   "metadata": {}
  },
  {
   "cell_type": "code",
   "execution_count": 1,
   "metadata": {},
   "outputs": [],
   "source": [
    "os.chdir('..')\n",
    "import sys, os, csv\n",
    "import pandas as pd\n",
    "import numpy as np\n",
    "import navpy\n",
    "from gnssutils import EphemerisManager"
   ]
  },
  {
   "source": [
    "Let's read in a GNSS log file, format the satellite IDs to match up with the RINEX 3.0 standard, and convert the columns we need to calculate receiver position to numeric values. We'll also filter the data so that we're only working with GPS measurements to simplify the rest of the analysis."
   ],
   "cell_type": "markdown",
   "metadata": {}
  },
  {
   "cell_type": "code",
   "execution_count": 2,
   "metadata": {
    "tags": []
   },
   "outputs": [
    {
     "output_type": "stream",
     "name": "stdout",
     "text": [
      "Index(['ElapsedRealtimeMillis', 'TimeNanos', 'LeapSecond',\n       'TimeUncertaintyNanos', 'FullBiasNanos', 'BiasNanos',\n       'BiasUncertaintyNanos', 'DriftNanosPerSecond',\n       'DriftUncertaintyNanosPerSecond', 'HardwareClockDiscontinuityCount',\n       'Svid', 'TimeOffsetNanos', 'State', 'ReceivedSvTimeNanos',\n       'ReceivedSvTimeUncertaintyNanos', 'Cn0DbHz',\n       'PseudorangeRateMetersPerSecond',\n       'PseudorangeRateUncertaintyMetersPerSecond',\n       'AccumulatedDeltaRangeState', 'AccumulatedDeltaRangeMeters',\n       'AccumulatedDeltaRangeUncertaintyMeters', 'CarrierFrequencyHz',\n       'CarrierCycles', 'CarrierPhase', 'CarrierPhaseUncertainty',\n       'MultipathIndicator', 'SnrInDb', 'ConstellationType', 'AgcDb',\n       'CarrierFrequencyHz', 'Constellation', 'SvName'],\n      dtype='object')\n"
     ]
    }
   ],
   "source": [
    "# Get path to sample file in data directory, which is located in the parent directory of this notebook\n",
    "input_filepath = os.path.join(os.getcwd(), 'data', 'sample', 'gnss_log_2020_12_02_17_19_39.txt')\n",
    "\n",
    "with open(input_filepath) as csvfile:\n",
    "    reader = csv.reader(csvfile)\n",
    "    for row in reader:\n",
    "        if row[0][0] == '#':\n",
    "            if 'Fix' in row[0]:\n",
    "                android_fixes = [row[1:]]\n",
    "            elif 'Raw' in row[0]:\n",
    "                measurements = [row[1:]]\n",
    "        else:\n",
    "            if row[0] == 'Fix':\n",
    "                android_fixes.append(row[1:])\n",
    "            elif row[0] == 'Raw':\n",
    "                measurements.append(row[1:])\n",
    "\n",
    "android_fixes = pd.DataFrame(android_fixes[1:], columns = android_fixes[0])\n",
    "measurements = pd.DataFrame(measurements[1:], columns = measurements[0])\n",
    "\n",
    "# Format satellite IDs\n",
    "measurements.loc[measurements['Svid'].str.len() == 1, 'Svid'] = '0' + measurements['Svid']\n",
    "measurements.loc[measurements['ConstellationType'] == '1', 'Constellation'] = 'G'\n",
    "measurements.loc[measurements['ConstellationType'] == '3', 'Constellation'] = 'R'\n",
    "measurements['SvName'] = measurements['Constellation'] + measurements['Svid']\n",
    "\n",
    "# Remove all non-GPS measurements\n",
    "measurements = measurements.loc[measurements['Constellation'] == 'G']\n",
    "\n",
    "# Convert columns to numeric representation\n",
    "measurements['Cn0DbHz'] = pd.to_numeric(measurements['Cn0DbHz'])\n",
    "measurements['TimeNanos'] = pd.to_numeric(measurements['TimeNanos'])\n",
    "measurements['FullBiasNanos'] = pd.to_numeric(measurements['FullBiasNanos'])\n",
    "measurements['ReceivedSvTimeNanos']  = pd.to_numeric(measurements['ReceivedSvTimeNanos'])\n",
    "measurements['PseudorangeRateMetersPerSecond'] = pd.to_numeric(measurements['PseudorangeRateMetersPerSecond'])\n",
    "measurements['ReceivedSvTimeUncertaintyNanos'] = pd.to_numeric(measurements['ReceivedSvTimeUncertaintyNanos'])\n",
    "if 'BiasNanos' in measurements.columns:\n",
    "    measurements['BiasNanos'] = pd.to_numeric(measurements['BiasNanos'])\n",
    "else:\n",
    "    measurements['BiasNanos'] = 0\n",
    "if 'TimeOffsetNanos' in measurements.columns:\n",
    "    measurements['TimeOffsetNanos'] = pd.to_numeric(measurements['TimeOffsetNanos'])\n",
    "else:\n",
    "    measurements['TimeOffsetNanos'] = 0\n",
    "\n",
    "print(measurements.columns)"
   ]
  },
  {
   "source": [
    "Those with experience in GNSS data processing will probably notice that we're missing a few important fields for calculating receiver position.\n",
    "\n",
    "First, we'll calculate the GPS time in nanoseconds using the equations from Section 2.4 of the European Global Navigation Satellite Systems Agency's [white paper](https://www.gsa.europa.eu/system/files/reports/gnss_raw_measurement_web_0.pdf). Then we'll convert it to a normal Unix timestamp using the Pandas.to_datetime() function with the GPS reference epoch.\n",
    "\n",
    "**An aside on timestamps:** note that the UTC flag is set to True in the Pandas.to_datetime() method. The timestamp column needs to be timezone-aware, because we're eventually going to plug it into the Python datetime library and use it to format the ephemeris filepath for download from NASA. The EphemerisManager module compares the timestamp with the current time to determine which files to retrieve. Since the datetime library defaults to local time on some systems, it was necessary to keep everything timezone-aware to avoid mix-ups.\n",
    "\n",
    "This nomenclature is a bit confusing since we're using the method to create a column called UnixTime. Unix time and UTC are technically in the same time zone, but UTC includes leap seconds, while Unix time does not. Since we're creating a timestamp from the number of seconds elapsed since the GPS epoch, the resulting timestamp could differ from UTC by some number of leap seconds. That's close enough to ensure we get the correct ephemeris file, and it won't affect the actual position calculations because we don't use the UnixTime column for those.\n",
    "\n",
    "Finally, let's split the data into measurement epochs. We do this by creating a new column and setting it to 1 whenever the difference between a timestamp and the previous timestamp is greater than 200 milliseconds using the DataFrame.shift() command. Then we use the cumsum method to generate unique numbers for the individual epochs."
   ],
   "cell_type": "markdown",
   "metadata": {}
  },
  {
   "cell_type": "code",
   "execution_count": 4,
   "metadata": {},
   "outputs": [],
   "source": [
    "from datetime import datetime, timezone, timedelta\n",
    "\n",
    "measurements['GpsTimeNanos'] = measurements['TimeNanos'] - (measurements['FullBiasNanos'] - measurements['BiasNanos'])\n",
    "gpsepoch = datetime(1980, 1, 6, 0, 0, 0)\n",
    "measurements['UnixTime'] = pd.to_datetime(measurements['GpsTimeNanos'], utc = True, origin=gpsepoch)\n",
    "measurements['UnixTime'] = measurements['UnixTime']\n",
    "\n",
    "# Split data into measurement epochs\n",
    "measurements['Epoch'] = 0\n",
    "measurements.loc[measurements['UnixTime'] - measurements['UnixTime'].shift() > timedelta(milliseconds=200), 'Epoch'] = 1\n",
    "measurements['Epoch'] = measurements['Epoch'].cumsum()"
   ]
  },
  {
   "source": [
    "Next let's calculate the estimated signal transmission and reception times. From those we'll calculate the pseudorange for each satellite in both seconds and meters."
   ],
   "cell_type": "markdown",
   "metadata": {}
  },
  {
   "cell_type": "code",
   "execution_count": 5,
   "metadata": {},
   "outputs": [],
   "source": [
    "WEEKSEC = 604800\n",
    "LIGHTSPEED = 2.99792458e8\n",
    "\n",
    "# This should account for rollovers since it uses a week number specific to each measurement\n",
    "\n",
    "measurements['tRxGnssNanos'] = measurements['TimeNanos'] + measurements['TimeOffsetNanos'] - (measurements['FullBiasNanos'].iloc[0] + measurements['BiasNanos'].iloc[0])\n",
    "measurements['GpsWeekNumber'] = np.floor(1e-9 * measurements['tRxGnssNanos'] / WEEKSEC)\n",
    "measurements['tRxSeconds'] = 1e-9*measurements['tRxGnssNanos'] - WEEKSEC * measurements['GpsWeekNumber']\n",
    "measurements['tTxSeconds'] = 1e-9*(measurements['ReceivedSvTimeNanos'] + measurements['TimeOffsetNanos'])\n",
    "measurements['prSeconds'] = measurements['tRxSeconds'] - measurements['tTxSeconds']\n",
    "measurements['PrM'] = LIGHTSPEED * measurements['prSeconds']\n",
    "measurements['PrSigmaM'] = LIGHTSPEED * 1e-9 * measurements['ReceivedSvTimeUncertaintyNanos']"
   ]
  },
  {
   "source": [
    "Now that we have pseudorange values, we can begin the standard process for calculating receiver position. First we need to retrieve the ephemeris data for each satellite from one of the International GNSS Service (IGS) analysis centers. These include NASA's [CDDIS](https://cddis.nasa.gov/Data_and_Derived_Products/GNSS/orbit_products.html) and the German [BKG](https://igs.bkg.bund.de/dataandproducts/index).\n",
    "\n",
    "This process is, frankly, a bit of a pain, so I wrote a Python module to handle the details. You can view the code and documentation [here](https://github.com/johnsonmitchelld/gnss-analysis/tree/main/gnssutils)."
   ],
   "cell_type": "markdown",
   "metadata": {}
  },
  {
   "cell_type": "code",
   "execution_count": 6,
   "metadata": {},
   "outputs": [
    {
     "output_type": "stream",
     "name": "stdout",
     "text": [
      "Retrieving gnss/data/daily/2020/brdc/brdc3380.20n.gz from gdc.cddis.eosdis.nasa.gov\n"
     ]
    }
   ],
   "source": [
    "manager = EphemerisManager()\n",
    "\n",
    "epoch = 10\n",
    "timestamp = measurements.iloc[epoch]['UnixTime'].to_pydatetime(warn=False)\n",
    "one_epoch = measurements.loc[(measurements['Epoch'] == epoch) & (measurements['prSeconds'] < 0.1)].drop_duplicates(subset='SvName')\n",
    "one_epoch.set_index('SvName', inplace=True)\n",
    "\n",
    "sats = one_epoch.index.unique().tolist()\n",
    "ephemeris = manager.get_ephemeris(timestamp, sats)"
   ]
  },
  {
   "source": [
    "Calculating satellite position from ephemeris data is a bit involved, but the details are conveniently laid out in Tables 20-III and 20-IV of the GPS [Interface Specification Document](https://www.gps.gov/technical/icwg/IS-GPS-200L.pdf). The function below performs this calculation, taking a Pandas dataframe with the ephemeris parameters for every satellite and a dataseries containing the transmit time for all received signals in seconds since the start of the current GPS week. It also calculates the satellite clock offsets for the given transmission time."
   ],
   "cell_type": "markdown",
   "metadata": {}
  },
  {
   "cell_type": "code",
   "execution_count": 7,
   "metadata": {},
   "outputs": [
    {
     "output_type": "stream",
     "name": "stdout",
     "text": [
      "             t_k   delT_sv           x_k           y_k           z_k\nsv                                                                  \nG05  4807.354386 -0.000027 -2.171029e+07  4.560819e+06  1.458763e+07\nG07  4807.362977 -0.000426 -3.694080e+06 -1.644564e+07  2.074283e+07\nG08  4807.359065 -0.000002  7.366795e+06 -1.914142e+07  1.673248e+07\nG09  4807.356809 -0.000297 -7.511545e+06 -2.536215e+07  2.217737e+06\nG13  4807.353037  0.000071 -1.325052e+07  1.034195e+07  2.040048e+07\nG14  4807.359710  0.000052 -2.109760e+07 -1.395420e+07  8.100629e+06\nG27  4807.354121 -0.000027  1.341155e+07 -7.067973e+06  2.162338e+07\nG28  4807.358301  0.000648 -2.236910e+07 -1.338034e+07  5.146993e+06\nG30  4807.363223 -0.000346 -1.303756e+07 -9.355779e+06  2.123314e+07\n"
     ]
    }
   ],
   "source": [
    "def calculate_satellite_position(ephemeris, transmit_time):\n",
    "    mu = 3.986005e14\n",
    "    OmegaDot_e = 7.2921151467e-5\n",
    "    F = -4.442807633e-10\n",
    "    sv_position = pd.DataFrame()\n",
    "    sv_position['sv']= ephemeris.index\n",
    "    sv_position.set_index('sv', inplace=True)\n",
    "    sv_position['t_k'] = transmit_time - ephemeris['t_oe']\n",
    "    A = ephemeris['sqrtA'].pow(2)\n",
    "    n_0 = np.sqrt(mu / A.pow(3))\n",
    "    n = n_0 + ephemeris['deltaN']\n",
    "    M_k = ephemeris['M_0'] + n * sv_position['t_k']\n",
    "    E_k = M_k\n",
    "    err = pd.Series(data=[1]*len(sv_position.index))\n",
    "    i = 0\n",
    "    while err.abs().min() > 1e-8 and i < 10:\n",
    "        new_vals = M_k + ephemeris['e']*np.sin(E_k)\n",
    "        err = new_vals - E_k\n",
    "        E_k = new_vals\n",
    "        i += 1\n",
    "        \n",
    "    sinE_k = np.sin(E_k)\n",
    "    cosE_k = np.cos(E_k)\n",
    "    delT_r = F * ephemeris['e'].pow(ephemeris['sqrtA']) * sinE_k\n",
    "    delT_oc = transmit_time - ephemeris['t_oc']\n",
    "    sv_position['delT_sv'] = ephemeris['SVclockBias'] + ephemeris['SVclockDrift'] * delT_oc + ephemeris['SVclockDriftRate'] * delT_oc.pow(2)\n",
    "\n",
    "    v_k = np.arctan2(np.sqrt(1-ephemeris['e'].pow(2))*sinE_k,(cosE_k - ephemeris['e']))\n",
    "\n",
    "    Phi_k = v_k + ephemeris['omega']\n",
    "\n",
    "    sin2Phi_k = np.sin(2*Phi_k)\n",
    "    cos2Phi_k = np.cos(2*Phi_k)\n",
    "\n",
    "    du_k = ephemeris['C_us']*sin2Phi_k + ephemeris['C_uc']*cos2Phi_k\n",
    "    dr_k = ephemeris['C_rs']*sin2Phi_k + ephemeris['C_rc']*cos2Phi_k\n",
    "    di_k = ephemeris['C_is']*sin2Phi_k + ephemeris['C_ic']*cos2Phi_k\n",
    "\n",
    "    u_k = Phi_k + du_k\n",
    "\n",
    "    r_k = A*(1 - ephemeris['e']*np.cos(E_k)) + dr_k\n",
    "\n",
    "    i_k = ephemeris['i_0'] + di_k + ephemeris['IDOT']*sv_position['t_k']\n",
    "\n",
    "    x_k_prime = r_k*np.cos(u_k)\n",
    "    y_k_prime = r_k*np.sin(u_k)\n",
    "\n",
    "    Omega_k = ephemeris['Omega_0'] + (ephemeris['OmegaDot'] - OmegaDot_e)*sv_position['t_k'] - OmegaDot_e*ephemeris['t_oe']\n",
    "\n",
    "    sv_position['x_k'] = x_k_prime*np.cos(Omega_k) - y_k_prime*np.cos(i_k)*np.sin(Omega_k)\n",
    "    sv_position['y_k'] = x_k_prime*np.sin(Omega_k) + y_k_prime*np.cos(i_k)*np.cos(Omega_k)\n",
    "    sv_position['z_k'] = y_k_prime*np.sin(i_k)\n",
    "    return sv_position\n",
    "\n",
    "# Run the function and check out the results:\n",
    "sv_position = calculate_satellite_position(ephemeris, one_epoch['tTxSeconds'])\n",
    "print(sv_position)"
   ]
  },
  {
   "source": [
    "We now have raw pseudorange values, satellite positions, and satellite clock offsets. Let's correct the pseudoranges for satellite clock bias and convert the values to Numpy arrays."
   ],
   "cell_type": "markdown",
   "metadata": {}
  },
  {
   "cell_type": "code",
   "execution_count": 8,
   "metadata": {},
   "outputs": [],
   "source": [
    "#initial guesses of receiver clock bias and position\n",
    "b0 = 0\n",
    "x0 = np.array([0, 0, 0])\n",
    "xs = sv_position[['x_k', 'y_k', 'z_k']].to_numpy()\n",
    "\n",
    "# Apply satellite clock bias to correct the measured pseudorange values\n",
    "pr = one_epoch['PrM'] + LIGHTSPEED * sv_position['delT_sv']\n",
    "pr = pr.to_numpy()"
   ]
  },
  {
   "source": [
    "Here's the function to calculate rough receiver position. Its inputs are Numpy arrays containing satellite positions in the ECEF frame, pseudorange measurements in meters, and initial estimates of receiver position and clock bias. The unit for clock bias is meters, so you need to divide by the speed of light to convert to seconds.\n",
    "\n",
    "This function is adapted and simplified from the MATLAB code in Ankur Mohan's [blog](https://www.telesens.co/2017/07/17/calculating-position-from-raw-gps-data/). It's a simple least squares iteration with no correction for ionospheric delay or satellite movement during signal time of flight."
   ],
   "cell_type": "markdown",
   "metadata": {}
  },
  {
   "cell_type": "code",
   "execution_count": 9,
   "metadata": {},
   "outputs": [
    {
     "output_type": "stream",
     "name": "stdout",
     "text": [
      "(47.586270293121764, -122.32852029308533, 6.88566867262125)\n-1.167561052244428e-07\n13.68843891495611\n"
     ]
    }
   ],
   "source": [
    "def least_squares(xs, pr, x0, b0):\n",
    "    dx = 100*np.ones(3)\n",
    "    b = b0\n",
    "    # set up the G matrix with the right dimensions. We will later replace the first 3 columns\n",
    "    # note that b here is the clock bias in meters equivalent, so the actual clock bias is b/LIGHTSPEED\n",
    "    G = np.ones((pr.size, 4))\n",
    "    iterations = 0\n",
    "    while np.linalg.norm(dx) > 1e-3:\n",
    "        norms = np.linalg.norm(xs - x0, axis=1)\n",
    "        dp = pr - norms + b - b0\n",
    "        G[:, 0:3] = -(xs - x0)/norms[:, None]\n",
    "        sol = np.linalg.inv(np.transpose(G)@G) @ np.transpose(G) @ dp\n",
    "        dx = sol[0:3]\n",
    "        db = sol[3]\n",
    "        norm_dp = np.linalg.norm(dp)\n",
    "        x0 = x0 + dx\n",
    "        b0 = b0 + db\n",
    "\n",
    "    return x0, b0, norm_dp\n",
    "\n",
    "x, b, dp = least_squares(xs, pr, x0, b0)\n",
    "print(navpy.ecef2lla(x))\n",
    "print(b/LIGHTSPEED)\n",
    "print(dp)"
   ]
  },
  {
   "source": [
    "Looks like it worked! The pseudorange residual is in the tens of meters, which is reasonable considering we didn't correct for ionospheric delay or the rotation of the Earth during signal transmission.\n",
    "\n",
    "Now let's wrap this entire process into a loop to calculate receiver position for every measurement epoch in the dataset with more than 4 satellite measurements.\n",
    "\n"
   ],
   "cell_type": "markdown",
   "metadata": {}
  },
  {
   "cell_type": "code",
   "execution_count": 10,
   "metadata": {
    "tags": []
   },
   "outputs": [],
   "source": [
    "lla_list = []\n",
    "ned_list = []\n",
    "for epoch in measurements['Epoch'].unique():\n",
    "    one_epoch = measurements.loc[(measurements['Epoch'] == epoch) & (measurements['prSeconds'] < 0.1)] \n",
    "    one_epoch = one_epoch.drop_duplicates(subset='SvName').set_index('SvName')\n",
    "    if len(one_epoch.index) > 4:\n",
    "        timestamp = one_epoch.iloc[0]['UnixTime'].to_pydatetime(warn=False)\n",
    "        sats = one_epoch.index.unique().tolist()\n",
    "        ephemeris = manager.get_ephemeris(timestamp, sats)\n",
    "        sv_position = calculate_satellite_position(ephemeris, one_epoch['tTxSeconds'])\n",
    "\n",
    "        xs = sv_position[['x_k', 'y_k', 'z_k']].to_numpy()\n",
    "        pr = one_epoch['PrM'] + LIGHTSPEED * sv_position['delT_sv']\n",
    "        pr = pr.to_numpy()\n",
    "\n",
    "        x, b, dp = least_squares(xs, pr, x, b)\n",
    "        lla = navpy.ecef2lla(x)\n",
    "        lla_list.append(lla)\n",
    "        ned_list.append(navpy.lla2ned(lla[0], lla[1], lla[2], lla_list[0][0], lla_list[0][1], lla_list[0][2]))"
   ]
  },
  {
   "source": [
    "Finally, we'll convert the list of NED translations into a Pandas dataframe and create a plot of change in position relative to the first measurement epoch."
   ],
   "cell_type": "markdown",
   "metadata": {}
  },
  {
   "cell_type": "code",
   "execution_count": 11,
   "metadata": {},
   "outputs": [
    {
     "output_type": "display_data",
     "data": {
      "text/plain": "<Figure size 432x288 with 1 Axes>",
      "image/svg+xml": "<?xml version=\"1.0\" encoding=\"utf-8\" standalone=\"no\"?>\n<!DOCTYPE svg PUBLIC \"-//W3C//DTD SVG 1.1//EN\"\n  \"http://www.w3.org/Graphics/SVG/1.1/DTD/svg11.dtd\">\n<!-- Created with matplotlib (https://matplotlib.org/) -->\n<svg height=\"277.314375pt\" version=\"1.1\" viewBox=\"0 0 255.744375 277.314375\" width=\"255.744375pt\" xmlns=\"http://www.w3.org/2000/svg\" xmlns:xlink=\"http://www.w3.org/1999/xlink\">\n <metadata>\n  <rdf:RDF xmlns:cc=\"http://creativecommons.org/ns#\" xmlns:dc=\"http://purl.org/dc/elements/1.1/\" xmlns:rdf=\"http://www.w3.org/1999/02/22-rdf-syntax-ns#\">\n   <cc:Work>\n    <dc:type rdf:resource=\"http://purl.org/dc/dcmitype/StillImage\"/>\n    <dc:date>2021-01-14T18:46:52.472131</dc:date>\n    <dc:format>image/svg+xml</dc:format>\n    <dc:creator>\n     <cc:Agent>\n      <dc:title>Matplotlib v3.3.3, https://matplotlib.org/</dc:title>\n     </cc:Agent>\n    </dc:creator>\n   </cc:Work>\n  </rdf:RDF>\n </metadata>\n <defs>\n  <style type=\"text/css\">*{stroke-linecap:butt;stroke-linejoin:round;}</style>\n </defs>\n <g id=\"figure_1\">\n  <g id=\"patch_1\">\n   <path d=\"M 0 277.314375 \nL 255.744375 277.314375 \nL 255.744375 0 \nL 0 0 \nz\n\" style=\"fill:none;\"/>\n  </g>\n  <g id=\"axes_1\">\n   <g id=\"patch_2\">\n    <path d=\"M 108.957811 239.758125 \nL 146.786564 239.758125 \nL 146.786564 22.318125 \nL 108.957811 22.318125 \nz\n\" style=\"fill:#ffffff;\"/>\n   </g>\n   <g id=\"matplotlib.axis_1\">\n    <g id=\"xtick_1\">\n     <g id=\"line2d_1\">\n      <defs>\n       <path d=\"M 0 0 \nL 0 3.5 \n\" id=\"mdbf6b051c2\" style=\"stroke:#000000;stroke-width:0.8;\"/>\n      </defs>\n      <g>\n       <use style=\"stroke:#000000;stroke-width:0.8;\" x=\"126.466235\" xlink:href=\"#mdbf6b051c2\" y=\"239.758125\"/>\n      </g>\n     </g>\n     <g id=\"text_1\">\n      <!-- −1000 -->\n      <g transform=\"translate(109.551391 254.356562)scale(0.1 -0.1)\">\n       <defs>\n        <path d=\"M 10.59375 35.5 \nL 73.1875 35.5 \nL 73.1875 27.203125 \nL 10.59375 27.203125 \nz\n\" id=\"DejaVuSans-8722\"/>\n        <path d=\"M 12.40625 8.296875 \nL 28.515625 8.296875 \nL 28.515625 63.921875 \nL 10.984375 60.40625 \nL 10.984375 69.390625 \nL 28.421875 72.90625 \nL 38.28125 72.90625 \nL 38.28125 8.296875 \nL 54.390625 8.296875 \nL 54.390625 0 \nL 12.40625 0 \nz\n\" id=\"DejaVuSans-49\"/>\n        <path d=\"M 31.78125 66.40625 \nQ 24.171875 66.40625 20.328125 58.90625 \nQ 16.5 51.421875 16.5 36.375 \nQ 16.5 21.390625 20.328125 13.890625 \nQ 24.171875 6.390625 31.78125 6.390625 \nQ 39.453125 6.390625 43.28125 13.890625 \nQ 47.125 21.390625 47.125 36.375 \nQ 47.125 51.421875 43.28125 58.90625 \nQ 39.453125 66.40625 31.78125 66.40625 \nz\nM 31.78125 74.21875 \nQ 44.046875 74.21875 50.515625 64.515625 \nQ 56.984375 54.828125 56.984375 36.375 \nQ 56.984375 17.96875 50.515625 8.265625 \nQ 44.046875 -1.421875 31.78125 -1.421875 \nQ 19.53125 -1.421875 13.0625 8.265625 \nQ 6.59375 17.96875 6.59375 36.375 \nQ 6.59375 54.828125 13.0625 64.515625 \nQ 19.53125 74.21875 31.78125 74.21875 \nz\n\" id=\"DejaVuSans-48\"/>\n       </defs>\n       <use xlink:href=\"#DejaVuSans-8722\"/>\n       <use x=\"83.789062\" xlink:href=\"#DejaVuSans-49\"/>\n       <use x=\"147.412109\" xlink:href=\"#DejaVuSans-48\"/>\n       <use x=\"211.035156\" xlink:href=\"#DejaVuSans-48\"/>\n       <use x=\"274.658203\" xlink:href=\"#DejaVuSans-48\"/>\n      </g>\n     </g>\n    </g>\n    <g id=\"xtick_2\">\n     <g id=\"line2d_2\">\n      <g>\n       <use style=\"stroke:#000000;stroke-width:0.8;\" x=\"144.078412\" xlink:href=\"#mdbf6b051c2\" y=\"239.758125\"/>\n      </g>\n     </g>\n     <g id=\"text_2\">\n      <!-- 0 -->\n      <g transform=\"translate(140.897162 254.356562)scale(0.1 -0.1)\">\n       <use xlink:href=\"#DejaVuSans-48\"/>\n      </g>\n     </g>\n    </g>\n    <g id=\"text_3\">\n     <!-- East (m) -->\n     <g transform=\"translate(106.722969 268.034687)scale(0.1 -0.1)\">\n      <defs>\n       <path d=\"M 9.8125 72.90625 \nL 55.90625 72.90625 \nL 55.90625 64.59375 \nL 19.671875 64.59375 \nL 19.671875 43.015625 \nL 54.390625 43.015625 \nL 54.390625 34.71875 \nL 19.671875 34.71875 \nL 19.671875 8.296875 \nL 56.78125 8.296875 \nL 56.78125 0 \nL 9.8125 0 \nz\n\" id=\"DejaVuSans-69\"/>\n       <path d=\"M 34.28125 27.484375 \nQ 23.390625 27.484375 19.1875 25 \nQ 14.984375 22.515625 14.984375 16.5 \nQ 14.984375 11.71875 18.140625 8.90625 \nQ 21.296875 6.109375 26.703125 6.109375 \nQ 34.1875 6.109375 38.703125 11.40625 \nQ 43.21875 16.703125 43.21875 25.484375 \nL 43.21875 27.484375 \nz\nM 52.203125 31.203125 \nL 52.203125 0 \nL 43.21875 0 \nL 43.21875 8.296875 \nQ 40.140625 3.328125 35.546875 0.953125 \nQ 30.953125 -1.421875 24.3125 -1.421875 \nQ 15.921875 -1.421875 10.953125 3.296875 \nQ 6 8.015625 6 15.921875 \nQ 6 25.140625 12.171875 29.828125 \nQ 18.359375 34.515625 30.609375 34.515625 \nL 43.21875 34.515625 \nL 43.21875 35.40625 \nQ 43.21875 41.609375 39.140625 45 \nQ 35.0625 48.390625 27.6875 48.390625 \nQ 23 48.390625 18.546875 47.265625 \nQ 14.109375 46.140625 10.015625 43.890625 \nL 10.015625 52.203125 \nQ 14.9375 54.109375 19.578125 55.046875 \nQ 24.21875 56 28.609375 56 \nQ 40.484375 56 46.34375 49.84375 \nQ 52.203125 43.703125 52.203125 31.203125 \nz\n\" id=\"DejaVuSans-97\"/>\n       <path d=\"M 44.28125 53.078125 \nL 44.28125 44.578125 \nQ 40.484375 46.53125 36.375 47.5 \nQ 32.28125 48.484375 27.875 48.484375 \nQ 21.1875 48.484375 17.84375 46.4375 \nQ 14.5 44.390625 14.5 40.28125 \nQ 14.5 37.15625 16.890625 35.375 \nQ 19.28125 33.59375 26.515625 31.984375 \nL 29.59375 31.296875 \nQ 39.15625 29.25 43.1875 25.515625 \nQ 47.21875 21.78125 47.21875 15.09375 \nQ 47.21875 7.46875 41.1875 3.015625 \nQ 35.15625 -1.421875 24.609375 -1.421875 \nQ 20.21875 -1.421875 15.453125 -0.5625 \nQ 10.6875 0.296875 5.421875 2 \nL 5.421875 11.28125 \nQ 10.40625 8.6875 15.234375 7.390625 \nQ 20.0625 6.109375 24.8125 6.109375 \nQ 31.15625 6.109375 34.5625 8.28125 \nQ 37.984375 10.453125 37.984375 14.40625 \nQ 37.984375 18.0625 35.515625 20.015625 \nQ 33.0625 21.96875 24.703125 23.78125 \nL 21.578125 24.515625 \nQ 13.234375 26.265625 9.515625 29.90625 \nQ 5.8125 33.546875 5.8125 39.890625 \nQ 5.8125 47.609375 11.28125 51.796875 \nQ 16.75 56 26.8125 56 \nQ 31.78125 56 36.171875 55.265625 \nQ 40.578125 54.546875 44.28125 53.078125 \nz\n\" id=\"DejaVuSans-115\"/>\n       <path d=\"M 18.3125 70.21875 \nL 18.3125 54.6875 \nL 36.8125 54.6875 \nL 36.8125 47.703125 \nL 18.3125 47.703125 \nL 18.3125 18.015625 \nQ 18.3125 11.328125 20.140625 9.421875 \nQ 21.96875 7.515625 27.59375 7.515625 \nL 36.8125 7.515625 \nL 36.8125 0 \nL 27.59375 0 \nQ 17.1875 0 13.234375 3.875 \nQ 9.28125 7.765625 9.28125 18.015625 \nL 9.28125 47.703125 \nL 2.6875 47.703125 \nL 2.6875 54.6875 \nL 9.28125 54.6875 \nL 9.28125 70.21875 \nz\n\" id=\"DejaVuSans-116\"/>\n       <path id=\"DejaVuSans-32\"/>\n       <path d=\"M 31 75.875 \nQ 24.46875 64.65625 21.28125 53.65625 \nQ 18.109375 42.671875 18.109375 31.390625 \nQ 18.109375 20.125 21.3125 9.0625 \nQ 24.515625 -2 31 -13.1875 \nL 23.1875 -13.1875 \nQ 15.875 -1.703125 12.234375 9.375 \nQ 8.59375 20.453125 8.59375 31.390625 \nQ 8.59375 42.28125 12.203125 53.3125 \nQ 15.828125 64.359375 23.1875 75.875 \nz\n\" id=\"DejaVuSans-40\"/>\n       <path d=\"M 52 44.1875 \nQ 55.375 50.25 60.0625 53.125 \nQ 64.75 56 71.09375 56 \nQ 79.640625 56 84.28125 50.015625 \nQ 88.921875 44.046875 88.921875 33.015625 \nL 88.921875 0 \nL 79.890625 0 \nL 79.890625 32.71875 \nQ 79.890625 40.578125 77.09375 44.375 \nQ 74.3125 48.1875 68.609375 48.1875 \nQ 61.625 48.1875 57.5625 43.546875 \nQ 53.515625 38.921875 53.515625 30.90625 \nL 53.515625 0 \nL 44.484375 0 \nL 44.484375 32.71875 \nQ 44.484375 40.625 41.703125 44.40625 \nQ 38.921875 48.1875 33.109375 48.1875 \nQ 26.21875 48.1875 22.15625 43.53125 \nQ 18.109375 38.875 18.109375 30.90625 \nL 18.109375 0 \nL 9.078125 0 \nL 9.078125 54.6875 \nL 18.109375 54.6875 \nL 18.109375 46.1875 \nQ 21.1875 51.21875 25.484375 53.609375 \nQ 29.78125 56 35.6875 56 \nQ 41.65625 56 45.828125 52.96875 \nQ 50 49.953125 52 44.1875 \nz\n\" id=\"DejaVuSans-109\"/>\n       <path d=\"M 8.015625 75.875 \nL 15.828125 75.875 \nQ 23.140625 64.359375 26.78125 53.3125 \nQ 30.421875 42.28125 30.421875 31.390625 \nQ 30.421875 20.453125 26.78125 9.375 \nQ 23.140625 -1.703125 15.828125 -13.1875 \nL 8.015625 -13.1875 \nQ 14.5 -2 17.703125 9.0625 \nQ 20.90625 20.125 20.90625 31.390625 \nQ 20.90625 42.671875 17.703125 53.65625 \nQ 14.5 64.65625 8.015625 75.875 \nz\n\" id=\"DejaVuSans-41\"/>\n      </defs>\n      <use xlink:href=\"#DejaVuSans-69\"/>\n      <use x=\"63.183594\" xlink:href=\"#DejaVuSans-97\"/>\n      <use x=\"124.462891\" xlink:href=\"#DejaVuSans-115\"/>\n      <use x=\"176.5625\" xlink:href=\"#DejaVuSans-116\"/>\n      <use x=\"215.771484\" xlink:href=\"#DejaVuSans-32\"/>\n      <use x=\"247.558594\" xlink:href=\"#DejaVuSans-40\"/>\n      <use x=\"286.572266\" xlink:href=\"#DejaVuSans-109\"/>\n      <use x=\"383.984375\" xlink:href=\"#DejaVuSans-41\"/>\n     </g>\n    </g>\n   </g>\n   <g id=\"matplotlib.axis_2\">\n    <g id=\"ytick_1\">\n     <g id=\"line2d_3\">\n      <defs>\n       <path d=\"M 0 0 \nL -3.5 0 \n\" id=\"m978a3b5c46\" style=\"stroke:#000000;stroke-width:0.8;\"/>\n      </defs>\n      <g>\n       <use style=\"stroke:#000000;stroke-width:0.8;\" x=\"108.957811\" xlink:href=\"#m978a3b5c46\" y=\"229.756837\"/>\n      </g>\n     </g>\n     <g id=\"text_4\">\n      <!-- 0 -->\n      <g transform=\"translate(95.595311 233.556056)scale(0.1 -0.1)\">\n       <use xlink:href=\"#DejaVuSans-48\"/>\n      </g>\n     </g>\n    </g>\n    <g id=\"ytick_2\">\n     <g id=\"line2d_4\">\n      <g>\n       <use style=\"stroke:#000000;stroke-width:0.8;\" x=\"108.957811\" xlink:href=\"#m978a3b5c46\" y=\"194.532483\"/>\n      </g>\n     </g>\n     <g id=\"text_5\">\n      <!-- 2000 -->\n      <g transform=\"translate(76.507811 198.331702)scale(0.1 -0.1)\">\n       <defs>\n        <path d=\"M 19.1875 8.296875 \nL 53.609375 8.296875 \nL 53.609375 0 \nL 7.328125 0 \nL 7.328125 8.296875 \nQ 12.9375 14.109375 22.625 23.890625 \nQ 32.328125 33.6875 34.8125 36.53125 \nQ 39.546875 41.84375 41.421875 45.53125 \nQ 43.3125 49.21875 43.3125 52.78125 \nQ 43.3125 58.59375 39.234375 62.25 \nQ 35.15625 65.921875 28.609375 65.921875 \nQ 23.96875 65.921875 18.8125 64.3125 \nQ 13.671875 62.703125 7.8125 59.421875 \nL 7.8125 69.390625 \nQ 13.765625 71.78125 18.9375 73 \nQ 24.125 74.21875 28.421875 74.21875 \nQ 39.75 74.21875 46.484375 68.546875 \nQ 53.21875 62.890625 53.21875 53.421875 \nQ 53.21875 48.921875 51.53125 44.890625 \nQ 49.859375 40.875 45.40625 35.40625 \nQ 44.1875 33.984375 37.640625 27.21875 \nQ 31.109375 20.453125 19.1875 8.296875 \nz\n\" id=\"DejaVuSans-50\"/>\n       </defs>\n       <use xlink:href=\"#DejaVuSans-50\"/>\n       <use x=\"63.623047\" xlink:href=\"#DejaVuSans-48\"/>\n       <use x=\"127.246094\" xlink:href=\"#DejaVuSans-48\"/>\n       <use x=\"190.869141\" xlink:href=\"#DejaVuSans-48\"/>\n      </g>\n     </g>\n    </g>\n    <g id=\"ytick_3\">\n     <g id=\"line2d_5\">\n      <g>\n       <use style=\"stroke:#000000;stroke-width:0.8;\" x=\"108.957811\" xlink:href=\"#m978a3b5c46\" y=\"159.308129\"/>\n      </g>\n     </g>\n     <g id=\"text_6\">\n      <!-- 4000 -->\n      <g transform=\"translate(76.507811 163.107348)scale(0.1 -0.1)\">\n       <defs>\n        <path d=\"M 37.796875 64.3125 \nL 12.890625 25.390625 \nL 37.796875 25.390625 \nz\nM 35.203125 72.90625 \nL 47.609375 72.90625 \nL 47.609375 25.390625 \nL 58.015625 25.390625 \nL 58.015625 17.1875 \nL 47.609375 17.1875 \nL 47.609375 0 \nL 37.796875 0 \nL 37.796875 17.1875 \nL 4.890625 17.1875 \nL 4.890625 26.703125 \nz\n\" id=\"DejaVuSans-52\"/>\n       </defs>\n       <use xlink:href=\"#DejaVuSans-52\"/>\n       <use x=\"63.623047\" xlink:href=\"#DejaVuSans-48\"/>\n       <use x=\"127.246094\" xlink:href=\"#DejaVuSans-48\"/>\n       <use x=\"190.869141\" xlink:href=\"#DejaVuSans-48\"/>\n      </g>\n     </g>\n    </g>\n    <g id=\"ytick_4\">\n     <g id=\"line2d_6\">\n      <g>\n       <use style=\"stroke:#000000;stroke-width:0.8;\" x=\"108.957811\" xlink:href=\"#m978a3b5c46\" y=\"124.083775\"/>\n      </g>\n     </g>\n     <g id=\"text_7\">\n      <!-- 6000 -->\n      <g transform=\"translate(76.507811 127.882994)scale(0.1 -0.1)\">\n       <defs>\n        <path d=\"M 33.015625 40.375 \nQ 26.375 40.375 22.484375 35.828125 \nQ 18.609375 31.296875 18.609375 23.390625 \nQ 18.609375 15.53125 22.484375 10.953125 \nQ 26.375 6.390625 33.015625 6.390625 \nQ 39.65625 6.390625 43.53125 10.953125 \nQ 47.40625 15.53125 47.40625 23.390625 \nQ 47.40625 31.296875 43.53125 35.828125 \nQ 39.65625 40.375 33.015625 40.375 \nz\nM 52.59375 71.296875 \nL 52.59375 62.3125 \nQ 48.875 64.0625 45.09375 64.984375 \nQ 41.3125 65.921875 37.59375 65.921875 \nQ 27.828125 65.921875 22.671875 59.328125 \nQ 17.53125 52.734375 16.796875 39.40625 \nQ 19.671875 43.65625 24.015625 45.921875 \nQ 28.375 48.1875 33.59375 48.1875 \nQ 44.578125 48.1875 50.953125 41.515625 \nQ 57.328125 34.859375 57.328125 23.390625 \nQ 57.328125 12.15625 50.6875 5.359375 \nQ 44.046875 -1.421875 33.015625 -1.421875 \nQ 20.359375 -1.421875 13.671875 8.265625 \nQ 6.984375 17.96875 6.984375 36.375 \nQ 6.984375 53.65625 15.1875 63.9375 \nQ 23.390625 74.21875 37.203125 74.21875 \nQ 40.921875 74.21875 44.703125 73.484375 \nQ 48.484375 72.75 52.59375 71.296875 \nz\n\" id=\"DejaVuSans-54\"/>\n       </defs>\n       <use xlink:href=\"#DejaVuSans-54\"/>\n       <use x=\"63.623047\" xlink:href=\"#DejaVuSans-48\"/>\n       <use x=\"127.246094\" xlink:href=\"#DejaVuSans-48\"/>\n       <use x=\"190.869141\" xlink:href=\"#DejaVuSans-48\"/>\n      </g>\n     </g>\n    </g>\n    <g id=\"ytick_5\">\n     <g id=\"line2d_7\">\n      <g>\n       <use style=\"stroke:#000000;stroke-width:0.8;\" x=\"108.957811\" xlink:href=\"#m978a3b5c46\" y=\"88.859421\"/>\n      </g>\n     </g>\n     <g id=\"text_8\">\n      <!-- 8000 -->\n      <g transform=\"translate(76.507811 92.65864)scale(0.1 -0.1)\">\n       <defs>\n        <path d=\"M 31.78125 34.625 \nQ 24.75 34.625 20.71875 30.859375 \nQ 16.703125 27.09375 16.703125 20.515625 \nQ 16.703125 13.921875 20.71875 10.15625 \nQ 24.75 6.390625 31.78125 6.390625 \nQ 38.8125 6.390625 42.859375 10.171875 \nQ 46.921875 13.96875 46.921875 20.515625 \nQ 46.921875 27.09375 42.890625 30.859375 \nQ 38.875 34.625 31.78125 34.625 \nz\nM 21.921875 38.8125 \nQ 15.578125 40.375 12.03125 44.71875 \nQ 8.5 49.078125 8.5 55.328125 \nQ 8.5 64.0625 14.71875 69.140625 \nQ 20.953125 74.21875 31.78125 74.21875 \nQ 42.671875 74.21875 48.875 69.140625 \nQ 55.078125 64.0625 55.078125 55.328125 \nQ 55.078125 49.078125 51.53125 44.71875 \nQ 48 40.375 41.703125 38.8125 \nQ 48.828125 37.15625 52.796875 32.3125 \nQ 56.78125 27.484375 56.78125 20.515625 \nQ 56.78125 9.90625 50.3125 4.234375 \nQ 43.84375 -1.421875 31.78125 -1.421875 \nQ 19.734375 -1.421875 13.25 4.234375 \nQ 6.78125 9.90625 6.78125 20.515625 \nQ 6.78125 27.484375 10.78125 32.3125 \nQ 14.796875 37.15625 21.921875 38.8125 \nz\nM 18.3125 54.390625 \nQ 18.3125 48.734375 21.84375 45.5625 \nQ 25.390625 42.390625 31.78125 42.390625 \nQ 38.140625 42.390625 41.71875 45.5625 \nQ 45.3125 48.734375 45.3125 54.390625 \nQ 45.3125 60.0625 41.71875 63.234375 \nQ 38.140625 66.40625 31.78125 66.40625 \nQ 25.390625 66.40625 21.84375 63.234375 \nQ 18.3125 60.0625 18.3125 54.390625 \nz\n\" id=\"DejaVuSans-56\"/>\n       </defs>\n       <use xlink:href=\"#DejaVuSans-56\"/>\n       <use x=\"63.623047\" xlink:href=\"#DejaVuSans-48\"/>\n       <use x=\"127.246094\" xlink:href=\"#DejaVuSans-48\"/>\n       <use x=\"190.869141\" xlink:href=\"#DejaVuSans-48\"/>\n      </g>\n     </g>\n    </g>\n    <g id=\"ytick_6\">\n     <g id=\"line2d_8\">\n      <g>\n       <use style=\"stroke:#000000;stroke-width:0.8;\" x=\"108.957811\" xlink:href=\"#m978a3b5c46\" y=\"53.635067\"/>\n      </g>\n     </g>\n     <g id=\"text_9\">\n      <!-- 10000 -->\n      <g transform=\"translate(70.145311 57.434286)scale(0.1 -0.1)\">\n       <use xlink:href=\"#DejaVuSans-49\"/>\n       <use x=\"63.623047\" xlink:href=\"#DejaVuSans-48\"/>\n       <use x=\"127.246094\" xlink:href=\"#DejaVuSans-48\"/>\n       <use x=\"190.869141\" xlink:href=\"#DejaVuSans-48\"/>\n       <use x=\"254.492188\" xlink:href=\"#DejaVuSans-48\"/>\n      </g>\n     </g>\n    </g>\n    <g id=\"text_10\">\n     <!-- North (m) -->\n     <g transform=\"translate(64.065623 155.383437)rotate(-90)scale(0.1 -0.1)\">\n      <defs>\n       <path d=\"M 9.8125 72.90625 \nL 23.09375 72.90625 \nL 55.421875 11.921875 \nL 55.421875 72.90625 \nL 64.984375 72.90625 \nL 64.984375 0 \nL 51.703125 0 \nL 19.390625 60.984375 \nL 19.390625 0 \nL 9.8125 0 \nz\n\" id=\"DejaVuSans-78\"/>\n       <path d=\"M 30.609375 48.390625 \nQ 23.390625 48.390625 19.1875 42.75 \nQ 14.984375 37.109375 14.984375 27.296875 \nQ 14.984375 17.484375 19.15625 11.84375 \nQ 23.34375 6.203125 30.609375 6.203125 \nQ 37.796875 6.203125 41.984375 11.859375 \nQ 46.1875 17.53125 46.1875 27.296875 \nQ 46.1875 37.015625 41.984375 42.703125 \nQ 37.796875 48.390625 30.609375 48.390625 \nz\nM 30.609375 56 \nQ 42.328125 56 49.015625 48.375 \nQ 55.71875 40.765625 55.71875 27.296875 \nQ 55.71875 13.875 49.015625 6.21875 \nQ 42.328125 -1.421875 30.609375 -1.421875 \nQ 18.84375 -1.421875 12.171875 6.21875 \nQ 5.515625 13.875 5.515625 27.296875 \nQ 5.515625 40.765625 12.171875 48.375 \nQ 18.84375 56 30.609375 56 \nz\n\" id=\"DejaVuSans-111\"/>\n       <path d=\"M 41.109375 46.296875 \nQ 39.59375 47.171875 37.8125 47.578125 \nQ 36.03125 48 33.890625 48 \nQ 26.265625 48 22.1875 43.046875 \nQ 18.109375 38.09375 18.109375 28.8125 \nL 18.109375 0 \nL 9.078125 0 \nL 9.078125 54.6875 \nL 18.109375 54.6875 \nL 18.109375 46.1875 \nQ 20.953125 51.171875 25.484375 53.578125 \nQ 30.03125 56 36.53125 56 \nQ 37.453125 56 38.578125 55.875 \nQ 39.703125 55.765625 41.0625 55.515625 \nz\n\" id=\"DejaVuSans-114\"/>\n       <path d=\"M 54.890625 33.015625 \nL 54.890625 0 \nL 45.90625 0 \nL 45.90625 32.71875 \nQ 45.90625 40.484375 42.875 44.328125 \nQ 39.84375 48.1875 33.796875 48.1875 \nQ 26.515625 48.1875 22.3125 43.546875 \nQ 18.109375 38.921875 18.109375 30.90625 \nL 18.109375 0 \nL 9.078125 0 \nL 9.078125 75.984375 \nL 18.109375 75.984375 \nL 18.109375 46.1875 \nQ 21.34375 51.125 25.703125 53.5625 \nQ 30.078125 56 35.796875 56 \nQ 45.21875 56 50.046875 50.171875 \nQ 54.890625 44.34375 54.890625 33.015625 \nz\n\" id=\"DejaVuSans-104\"/>\n      </defs>\n      <use xlink:href=\"#DejaVuSans-78\"/>\n      <use x=\"74.804688\" xlink:href=\"#DejaVuSans-111\"/>\n      <use x=\"135.986328\" xlink:href=\"#DejaVuSans-114\"/>\n      <use x=\"177.099609\" xlink:href=\"#DejaVuSans-116\"/>\n      <use x=\"216.308594\" xlink:href=\"#DejaVuSans-104\"/>\n      <use x=\"279.6875\" xlink:href=\"#DejaVuSans-32\"/>\n      <use x=\"311.474609\" xlink:href=\"#DejaVuSans-40\"/>\n      <use x=\"350.488281\" xlink:href=\"#DejaVuSans-109\"/>\n      <use x=\"447.900391\" xlink:href=\"#DejaVuSans-41\"/>\n     </g>\n    </g>\n   </g>\n   <g id=\"line2d_9\">\n    <path clip-path=\"url(#p06b37fa110)\" d=\"M 144.078412 229.756837 \nL 144.038216 229.874489 \nL 144.094843 229.624456 \nL 144.01014 229.740892 \nL 143.86508 229.639238 \nL 143.910015 229.859288 \nL 143.94769 229.751903 \nL 143.647759 229.606917 \nL 143.789913 229.500217 \nL 143.795415 229.299057 \nL 143.660668 229.165072 \nL 143.739171 228.846085 \nL 143.547336 228.150529 \nL 143.688629 228.306176 \nL 143.777931 228.103312 \nL 143.681495 227.835806 \nL 143.82374 227.520915 \nL 143.691251 227.391062 \nL 143.624761 226.17778 \nL 143.804626 226.118905 \nL 143.70961 225.889381 \nL 143.782844 225.774159 \nL 143.659118 225.509056 \nL 143.840314 224.619851 \nL 143.594541 224.632582 \nL 143.691466 224.334692 \nL 143.89458 224.2464 \nL 143.956906 223.939239 \nL 143.813112 223.469061 \nL 143.860845 221.78063 \nL 144.061228 222.05146 \nL 143.870339 220.601906 \nL 143.517021 220.339405 \nL 143.66208 220.066317 \nL 143.478931 219.855834 \nL 143.766608 219.829123 \nL 143.844733 219.526921 \nL 143.722466 218.429934 \nL 143.728996 218.228403 \nL 143.511802 217.677523 \nL 143.99352 217.265318 \nL 143.712083 216.667637 \nL 143.773332 216.207485 \nL 143.499956 216.17876 \nL 143.712912 214.945113 \nL 143.588783 214.739366 \nL 143.686352 214.413988 \nL 143.583826 214.19535 \nL 143.977785 214.320897 \nL 143.790549 213.459268 \nL 144.127808 214.345734 \nL 143.235855 213.301149 \nL 143.190843 212.736805 \nL 142.96786 212.733775 \nL 142.815062 212.578191 \nL 142.729408 212.17025 \nL 143.942234 211.310802 \nL 142.439857 211.632919 \nL 142.265587 211.480916 \nL 142.213323 211.250081 \nL 143.453492 210.372891 \nL 144.225061 209.487852 \nL 143.719389 209.499984 \nL 143.276081 209.661844 \nL 143.548553 209.237394 \nL 143.429341 209.269398 \nL 143.361143 209.102345 \nL 144.015867 208.333559 \nL 143.858678 207.837282 \nL 144.211775 207.60192 \nL 143.388099 207.295611 \nL 143.122796 207.329661 \nL 143.787899 206.752433 \nL 144.112417 206.167301 \nL 143.702637 206.024568 \nL 143.845228 205.942469 \nL 143.686518 205.971052 \nL 143.85793 205.80523 \nL 143.618611 205.726877 \nL 142.93911 205.670439 \nL 142.697418 205.905102 \nL 142.693745 205.62143 \nL 143.473463 205.612392 \nL 143.435836 205.767391 \nL 143.622795 205.433781 \nL 143.876304 205.31027 \nL 143.674266 204.941491 \nL 143.720871 204.653875 \nL 143.376771 204.626429 \nL 143.440345 204.414162 \nL 143.15378 204.006294 \nL 142.753295 203.958273 \nL 141.88832 202.953938 \nL 143.066046 203.762927 \nL 142.830401 203.377176 \nL 141.982174 203.07927 \nL 141.267705 202.171948 \nL 142.590596 203.28363 \nL 143.689065 201.913471 \nL 143.532036 201.009153 \nL 143.459803 200.943014 \nL 143.75319 201.779673 \nL 143.335457 201.275704 \nL 143.833148 201.339315 \nL 143.23869 201.08152 \nL 143.491561 201.520684 \nL 144.621444 201.890771 \nL 144.960105 201.435132 \nL 145.067076 200.205934 \nL 143.771214 200.033152 \nL 143.957948 199.596313 \nL 143.492551 198.541251 \nL 143.418509 198.767192 \nL 143.469193 199.717534 \nL 144.183937 196.964658 \nL 141.948763 198.812509 \nL 143.670977 202.17158 \nL 143.606604 198.414459 \nL 143.507677 198.53144 \nL 143.282371 197.89792 \nL 142.712876 197.541742 \nL 142.497226 197.369868 \nL 142.462403 197.058722 \nL 142.023793 196.925618 \nL 142.419851 196.856371 \nL 142.299839 197.034534 \nL 142.532576 196.506817 \nL 142.611343 196.303079 \nL 142.415504 196.203369 \nL 142.483589 196.743056 \nL 142.681322 196.890636 \nL 142.655295 197.360601 \nL 142.469772 197.311121 \nL 142.397651 196.341271 \nL 142.357246 196.652919 \nL 142.307811 197.215143 \nL 142.571724 197.44571 \nL 142.555268 196.59823 \nL 143.062964 196.914218 \nL 142.696797 197.261254 \nL 142.479774 197.257952 \nL 142.472977 197.472034 \nL 142.009917 197.083279 \nL 142.126584 196.990632 \nL 142.087192 196.855642 \nL 142.322309 196.843334 \nL 142.284443 196.42574 \nL 142.170189 196.285717 \nL 142.895782 196.718155 \nL 141.929091 196.846305 \nL 142.168013 196.801992 \nL 142.146758 195.928757 \nL 141.765007 195.596269 \nL 141.650292 196.323384 \nL 141.482769 195.440916 \nL 141.729141 195.764301 \nL 141.697905 195.738864 \nL 141.435403 195.598506 \nL 141.403485 195.30332 \nL 142.401419 196.6502 \nL 142.312334 196.983084 \nL 142.053224 196.898724 \nL 141.010924 195.221286 \nL 139.865199 195.162954 \nL 141.183931 195.102686 \nL 140.829596 195.077629 \nL 140.84203 195.003625 \nL 142.391836 195.421698 \nL 140.663417 193.821104 \nL 141.016046 194.056283 \nL 141.635794 194.021632 \nL 140.863951 193.671198 \nL 140.509208 194.704452 \nL 140.88294 194.085513 \nL 140.592096 194.299953 \nL 140.378598 194.670935 \nL 140.994089 192.879331 \nL 140.399074 194.667937 \nL 138.506756 192.31855 \nL 139.188588 192.859984 \nL 140.542309 193.251846 \nL 140.497724 193.209183 \nL 139.608285 191.888522 \nL 140.002825 191.578057 \nL 140.434641 191.477581 \nL 139.905599 190.946042 \nL 139.100315 190.512315 \nL 139.993799 190.732901 \nL 139.125591 190.946561 \nL 139.511207 192.052163 \nL 138.661443 191.598006 \nL 137.993641 190.944214 \nL 139.002153 190.802352 \nL 140.096016 191.440886 \nL 137.780741 189.776409 \nL 137.926304 189.152928 \nL 137.663037 189.503349 \nL 137.984206 190.111784 \nL 138.404653 189.883098 \nL 137.27864 189.560208 \nL 137.401397 188.280348 \nL 136.648109 188.346578 \nL 136.683844 188.530959 \nL 136.38544 188.183644 \nL 135.564254 189.394451 \nL 136.293185 188.111446 \nL 136.792265 187.730303 \nL 136.516662 187.29335 \nL 136.849135 188.490082 \nL 136.443438 188.088752 \nL 136.155879 188.293124 \nL 136.585861 187.509245 \nL 136.366782 187.57321 \nL 136.200511 187.406986 \nL 137.339927 185.905656 \nL 136.457094 185.793682 \nL 136.311926 185.388577 \nL 135.780726 186.272182 \nL 135.834013 186.513832 \nL 134.644082 187.794432 \nL 135.112918 188.052391 \nL 134.489831 187.263965 \nL 136.704899 186.287127 \nL 136.382822 186.47503 \nL 136.007684 186.33013 \nL 136.789209 185.836336 \nL 137.054689 186.685569 \nL 135.405278 184.531096 \nL 134.455794 184.180983 \nL 136.121868 185.109633 \nL 136.384407 184.599928 \nL 135.624557 184.265549 \nL 136.298449 185.660963 \nL 135.734965 186.376144 \nL 136.406895 185.501592 \nL 133.646724 187.182208 \nL 134.547773 185.847649 \nL 134.066081 186.162151 \nL 133.693782 185.977515 \nL 133.093566 186.144266 \nL 134.627409 184.807949 \nL 132.340079 185.243445 \nL 134.314918 183.198428 \nL 134.181053 183.272409 \nL 134.382938 182.780457 \nL 134.227313 182.190002 \nL 134.548942 182.321224 \nL 134.231432 181.814662 \nL 133.823568 182.267428 \nL 134.206944 181.63743 \nL 133.430843 182.377836 \nL 134.86498 181.636935 \nL 133.591668 181.843685 \nL 134.171803 182.08844 \nL 133.263216 181.917804 \nL 133.585478 181.793822 \nL 133.60111 181.397109 \nL 133.162713 182.011028 \nL 133.294533 182.154196 \nL 133.325523 181.827371 \nL 133.125146 182.306691 \nL 133.37946 182.015799 \nL 133.176922 182.111395 \nL 132.947433 182.074753 \nL 134.189566 182.273083 \nL 134.320896 184.422449 \nL 133.193002 181.788467 \nL 134.029939 181.006604 \nL 135.102306 181.841479 \nL 132.323903 179.749339 \nL 134.057587 180.094838 \nL 131.805009 179.455163 \nL 134.008732 182.795725 \nL 132.257523 179.148402 \nL 131.520873 179.146027 \nL 134.887552 181.390103 \nL 133.266237 181.242423 \nL 131.986812 178.781445 \nL 131.857221 178.915369 \nL 132.236356 178.970276 \nL 132.13729 178.680716 \nL 131.674156 179.199044 \nL 132.004783 178.69526 \nL 131.35589 179.125165 \nL 131.377016 178.951512 \nL 130.693534 179.035268 \nL 131.27723 178.690031 \nL 130.717368 178.384085 \nL 130.857633 177.718333 \nL 130.577511 177.253094 \nL 130.751752 177.494227 \nL 130.241662 177.631928 \nL 130.41194 178.043711 \nL 130.227724 177.883856 \nL 130.008016 177.70744 \nL 130.038874 178.217929 \nL 129.906624 177.46945 \nL 129.672807 176.643429 \nL 128.919527 175.86418 \nL 130.196703 178.497613 \nL 128.709019 175.141521 \nL 130.279148 178.083603 \nL 130.584576 178.04395 \nL 130.736486 178.319487 \nL 130.708081 178.635392 \nL 129.889979 177.73691 \nL 127.910887 179.214956 \nL 129.925592 177.624577 \nL 129.909717 177.452412 \nL 130.379855 178.021406 \nL 129.841564 177.3884 \nL 130.230538 177.631597 \nL 130.552857 178.249553 \nL 129.915514 178.043462 \nL 129.727007 177.595463 \nL 129.773656 177.587871 \nL 129.988742 177.37708 \nL 129.805792 177.423361 \nL 129.935524 177.491091 \nL 129.304563 177.420786 \nL 129.451201 177.259848 \nL 130.044898 177.122279 \nL 129.270989 177.418491 \nL 129.144044 177.100548 \nL 128.180518 177.137909 \nL 129.130295 176.904188 \nL 128.090153 177.57157 \nL 127.833302 177.219163 \nL 128.77521 176.818601 \nL 128.384854 176.491194 \nL 126.473502 178.035509 \nL 126.347998 177.721962 \nL 126.438881 177.870512 \nL 127.93512 176.482024 \nL 127.730485 176.670548 \nL 127.410111 176.48405 \nL 126.942146 176.878782 \nL 126.051051 177.120438 \nL 126.580268 176.771416 \nL 126.50531 176.548225 \nL 127.253288 175.779267 \nL 126.853657 175.282597 \nL 126.108548 175.428031 \nL 126.701061 174.827154 \nL 126.454966 174.824889 \nL 126.121543 175.151136 \nL 126.436888 174.538538 \nL 126.032313 174.672992 \nL 125.942176 174.466489 \nL 125.727149 174.44513 \nL 125.747499 174.183708 \nL 125.721885 174.079854 \nL 125.030463 175.343498 \nL 125.466595 174.719633 \nL 125.57297 173.958544 \nL 125.946526 174.147225 \nL 124.947445 174.300394 \nL 125.504978 173.816485 \nL 125.584613 173.543232 \nL 125.327096 173.840189 \nL 125.182573 174.224381 \nL 125.2329 174.781363 \nL 124.917239 174.680317 \nL 125.073903 174.580936 \nL 124.955433 174.512718 \nL 125.078013 174.890778 \nL 125.976487 173.943379 \nL 124.976033 174.749274 \nL 124.510579 175.874235 \nL 125.533489 174.588869 \nL 125.184519 175.078135 \nL 124.750041 175.315953 \nL 126.536066 173.878857 \nL 125.797133 174.618563 \nL 125.334314 174.64739 \nL 125.961941 174.002618 \nL 125.436842 173.733661 \nL 125.56862 173.647586 \nL 125.284413 173.738695 \nL 125.093247 173.10803 \nL 125.172273 173.505042 \nL 124.78312 173.319033 \nL 124.213128 173.387019 \nL 123.983931 173.166461 \nL 123.879922 172.531097 \nL 123.438626 172.211726 \nL 123.476078 171.613196 \nL 123.315161 171.94321 \nL 122.826893 172.496042 \nL 122.725435 171.65013 \nL 122.484465 171.923586 \nL 122.858326 171.403441 \nL 122.110642 171.596587 \nL 122.109384 171.490618 \nL 121.947295 171.358914 \nL 121.926752 171.235833 \nL 122.132741 171.506405 \nL 121.917324 171.395412 \nL 121.834511 171.413653 \nL 122.374363 170.997559 \nL 123.192171 171.343129 \nL 123.118311 171.204826 \nL 123.298408 171.241275 \nL 123.212093 170.817314 \nL 123.581561 170.790534 \nL 123.081855 170.422628 \nL 123.34798 170.185737 \nL 123.148431 169.682549 \nL 123.553343 169.609067 \nL 123.785136 169.441967 \nL 123.757926 169.539274 \nL 123.642233 169.286733 \nL 124.13314 169.010386 \nL 123.79324 167.856337 \nL 124.562166 169.195001 \nL 124.321504 168.527946 \nL 124.561339 168.355741 \nL 124.037068 167.565684 \nL 124.662144 167.654075 \nL 127.101866 170.028363 \nL 127.207436 170.30066 \nL 128.520892 172.803232 \nL 124.149748 166.883086 \nL 125.047333 166.817989 \nL 125.376295 167.004705 \nL 124.444859 166.646417 \nL 124.267779 166.446606 \nL 124.296256 166.509716 \nL 124.494872 166.306891 \nL 124.348989 166.470898 \nL 124.714082 165.811155 \nL 126.121226 165.940661 \nL 126.296724 165.426106 \nL 125.091002 165.787656 \nL 125.893907 165.348458 \nL 125.645124 164.957238 \nL 123.50871 164.730261 \nL 125.296479 164.823762 \nL 126.062061 164.684354 \nL 124.224347 164.555659 \nL 125.831181 164.781169 \nL 125.435986 164.792762 \nL 124.311016 164.961378 \nL 124.317062 164.94125 \nL 122.992853 164.720814 \nL 124.428138 164.765399 \nL 125.56666 164.967295 \nL 125.288736 164.999963 \nL 125.415247 164.80405 \nL 124.294565 164.74404 \nL 125.60997 164.92354 \nL 124.32476 164.674073 \nL 124.099407 164.904032 \nL 124.282103 164.697966 \nL 124.117071 164.522607 \nL 124.022541 164.633765 \nL 123.935167 164.186734 \nL 124.471573 163.733513 \nL 123.813519 164.027885 \nL 123.819621 163.784985 \nL 124.591695 163.016089 \nL 124.295351 162.821404 \nL 124.436118 162.553484 \nL 124.341813 162.23603 \nL 124.44739 161.846048 \nL 123.700384 162.273843 \nL 124.607138 161.280897 \nL 124.48494 161.164262 \nL 123.523209 160.627643 \nL 123.719412 160.63145 \nL 123.720543 160.16621 \nL 123.750879 160.295101 \nL 123.867408 160.527383 \nL 123.631641 159.925186 \nL 123.455719 160.530755 \nL 123.63621 160.466862 \nL 124.348507 160.11871 \nL 123.387098 160.026216 \nL 123.409641 160.024417 \nL 124.413634 159.776251 \nL 124.294595 159.797242 \nL 124.153482 159.599792 \nL 124.22958 159.450035 \nL 123.911472 159.155092 \nL 123.383051 158.82094 \nL 123.668741 158.702042 \nL 123.727259 158.858576 \nL 123.431603 158.49363 \nL 124.091873 158.289258 \nL 123.963253 158.067821 \nL 124.009537 157.87027 \nL 123.900594 157.446468 \nL 123.926948 157.245011 \nL 124.153813 156.885598 \nL 123.899969 156.84989 \nL 124.007318 156.503514 \nL 124.340844 155.77468 \nL 124.32133 154.850885 \nL 124.223715 154.46522 \nL 124.501664 153.79805 \nL 124.263801 153.517938 \nL 124.534126 153.257415 \nL 124.350151 152.043142 \nL 124.654642 152.411632 \nL 124.265061 151.53971 \nL 124.454959 151.440327 \nL 124.831365 150.820546 \nL 124.559961 150.679979 \nL 124.481474 150.106807 \nL 124.481951 150.162125 \nL 124.630539 149.193486 \nL 124.659744 148.599212 \nL 124.473081 148.139718 \nL 124.651754 148.240029 \nL 124.745396 146.6233 \nL 124.656479 146.78548 \nL 124.187544 145.879637 \nL 124.255894 145.595505 \nL 124.515926 145.160463 \nL 124.569614 144.536467 \nL 124.493346 143.702952 \nL 124.687779 143.560254 \nL 124.519595 141.719789 \nL 124.735819 141.360774 \nL 124.507824 141.111986 \nL 124.708311 140.86494 \nL 124.68769 139.563041 \nL 124.613366 138.712863 \nL 124.644597 137.187533 \nL 124.913907 137.185774 \nL 124.741018 136.361259 \nL 124.598849 136.467397 \nL 124.708882 135.543866 \nL 124.518898 134.739421 \nL 124.868334 134.677698 \nL 124.499051 133.192999 \nL 124.62059 132.934058 \nL 124.172519 132.765768 \nL 124.505993 132.094657 \nL 124.374793 131.477659 \nL 123.881778 130.831728 \nL 124.021589 130.554565 \nL 123.556267 130.184145 \nL 123.446724 129.532243 \nL 123.192 129.002889 \nL 122.910662 128.787758 \nL 122.518199 127.815353 \nL 122.387019 127.812539 \nL 121.953601 126.595489 \nL 121.985582 126.272377 \nL 121.685255 125.589151 \nL 121.548802 125.195064 \nL 121.05359 124.555989 \nL 120.686373 122.92474 \nL 120.556499 122.59818 \nL 120.723707 122.11873 \nL 120.582082 121.746316 \nL 120.96328 120.604091 \nL 120.354412 120.351101 \nL 119.956045 119.766438 \nL 119.745165 118.985521 \nL 119.708207 118.340896 \nL 119.425756 118.215144 \nL 119.824515 117.783828 \nL 119.434071 117.40894 \nL 119.59324 117.084051 \nL 119.549179 116.660684 \nL 119.628806 116.131068 \nL 119.384029 115.160041 \nL 119.656201 114.55326 \nL 119.452052 113.816424 \nL 119.557776 111.986813 \nL 119.698253 111.486569 \nL 119.502752 110.280413 \nL 119.659818 109.882916 \nL 119.462467 109.455981 \nL 119.63024 108.98655 \nL 119.420283 108.600968 \nL 119.519114 108.186879 \nL 119.577361 106.000975 \nL 119.6491 105.139454 \nL 119.522628 104.845524 \nL 119.470082 104.119229 \nL 119.711225 103.383179 \nL 119.524426 103.144267 \nL 119.29593 102.461933 \nL 119.625286 101.932772 \nL 119.512064 101.332137 \nL 119.692431 101.089236 \nL 119.386565 100.177287 \nL 119.664203 99.335521 \nL 119.468757 99.036011 \nL 119.32086 96.617358 \nL 119.672344 96.68612 \nL 119.534443 95.412319 \nL 119.785269 95.014143 \nL 119.315803 94.691852 \nL 119.410625 94.347378 \nL 119.410322 93.849574 \nL 119.537984 93.486187 \nL 119.687143 93.489475 \nL 119.418189 92.509096 \nL 119.4861 92.030412 \nL 119.359621 91.610496 \nL 119.562884 90.695272 \nL 119.427515 90.395453 \nL 119.615423 89.390064 \nL 119.448051 87.831092 \nL 119.502828 87.790261 \nL 119.416131 87.468877 \nL 119.363591 86.570387 \nL 119.541097 86.448172 \nL 119.586968 86.053089 \nL 119.388022 85.960744 \nL 119.619342 84.162636 \nL 119.452025 83.013932 \nL 119.423036 81.467199 \nL 119.560186 81.186593 \nL 119.464835 80.467716 \nL 119.645504 78.840664 \nL 119.534828 78.580734 \nL 119.434097 77.950676 \nL 119.575643 77.304361 \nL 119.409643 77.10446 \nL 119.407593 76.749262 \nL 119.68248 76.179308 \nL 119.547236 75.486041 \nL 119.545212 74.094686 \nL 119.520213 73.627681 \nL 119.313105 73.232217 \nL 119.462299 72.997461 \nL 119.446804 72.606369 \nL 119.670729 72.16409 \nL 119.434305 71.727595 \nL 119.528729 71.319643 \nL 119.388245 70.960546 \nL 119.5569 70.784556 \nL 119.655349 70.1214 \nL 119.605389 69.590709 \nL 119.25297 69.239787 \nL 119.633046 69.091314 \nL 119.577967 68.499604 \nL 119.697709 68.119641 \nL 119.622354 67.659987 \nL 119.395417 67.166361 \nL 119.459085 66.206403 \nL 119.862194 66.126488 \nL 119.800298 65.693489 \nL 119.554269 65.076631 \nL 119.859325 65.050256 \nL 119.26656 64.178248 \nL 119.600563 63.849278 \nL 119.534888 63.393918 \nL 119.778493 63.006655 \nL 119.411579 61.512488 \nL 119.631054 60.128804 \nL 119.471352 59.741911 \nL 119.604984 58.414152 \nL 119.554046 57.582183 \nL 119.66671 57.21312 \nL 119.617852 56.323985 \nL 119.930739 55.577351 \nL 119.906516 55.135964 \nL 120.14358 54.313842 \nL 120.459396 53.151315 \nL 121.119757 51.69067 \nL 121.238338 51.125559 \nL 121.516304 51.080719 \nL 121.673225 50.735487 \nL 121.723441 49.427106 \nL 121.895561 48.940617 \nL 122.105276 48.732039 \nL 122.03264 47.910179 \nL 122.393497 45.358493 \nL 122.689685 44.515477 \nL 123.143809 43.967423 \nL 123.42151 43.912811 \nL 123.282172 43.439956 \nL 123.381053 43.110489 \nL 123.208476 42.719099 \nL 123.172138 42.359643 \nL 123.368317 42.127129 \nL 123.194848 41.87961 \nL 123.351872 41.609109 \nL 123.434951 41.233034 \nL 123.529927 41.445589 \nL 123.332894 41.092024 \nL 123.303215 41.241567 \nL 123.176597 41.011379 \nL 123.547897 41.033474 \nL 123.433189 40.954503 \nL 123.396957 41.303366 \nL 123.39088 41.063474 \nL 123.211141 41.145721 \nL 123.457706 41.115605 \nL 123.411231 41.110173 \nL 123.461835 41.155146 \nL 123.30026 41.094773 \nL 123.364294 41.206822 \nL 123.228233 41.211331 \nL 123.458069 41.166724 \nL 123.275631 41.145723 \nL 123.283575 40.971556 \nL 123.235479 41.405564 \nL 123.246036 41.334463 \nL 123.451926 40.894792 \nL 123.282962 40.902943 \nL 123.331792 41.167756 \nL 123.357191 41.037712 \nL 123.394712 40.849888 \nL 123.276134 40.720512 \nL 123.372916 40.200977 \nL 123.293497 39.797782 \nL 123.379547 39.689894 \nL 123.220162 39.042906 \nL 123.373661 38.469066 \nL 123.295313 37.929188 \nL 123.39276 37.454947 \nL 123.191226 37.309099 \nL 123.391498 36.329736 \nL 123.267676 36.04552 \nL 123.363847 35.467532 \nL 123.186011 33.763418 \nL 123.363387 33.140005 \nL 123.137452 32.905602 \nL 123.28475 32.855479 \nL 123.192836 32.638988 \nL 123.248083 32.63828 \nL 123.113127 32.800688 \nL 122.963937 32.725931 \nL 123.063483 32.778958 \nL 123.560673 32.477321 \nL 123.34774 32.659157 \nL 123.554839 32.255138 \nL 123.255046 32.617027 \nL 123.383497 32.555906 \nL 123.18097 32.724962 \nL 123.23357 32.694375 \nL 123.294305 32.83069 \nL 123.176376 32.934471 \nL 123.448391 32.689885 \nL 123.383144 32.65274 \nL 123.450058 32.508237 \nL 123.365196 32.652124 \nL 123.18548 32.751239 \nL 123.355173 32.522057 \nL 122.923307 33.238244 \nL 122.834036 33.141699 \nL 122.900378 33.326659 \nL 123.372884 32.567347 \nL 123.099944 32.795443 \nL 123.120129 32.829284 \nL 122.871687 32.365358 \nL 122.699341 32.453424 \nL 122.511292 32.275728 \nL 122.061347 32.510941 \nL 121.832248 32.41847 \nL 121.524187 32.508033 \nL 121.46783 32.656295 \nL 120.798581 32.3787 \nL 120.426211 32.59895 \nL 120.274776 32.457076 \nL 119.956218 32.42665 \nL 119.905607 32.54943 \nL 120.073807 32.409671 \nL 120.115109 32.710531 \nL 119.953073 32.302723 \nL 120.286303 32.696943 \nL 120.178264 32.577116 \nL 120.115002 32.753898 \nL 119.860764 32.524567 \nL 119.515046 32.456065 \nL 119.388627 32.432446 \nL 119.347795 32.65625 \nL 119.139085 32.331401 \nL 118.805935 32.443919 \nL 118.539952 32.531644 \nL 118.297458 32.415314 \nL 118.057478 32.537321 \nL 117.903878 32.431125 \nL 117.839537 32.757838 \nL 117.110376 32.405792 \nL 116.417802 32.494774 \nL 116.134872 32.41727 \nL 115.988135 32.530125 \nL 115.736194 32.399265 \nL 115.706362 32.841113 \nL 115.418631 32.339423 \nL 115.241545 32.582603 \nL 114.997357 32.607677 \nL 114.747766 32.458918 \nL 114.45099 32.670838 \nL 114.064174 32.576653 \nL 113.906901 32.251904 \nL 113.80539 32.610943 \nL 113.577277 32.69221 \nL 113.213952 32.519258 \nL 112.97353 32.201761 \nL 112.864163 32.563825 \nL 112.604746 32.502634 \nL 112.4597 32.590137 \nL 112.178326 32.35548 \nL 112.094565 32.566214 \nL 111.550678 32.418836 \nL 111.097572 32.402946 \nL 111.104722 32.587778 \nL 110.940571 32.553478 \nL 110.910195 32.398686 \nL 110.936899 32.490035 \nL 111.052358 32.510373 \nL 110.787629 32.57386 \nL 110.803061 32.488722 \nL 111.030255 32.942108 \nL 110.677299 32.428064 \nL 110.677299 32.428064 \n\" style=\"fill:none;stroke:#1f77b4;stroke-linecap:square;stroke-width:1.5;\"/>\n   </g>\n   <g id=\"patch_3\">\n    <path d=\"M 108.957811 239.758125 \nL 108.957811 22.318125 \n\" style=\"fill:none;stroke:#000000;stroke-linecap:square;stroke-linejoin:miter;stroke-width:0.8;\"/>\n   </g>\n   <g id=\"patch_4\">\n    <path d=\"M 146.786564 239.758125 \nL 146.786564 22.318125 \n\" style=\"fill:none;stroke:#000000;stroke-linecap:square;stroke-linejoin:miter;stroke-width:0.8;\"/>\n   </g>\n   <g id=\"patch_5\">\n    <path d=\"M 108.957811 239.758125 \nL 146.786564 239.758125 \n\" style=\"fill:none;stroke:#000000;stroke-linecap:square;stroke-linejoin:miter;stroke-width:0.8;\"/>\n   </g>\n   <g id=\"patch_6\">\n    <path d=\"M 108.957811 22.318125 \nL 146.786564 22.318125 \n\" style=\"fill:none;stroke:#000000;stroke-linecap:square;stroke-linejoin:miter;stroke-width:0.8;\"/>\n   </g>\n   <g id=\"text_11\">\n    <!-- Basic Least Squares Position Calculation -->\n    <g transform=\"translate(7.2 16.318125)scale(0.12 -0.12)\">\n     <defs>\n      <path d=\"M 19.671875 34.8125 \nL 19.671875 8.109375 \nL 35.5 8.109375 \nQ 43.453125 8.109375 47.28125 11.40625 \nQ 51.125 14.703125 51.125 21.484375 \nQ 51.125 28.328125 47.28125 31.5625 \nQ 43.453125 34.8125 35.5 34.8125 \nz\nM 19.671875 64.796875 \nL 19.671875 42.828125 \nL 34.28125 42.828125 \nQ 41.5 42.828125 45.03125 45.53125 \nQ 48.578125 48.25 48.578125 53.8125 \nQ 48.578125 59.328125 45.03125 62.0625 \nQ 41.5 64.796875 34.28125 64.796875 \nz\nM 9.8125 72.90625 \nL 35.015625 72.90625 \nQ 46.296875 72.90625 52.390625 68.21875 \nQ 58.5 63.53125 58.5 54.890625 \nQ 58.5 48.1875 55.375 44.234375 \nQ 52.25 40.28125 46.1875 39.3125 \nQ 53.46875 37.75 57.5 32.78125 \nQ 61.53125 27.828125 61.53125 20.40625 \nQ 61.53125 10.640625 54.890625 5.3125 \nQ 48.25 0 35.984375 0 \nL 9.8125 0 \nz\n\" id=\"DejaVuSans-66\"/>\n      <path d=\"M 9.421875 54.6875 \nL 18.40625 54.6875 \nL 18.40625 0 \nL 9.421875 0 \nz\nM 9.421875 75.984375 \nL 18.40625 75.984375 \nL 18.40625 64.59375 \nL 9.421875 64.59375 \nz\n\" id=\"DejaVuSans-105\"/>\n      <path d=\"M 48.78125 52.59375 \nL 48.78125 44.1875 \nQ 44.96875 46.296875 41.140625 47.34375 \nQ 37.3125 48.390625 33.40625 48.390625 \nQ 24.65625 48.390625 19.8125 42.84375 \nQ 14.984375 37.3125 14.984375 27.296875 \nQ 14.984375 17.28125 19.8125 11.734375 \nQ 24.65625 6.203125 33.40625 6.203125 \nQ 37.3125 6.203125 41.140625 7.25 \nQ 44.96875 8.296875 48.78125 10.40625 \nL 48.78125 2.09375 \nQ 45.015625 0.34375 40.984375 -0.53125 \nQ 36.96875 -1.421875 32.421875 -1.421875 \nQ 20.0625 -1.421875 12.78125 6.34375 \nQ 5.515625 14.109375 5.515625 27.296875 \nQ 5.515625 40.671875 12.859375 48.328125 \nQ 20.21875 56 33.015625 56 \nQ 37.15625 56 41.109375 55.140625 \nQ 45.0625 54.296875 48.78125 52.59375 \nz\n\" id=\"DejaVuSans-99\"/>\n      <path d=\"M 9.8125 72.90625 \nL 19.671875 72.90625 \nL 19.671875 8.296875 \nL 55.171875 8.296875 \nL 55.171875 0 \nL 9.8125 0 \nz\n\" id=\"DejaVuSans-76\"/>\n      <path d=\"M 56.203125 29.59375 \nL 56.203125 25.203125 \nL 14.890625 25.203125 \nQ 15.484375 15.921875 20.484375 11.0625 \nQ 25.484375 6.203125 34.421875 6.203125 \nQ 39.59375 6.203125 44.453125 7.46875 \nQ 49.3125 8.734375 54.109375 11.28125 \nL 54.109375 2.78125 \nQ 49.265625 0.734375 44.1875 -0.34375 \nQ 39.109375 -1.421875 33.890625 -1.421875 \nQ 20.796875 -1.421875 13.15625 6.1875 \nQ 5.515625 13.8125 5.515625 26.8125 \nQ 5.515625 40.234375 12.765625 48.109375 \nQ 20.015625 56 32.328125 56 \nQ 43.359375 56 49.78125 48.890625 \nQ 56.203125 41.796875 56.203125 29.59375 \nz\nM 47.21875 32.234375 \nQ 47.125 39.59375 43.09375 43.984375 \nQ 39.0625 48.390625 32.421875 48.390625 \nQ 24.90625 48.390625 20.390625 44.140625 \nQ 15.875 39.890625 15.1875 32.171875 \nz\n\" id=\"DejaVuSans-101\"/>\n      <path d=\"M 53.515625 70.515625 \nL 53.515625 60.890625 \nQ 47.90625 63.578125 42.921875 64.890625 \nQ 37.9375 66.21875 33.296875 66.21875 \nQ 25.25 66.21875 20.875 63.09375 \nQ 16.5 59.96875 16.5 54.203125 \nQ 16.5 49.359375 19.40625 46.890625 \nQ 22.3125 44.4375 30.421875 42.921875 \nL 36.375 41.703125 \nQ 47.40625 39.59375 52.65625 34.296875 \nQ 57.90625 29 57.90625 20.125 \nQ 57.90625 9.515625 50.796875 4.046875 \nQ 43.703125 -1.421875 29.984375 -1.421875 \nQ 24.8125 -1.421875 18.96875 -0.25 \nQ 13.140625 0.921875 6.890625 3.21875 \nL 6.890625 13.375 \nQ 12.890625 10.015625 18.65625 8.296875 \nQ 24.421875 6.59375 29.984375 6.59375 \nQ 38.421875 6.59375 43.015625 9.90625 \nQ 47.609375 13.234375 47.609375 19.390625 \nQ 47.609375 24.75 44.3125 27.78125 \nQ 41.015625 30.8125 33.5 32.328125 \nL 27.484375 33.5 \nQ 16.453125 35.6875 11.515625 40.375 \nQ 6.59375 45.0625 6.59375 53.421875 \nQ 6.59375 63.09375 13.40625 68.65625 \nQ 20.21875 74.21875 32.171875 74.21875 \nQ 37.3125 74.21875 42.625 73.28125 \nQ 47.953125 72.359375 53.515625 70.515625 \nz\n\" id=\"DejaVuSans-83\"/>\n      <path d=\"M 14.796875 27.296875 \nQ 14.796875 17.390625 18.875 11.75 \nQ 22.953125 6.109375 30.078125 6.109375 \nQ 37.203125 6.109375 41.296875 11.75 \nQ 45.40625 17.390625 45.40625 27.296875 \nQ 45.40625 37.203125 41.296875 42.84375 \nQ 37.203125 48.484375 30.078125 48.484375 \nQ 22.953125 48.484375 18.875 42.84375 \nQ 14.796875 37.203125 14.796875 27.296875 \nz\nM 45.40625 8.203125 \nQ 42.578125 3.328125 38.25 0.953125 \nQ 33.9375 -1.421875 27.875 -1.421875 \nQ 17.96875 -1.421875 11.734375 6.484375 \nQ 5.515625 14.40625 5.515625 27.296875 \nQ 5.515625 40.1875 11.734375 48.09375 \nQ 17.96875 56 27.875 56 \nQ 33.9375 56 38.25 53.625 \nQ 42.578125 51.265625 45.40625 46.390625 \nL 45.40625 54.6875 \nL 54.390625 54.6875 \nL 54.390625 -20.796875 \nL 45.40625 -20.796875 \nz\n\" id=\"DejaVuSans-113\"/>\n      <path d=\"M 8.5 21.578125 \nL 8.5 54.6875 \nL 17.484375 54.6875 \nL 17.484375 21.921875 \nQ 17.484375 14.15625 20.5 10.265625 \nQ 23.53125 6.390625 29.59375 6.390625 \nQ 36.859375 6.390625 41.078125 11.03125 \nQ 45.3125 15.671875 45.3125 23.6875 \nL 45.3125 54.6875 \nL 54.296875 54.6875 \nL 54.296875 0 \nL 45.3125 0 \nL 45.3125 8.40625 \nQ 42.046875 3.421875 37.71875 1 \nQ 33.40625 -1.421875 27.6875 -1.421875 \nQ 18.265625 -1.421875 13.375 4.4375 \nQ 8.5 10.296875 8.5 21.578125 \nz\nM 31.109375 56 \nz\n\" id=\"DejaVuSans-117\"/>\n      <path d=\"M 19.671875 64.796875 \nL 19.671875 37.40625 \nL 32.078125 37.40625 \nQ 38.96875 37.40625 42.71875 40.96875 \nQ 46.484375 44.53125 46.484375 51.125 \nQ 46.484375 57.671875 42.71875 61.234375 \nQ 38.96875 64.796875 32.078125 64.796875 \nz\nM 9.8125 72.90625 \nL 32.078125 72.90625 \nQ 44.34375 72.90625 50.609375 67.359375 \nQ 56.890625 61.8125 56.890625 51.125 \nQ 56.890625 40.328125 50.609375 34.8125 \nQ 44.34375 29.296875 32.078125 29.296875 \nL 19.671875 29.296875 \nL 19.671875 0 \nL 9.8125 0 \nz\n\" id=\"DejaVuSans-80\"/>\n      <path d=\"M 54.890625 33.015625 \nL 54.890625 0 \nL 45.90625 0 \nL 45.90625 32.71875 \nQ 45.90625 40.484375 42.875 44.328125 \nQ 39.84375 48.1875 33.796875 48.1875 \nQ 26.515625 48.1875 22.3125 43.546875 \nQ 18.109375 38.921875 18.109375 30.90625 \nL 18.109375 0 \nL 9.078125 0 \nL 9.078125 54.6875 \nL 18.109375 54.6875 \nL 18.109375 46.1875 \nQ 21.34375 51.125 25.703125 53.5625 \nQ 30.078125 56 35.796875 56 \nQ 45.21875 56 50.046875 50.171875 \nQ 54.890625 44.34375 54.890625 33.015625 \nz\n\" id=\"DejaVuSans-110\"/>\n      <path d=\"M 64.40625 67.28125 \nL 64.40625 56.890625 \nQ 59.421875 61.53125 53.78125 63.8125 \nQ 48.140625 66.109375 41.796875 66.109375 \nQ 29.296875 66.109375 22.65625 58.46875 \nQ 16.015625 50.828125 16.015625 36.375 \nQ 16.015625 21.96875 22.65625 14.328125 \nQ 29.296875 6.6875 41.796875 6.6875 \nQ 48.140625 6.6875 53.78125 8.984375 \nQ 59.421875 11.28125 64.40625 15.921875 \nL 64.40625 5.609375 \nQ 59.234375 2.09375 53.4375 0.328125 \nQ 47.65625 -1.421875 41.21875 -1.421875 \nQ 24.65625 -1.421875 15.125 8.703125 \nQ 5.609375 18.84375 5.609375 36.375 \nQ 5.609375 53.953125 15.125 64.078125 \nQ 24.65625 74.21875 41.21875 74.21875 \nQ 47.75 74.21875 53.53125 72.484375 \nQ 59.328125 70.75 64.40625 67.28125 \nz\n\" id=\"DejaVuSans-67\"/>\n      <path d=\"M 9.421875 75.984375 \nL 18.40625 75.984375 \nL 18.40625 0 \nL 9.421875 0 \nz\n\" id=\"DejaVuSans-108\"/>\n     </defs>\n     <use xlink:href=\"#DejaVuSans-66\"/>\n     <use x=\"68.603516\" xlink:href=\"#DejaVuSans-97\"/>\n     <use x=\"129.882812\" xlink:href=\"#DejaVuSans-115\"/>\n     <use x=\"181.982422\" xlink:href=\"#DejaVuSans-105\"/>\n     <use x=\"209.765625\" xlink:href=\"#DejaVuSans-99\"/>\n     <use x=\"264.746094\" xlink:href=\"#DejaVuSans-32\"/>\n     <use x=\"296.533203\" xlink:href=\"#DejaVuSans-76\"/>\n     <use x=\"350.496094\" xlink:href=\"#DejaVuSans-101\"/>\n     <use x=\"412.019531\" xlink:href=\"#DejaVuSans-97\"/>\n     <use x=\"473.298828\" xlink:href=\"#DejaVuSans-115\"/>\n     <use x=\"525.398438\" xlink:href=\"#DejaVuSans-116\"/>\n     <use x=\"564.607422\" xlink:href=\"#DejaVuSans-32\"/>\n     <use x=\"596.394531\" xlink:href=\"#DejaVuSans-83\"/>\n     <use x=\"659.871094\" xlink:href=\"#DejaVuSans-113\"/>\n     <use x=\"723.347656\" xlink:href=\"#DejaVuSans-117\"/>\n     <use x=\"786.726562\" xlink:href=\"#DejaVuSans-97\"/>\n     <use x=\"848.005859\" xlink:href=\"#DejaVuSans-114\"/>\n     <use x=\"886.869141\" xlink:href=\"#DejaVuSans-101\"/>\n     <use x=\"948.392578\" xlink:href=\"#DejaVuSans-115\"/>\n     <use x=\"1000.492188\" xlink:href=\"#DejaVuSans-32\"/>\n     <use x=\"1032.279297\" xlink:href=\"#DejaVuSans-80\"/>\n     <use x=\"1088.957031\" xlink:href=\"#DejaVuSans-111\"/>\n     <use x=\"1150.138672\" xlink:href=\"#DejaVuSans-115\"/>\n     <use x=\"1202.238281\" xlink:href=\"#DejaVuSans-105\"/>\n     <use x=\"1230.021484\" xlink:href=\"#DejaVuSans-116\"/>\n     <use x=\"1269.230469\" xlink:href=\"#DejaVuSans-105\"/>\n     <use x=\"1297.013672\" xlink:href=\"#DejaVuSans-111\"/>\n     <use x=\"1358.195312\" xlink:href=\"#DejaVuSans-110\"/>\n     <use x=\"1421.574219\" xlink:href=\"#DejaVuSans-32\"/>\n     <use x=\"1453.361328\" xlink:href=\"#DejaVuSans-67\"/>\n     <use x=\"1523.185547\" xlink:href=\"#DejaVuSans-97\"/>\n     <use x=\"1584.464844\" xlink:href=\"#DejaVuSans-108\"/>\n     <use x=\"1612.248047\" xlink:href=\"#DejaVuSans-99\"/>\n     <use x=\"1667.228516\" xlink:href=\"#DejaVuSans-117\"/>\n     <use x=\"1730.607422\" xlink:href=\"#DejaVuSans-108\"/>\n     <use x=\"1758.390625\" xlink:href=\"#DejaVuSans-97\"/>\n     <use x=\"1819.669922\" xlink:href=\"#DejaVuSans-116\"/>\n     <use x=\"1858.878906\" xlink:href=\"#DejaVuSans-105\"/>\n     <use x=\"1886.662109\" xlink:href=\"#DejaVuSans-111\"/>\n     <use x=\"1947.84375\" xlink:href=\"#DejaVuSans-110\"/>\n    </g>\n   </g>\n  </g>\n </g>\n <defs>\n  <clipPath id=\"p06b37fa110\">\n   <rect height=\"217.44\" width=\"37.828754\" x=\"108.957811\" y=\"22.318125\"/>\n  </clipPath>\n </defs>\n</svg>\n",
      "image/png": "[encoded data removed]"
     },
     "metadata": {
      "needs_background": "light"
     }
    }
   ],
   "source": [
    "import matplotlib.pyplot as plt\n",
    "ned_df = pd.DataFrame(ned_list, columns=['N', 'E', 'D'])\n",
    "plt.plot(ned_df['E'], ned_df['N'])\n",
    "\n",
    "# Add titles\n",
    "plt.title('Basic Least Squares Position Calculation')\n",
    "plt.xlabel(\"East (m)\")\n",
    "plt.ylabel(\"North (m)\")\n",
    "plt.gca().set_aspect('equal', adjustable='box')"
   ]
  }
 ],
 "metadata": {
  "kernelspec": {
   "display_name": "Python 3",
   "language": "python",
   "name": "python3"
  },
  "language_info": {
   "codemirror_mode": {
    "name": "ipython",
    "version": 3
   },
   "file_extension": ".py",
   "mimetype": "text/x-python",
   "name": "python",
   "nbconvert_exporter": "python",
   "pygments_lexer": "ipython3",
   "version": "3.8.5-final"
  },
  "orig_nbformat": 2
 },
 "nbformat": 4,
 "nbformat_minor": 2
}